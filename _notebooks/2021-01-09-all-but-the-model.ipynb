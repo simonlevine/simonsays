{
 "metadata": {
  "language_info": {
   "codemirror_mode": {
    "name": "ipython",
    "version": 3
   },
   "file_extension": ".py",
   "mimetype": "text/x-python",
   "name": "python",
   "nbconvert_exporter": "python",
   "pygments_lexer": "ipython3",
   "version": "3.8.3-final"
  },
  "orig_nbformat": 2,
  "kernelspec": {
   "name": "python38364bitptxmlctransformerconda0119e8859be74bcf97d8300e76407f85",
   "display_name": "Python 3.8.3 64-bit ('pt_xmlc_transformer': conda)",
   "language": "python"
  }
 },
 "nbformat": 4,
 "nbformat_minor": 2,
 "cells": [
  {
   "source": [
    "# Everything but the Model\n",
    "> An outline of data loading, feature extraction, feature selection, model evaluation, and model evaluation.\n",
    "\n",
    "- toc: true \n",
    "- badges: true\n",
    "- comments: true\n",
    "- categories: [jupyter]\n"
   ],
   "cell_type": "markdown",
   "metadata": {}
  },
  {
   "source": [
    "# Background\n",
    "\n",
    "Most of the attention with regard to machine learning goes to the models, with good reason. We are at the point where we can reasonably model any $X\\to y$ relationship we wish. Difficult classification and clustering problems are increasingly tractable with clever approaches in statistical and rules-based learning. Even if we have no clue how to begin to go about developing such an approach (or such an approach would be intractable / biased), we can train deep neural networks – Universal Approximators – to theoretically represent almost any $f(x)= y = Wx + b$ relationship given properly trained weights $W$.\n",
    "\n",
    "Still, humans are likely to be of use for the foreseeable future, and one of the more useful domains is the preparation of dat for such modeling. This includes topics such as feature selection and feature extraction, and how we might select the best model based on a rigorous, generalizable evaluation metric.\n",
    "\n",
    "In this post, I will outline some of these useful topics with the hope that you will be able to tackle most everything about machine learning but the machine itself."
   ],
   "cell_type": "markdown",
   "metadata": {}
  },
  {
   "source": [
    "## Example Dataset\n",
    "\n",
    "I will use the COVID-19 Cell Atlas' nasal immunodefiency swab dataset (https://www.sanger.ac.uk/group/vento-tormo-group/) for examples to follow. This is a recent dataset of real patients. I will use the ```scanpy``` package to load in the data and take a ```pandas``` dataframe for examples for feed into ```scikit-learn```.\n",
    "\n",
    "For the response variable, I will use ```Vasoactive agents required during hospitalization```, a proxy for severity of symptoms and infection."
   ],
   "cell_type": "markdown",
   "metadata": {}
  },
  {
   "cell_type": "code",
   "execution_count": 46,
   "metadata": {},
   "outputs": [
    {
     "output_type": "execute_result",
     "data": {
      "text/plain": [
       "                                         CellType  log2p1_RNAcount  \\\n",
       "GW1_AAACGGGAGCTAGTCT-1       Secretary epithelium        14.909096   \n",
       "GW1_AAAGTAGTCCTAGGGC-1  Secretary epithelium KRT5        13.611947   \n",
       "GW1_AACACGTCAGCGTCCA-1        Ciliated epithelium         9.366322   \n",
       "GW1_AACCATGAGAATCTCC-1       Secretary epithelium        15.217731   \n",
       "GW1_AACCATGCATCCTTGC-1        Ciliated epithelium         9.134426   \n",
       "\n",
       "                        nFeature_RNA  MT_fraction  Viral Molecules  \\\n",
       "GW1_AAACGGGAGCTAGTCT-1          5687     0.042059                0   \n",
       "GW1_AAAGTAGTCCTAGGGC-1          3967     0.097771                0   \n",
       "GW1_AACACGTCAGCGTCCA-1           513     0.036419                0   \n",
       "GW1_AACCATGAGAATCTCC-1          6260     0.053720                0   \n",
       "GW1_AACCATGCATCCTTGC-1           439     0.016043                0   \n",
       "\n",
       "                          Lab number Donor Id Age Sex   Race  ...  \\\n",
       "GW1_AAACGGGAGCTAGTCT-1  CV19-1-S3.2A   GWAS_1  18   F  White  ...   \n",
       "GW1_AAAGTAGTCCTAGGGC-1  CV19-1-S3.2A   GWAS_1  18   F  White  ...   \n",
       "GW1_AACACGTCAGCGTCCA-1  CV19-1-S3.2A   GWAS_1  18   F  White  ...   \n",
       "GW1_AACCATGAGAATCTCC-1  CV19-1-S3.2A   GWAS_1  18   F  White  ...   \n",
       "GW1_AACCATGCATCCTTGC-1  CV19-1-S3.2A   GWAS_1  18   F  White  ...   \n",
       "\n",
       "                       Pre-existing Hypertension  \\\n",
       "GW1_AAACGGGAGCTAGTCT-1                        No   \n",
       "GW1_AAAGTAGTCCTAGGGC-1                        No   \n",
       "GW1_AACACGTCAGCGTCCA-1                        No   \n",
       "GW1_AACCATGAGAATCTCC-1                        No   \n",
       "GW1_AACCATGCATCCTTGC-1                        No   \n",
       "\n",
       "                       Pre-existing immunocompromised condition  \\\n",
       "GW1_AAACGGGAGCTAGTCT-1                                      Yes   \n",
       "GW1_AAAGTAGTCCTAGGGC-1                                      Yes   \n",
       "GW1_AACACGTCAGCGTCCA-1                                      Yes   \n",
       "GW1_AACCATGAGAATCTCC-1                                      Yes   \n",
       "GW1_AACCATGCATCCTTGC-1                                      Yes   \n",
       "\n",
       "                                 Smoking SARS-CoV-2 PCR SARS-CoV-2 Ab  \\\n",
       "GW1_AAACGGGAGCTAGTCT-1  Never or unknown       Positive           NaN   \n",
       "GW1_AAAGTAGTCCTAGGGC-1  Never or unknown       Positive           NaN   \n",
       "GW1_AACACGTCAGCGTCCA-1  Never or unknown       Positive           NaN   \n",
       "GW1_AACCATGAGAATCTCC-1  Never or unknown       Positive           NaN   \n",
       "GW1_AACCATGCATCCTTGC-1  Never or unknown       Positive           NaN   \n",
       "\n",
       "                       Symptomatic Admitted to hospital  \\\n",
       "GW1_AAACGGGAGCTAGTCT-1         Yes                  Yes   \n",
       "GW1_AAAGTAGTCCTAGGGC-1         Yes                  Yes   \n",
       "GW1_AACACGTCAGCGTCCA-1         Yes                  Yes   \n",
       "GW1_AACCATGAGAATCTCC-1         Yes                  Yes   \n",
       "GW1_AACCATGCATCCTTGC-1         Yes                  Yes   \n",
       "\n",
       "                          Highest level of respiratory support  \\\n",
       "GW1_AAACGGGAGCTAGTCT-1  Mechanical ventilation with intubation   \n",
       "GW1_AAAGTAGTCCTAGGGC-1  Mechanical ventilation with intubation   \n",
       "GW1_AACACGTCAGCGTCCA-1  Mechanical ventilation with intubation   \n",
       "GW1_AACCATGAGAATCTCC-1  Mechanical ventilation with intubation   \n",
       "GW1_AACCATGCATCCTTGC-1  Mechanical ventilation with intubation   \n",
       "\n",
       "                       Vasoactive agents required during hospitalization  \\\n",
       "GW1_AAACGGGAGCTAGTCT-1                                               Yes   \n",
       "GW1_AAAGTAGTCCTAGGGC-1                                               Yes   \n",
       "GW1_AACACGTCAGCGTCCA-1                                               Yes   \n",
       "GW1_AACCATGAGAATCTCC-1                                               Yes   \n",
       "GW1_AACCATGCATCCTTGC-1                                               Yes   \n",
       "\n",
       "                       28-day death  \n",
       "GW1_AAACGGGAGCTAGTCT-1           No  \n",
       "GW1_AAAGTAGTCCTAGGGC-1           No  \n",
       "GW1_AACACGTCAGCGTCCA-1           No  \n",
       "GW1_AACCATGAGAATCTCC-1           No  \n",
       "GW1_AACCATGCATCCTTGC-1           No  \n",
       "\n",
       "[5 rows x 26 columns]"
      ],
      "text/html": "<div>\n<style scoped>\n    .dataframe tbody tr th:only-of-type {\n        vertical-align: middle;\n    }\n\n    .dataframe tbody tr th {\n        vertical-align: top;\n    }\n\n    .dataframe thead th {\n        text-align: right;\n    }\n</style>\n<table border=\"1\" class=\"dataframe\">\n  <thead>\n    <tr style=\"text-align: right;\">\n      <th></th>\n      <th>CellType</th>\n      <th>log2p1_RNAcount</th>\n      <th>nFeature_RNA</th>\n      <th>MT_fraction</th>\n      <th>Viral Molecules</th>\n      <th>Lab number</th>\n      <th>Donor Id</th>\n      <th>Age</th>\n      <th>Sex</th>\n      <th>Race</th>\n      <th>...</th>\n      <th>Pre-existing Hypertension</th>\n      <th>Pre-existing immunocompromised condition</th>\n      <th>Smoking</th>\n      <th>SARS-CoV-2 PCR</th>\n      <th>SARS-CoV-2 Ab</th>\n      <th>Symptomatic</th>\n      <th>Admitted to hospital</th>\n      <th>Highest level of respiratory support</th>\n      <th>Vasoactive agents required during hospitalization</th>\n      <th>28-day death</th>\n    </tr>\n  </thead>\n  <tbody>\n    <tr>\n      <th>GW1_AAACGGGAGCTAGTCT-1</th>\n      <td>Secretary epithelium</td>\n      <td>14.909096</td>\n      <td>5687</td>\n      <td>0.042059</td>\n      <td>0</td>\n      <td>CV19-1-S3.2A</td>\n      <td>GWAS_1</td>\n      <td>18</td>\n      <td>F</td>\n      <td>White</td>\n      <td>...</td>\n      <td>No</td>\n      <td>Yes</td>\n      <td>Never or unknown</td>\n      <td>Positive</td>\n      <td>NaN</td>\n      <td>Yes</td>\n      <td>Yes</td>\n      <td>Mechanical ventilation with intubation</td>\n      <td>Yes</td>\n      <td>No</td>\n    </tr>\n    <tr>\n      <th>GW1_AAAGTAGTCCTAGGGC-1</th>\n      <td>Secretary epithelium KRT5</td>\n      <td>13.611947</td>\n      <td>3967</td>\n      <td>0.097771</td>\n      <td>0</td>\n      <td>CV19-1-S3.2A</td>\n      <td>GWAS_1</td>\n      <td>18</td>\n      <td>F</td>\n      <td>White</td>\n      <td>...</td>\n      <td>No</td>\n      <td>Yes</td>\n      <td>Never or unknown</td>\n      <td>Positive</td>\n      <td>NaN</td>\n      <td>Yes</td>\n      <td>Yes</td>\n      <td>Mechanical ventilation with intubation</td>\n      <td>Yes</td>\n      <td>No</td>\n    </tr>\n    <tr>\n      <th>GW1_AACACGTCAGCGTCCA-1</th>\n      <td>Ciliated epithelium</td>\n      <td>9.366322</td>\n      <td>513</td>\n      <td>0.036419</td>\n      <td>0</td>\n      <td>CV19-1-S3.2A</td>\n      <td>GWAS_1</td>\n      <td>18</td>\n      <td>F</td>\n      <td>White</td>\n      <td>...</td>\n      <td>No</td>\n      <td>Yes</td>\n      <td>Never or unknown</td>\n      <td>Positive</td>\n      <td>NaN</td>\n      <td>Yes</td>\n      <td>Yes</td>\n      <td>Mechanical ventilation with intubation</td>\n      <td>Yes</td>\n      <td>No</td>\n    </tr>\n    <tr>\n      <th>GW1_AACCATGAGAATCTCC-1</th>\n      <td>Secretary epithelium</td>\n      <td>15.217731</td>\n      <td>6260</td>\n      <td>0.053720</td>\n      <td>0</td>\n      <td>CV19-1-S3.2A</td>\n      <td>GWAS_1</td>\n      <td>18</td>\n      <td>F</td>\n      <td>White</td>\n      <td>...</td>\n      <td>No</td>\n      <td>Yes</td>\n      <td>Never or unknown</td>\n      <td>Positive</td>\n      <td>NaN</td>\n      <td>Yes</td>\n      <td>Yes</td>\n      <td>Mechanical ventilation with intubation</td>\n      <td>Yes</td>\n      <td>No</td>\n    </tr>\n    <tr>\n      <th>GW1_AACCATGCATCCTTGC-1</th>\n      <td>Ciliated epithelium</td>\n      <td>9.134426</td>\n      <td>439</td>\n      <td>0.016043</td>\n      <td>0</td>\n      <td>CV19-1-S3.2A</td>\n      <td>GWAS_1</td>\n      <td>18</td>\n      <td>F</td>\n      <td>White</td>\n      <td>...</td>\n      <td>No</td>\n      <td>Yes</td>\n      <td>Never or unknown</td>\n      <td>Positive</td>\n      <td>NaN</td>\n      <td>Yes</td>\n      <td>Yes</td>\n      <td>Mechanical ventilation with intubation</td>\n      <td>Yes</td>\n      <td>No</td>\n    </tr>\n  </tbody>\n</table>\n<p>5 rows × 26 columns</p>\n</div>"
     },
     "metadata": {},
     "execution_count": 46
    }
   ],
   "source": [
    "import scanpy\n",
    "\n",
    "dataset = scanpy.read_h5ad('../data/2021-01-09/Immunodeficiency_Nasal_swabs.h5ad')\n",
    "y = dataset.obs['Vasoactive agents required during hospitalization']\n",
    "X = dataset.obs.drop(columns=['Vasoactive agents required during hospitalization'])\n",
    "\n",
    "dataset.obs.head()"
   ]
  },
  {
   "cell_type": "code",
   "execution_count": 50,
   "metadata": {},
   "outputs": [
    {
     "output_type": "execute_result",
     "data": {
      "text/plain": [
       "Index(['CellType', 'log2p1_RNAcount', 'nFeature_RNA', 'MT_fraction',\n",
       "       'Viral Molecules', 'Lab number', 'Donor Id', 'Age', 'Sex', 'Race',\n",
       "       'Ethnicity', 'BMI', 'Pre-existing heart disease',\n",
       "       'Pre-existing lung disease', 'Pre-existing kidney disease',\n",
       "       'Pre-existing diabetes', 'Pre-existing Hypertension',\n",
       "       'Pre-existing immunocompromised condition', 'Smoking', 'SARS-CoV-2 PCR',\n",
       "       'Symptomatic', 'Admitted to hospital',\n",
       "       'Highest level of respiratory support', '28-day death'],\n",
       "      dtype='object')"
      ]
     },
     "metadata": {},
     "execution_count": 50
    }
   ],
   "source": [
    "X.columns"
   ]
  },
  {
   "source": [
    "This is a good toy dataset. We have a mixture of categorical, continuous-valued, integer-valued, string-valued, and others, as well as a clean binary ```Yes``` or ```No``` response variable."
   ],
   "cell_type": "markdown",
   "metadata": {}
  },
  {
   "source": [
    "#  Wrangling\n",
    "\n",
    "A few short operations will make life easier later on."
   ],
   "cell_type": "markdown",
   "metadata": {}
  },
  {
   "source": [
    "## Dealing with NaN (Missing Values)\n",
    "\n",
    "You can see in the ```SARS-CoV-2 Ab``` column that we have NaN values. Although classifier implementations may have built-in accommodations, it may best best to deal with these values in a way we can fully control."
   ],
   "cell_type": "markdown",
   "metadata": {}
  },
  {
   "cell_type": "code",
   "execution_count": 36,
   "metadata": {},
   "outputs": [
    {
     "output_type": "stream",
     "name": "stdout",
     "text": [
      "GW1_AAACGGGAGCTAGTCT-1     NaN\nGW1_AAAGTAGTCCTAGGGC-1     NaN\nGW1_AACACGTCAGCGTCCA-1     NaN\nGW1_AACCATGAGAATCTCC-1     NaN\nGW1_AACCATGCATCCTTGC-1     NaN\n                          ... \nGW13_TTTCCTCCAAGCCTAT-1    NaN\nGW13_TTTCCTCCAAGTCTGT-1    NaN\nGW13_TTTGTCAAGCCCAATT-1    NaN\nGW13_TTTGTCAGTAGGACAC-1    NaN\nGW13_TTTGTCATCGTGTAGT-1    NaN\nName: SARS-CoV-2 Ab, Length: 4936, dtype: category\nCategories (3, object): ['Not done' < 'Negative' < 'Positive']\n"
     ]
    }
   ],
   "source": [
    "print(X['SARS-CoV-2 Ab'])"
   ]
  },
  {
   "source": [
    "First, though I suspect this is just an indicator variable to show whether or not the patient recieved an antibody test, we can look at unique values to be sure."
   ],
   "cell_type": "markdown",
   "metadata": {}
  },
  {
   "cell_type": "code",
   "execution_count": 39,
   "metadata": {},
   "outputs": [
    {
     "output_type": "execute_result",
     "data": {
      "text/plain": [
       "[NaN]\n",
       "Categories (0, object): []"
      ]
     },
     "metadata": {},
     "execution_count": 39
    }
   ],
   "source": [
    "X['SARS-CoV-2 Ab'].unique()"
   ]
  },
  {
   "source": [
    "In this case, let's just drop the column. It is likely uninformative with regard to the reponse variable ```y = Vasoactive agents required during hospitalization```."
   ],
   "cell_type": "markdown",
   "metadata": {}
  },
  {
   "cell_type": "code",
   "execution_count": 49,
   "metadata": {},
   "outputs": [
    {
     "output_type": "stream",
     "name": "stdout",
     "text": [
      "(4936, 24)\n(4936, 26)\n"
     ]
    }
   ],
   "source": [
    "X = X.drop(columns=['SARS-CoV-2 Ab'])\n",
    "print(X.shape,dataset.obs.shape, sep='\\n')"
   ]
  },
  {
   "source": [
    "As expected."
   ],
   "cell_type": "markdown",
   "metadata": {}
  },
  {
   "source": [
    "# Dealing with Categorial Features\n",
    "\n",
    "We will need to encode nominal and/or ordinal features to a one-hot representation. We can easily exclude numerical-valued columns from this process. We should also binarize the $y$ labels."
   ],
   "cell_type": "markdown",
   "metadata": {}
  },
  {
   "cell_type": "code",
   "execution_count": 93,
   "metadata": {},
   "outputs": [
    {
     "output_type": "stream",
     "name": "stdout",
     "text": [
      "numerical columns:\n['log2p1_RNAcount', 'nFeature_RNA', 'MT_fraction', 'Viral Molecules']\n\ncategorical columns:\n ['Race', 'BMI', 'Pre-existing immunocompromised condition', 'Pre-existing Hypertension', 'Donor Id', 'Pre-existing lung disease', 'Pre-existing diabetes', 'Age', '28-day death', 'Admitted to hospital', 'Lab number', 'Smoking', 'Ethnicity', 'Symptomatic', 'Pre-existing kidney disease', 'Sex', 'Highest level of respiratory support', 'SARS-CoV-2 PCR', 'CellType', 'Pre-existing heart disease']\n"
     ]
    }
   ],
   "source": [
    "numer_cols = list(X._get_numeric_data().columns)\n",
    "cat_cols = list(set(X.columns) - set(numerical_cols))\n",
    "print(f'numerical columns:\\n{numer_cols}\\n\\ncategorical columns:\\n {cat_cols}')"
   ]
  },
  {
   "cell_type": "code",
   "execution_count": 101,
   "metadata": {},
   "outputs": [
    {
     "output_type": "execute_result",
     "data": {
      "text/plain": [
       "                         Race                BMI  \\\n",
       "GW1_AAACGGGAGCTAGTCT-1  White  30.0-39.9 (obese)   \n",
       "GW1_AAAGTAGTCCTAGGGC-1  White  30.0-39.9 (obese)   \n",
       "GW1_AACACGTCAGCGTCCA-1  White  30.0-39.9 (obese)   \n",
       "\n",
       "                       Pre-existing immunocompromised condition  \\\n",
       "GW1_AAACGGGAGCTAGTCT-1                                      Yes   \n",
       "GW1_AAAGTAGTCCTAGGGC-1                                      Yes   \n",
       "GW1_AACACGTCAGCGTCCA-1                                      Yes   \n",
       "\n",
       "                       Pre-existing Hypertension Donor Id  \\\n",
       "GW1_AAACGGGAGCTAGTCT-1                        No   GWAS_1   \n",
       "GW1_AAAGTAGTCCTAGGGC-1                        No   GWAS_1   \n",
       "GW1_AACACGTCAGCGTCCA-1                        No   GWAS_1   \n",
       "\n",
       "                       Pre-existing lung disease Pre-existing diabetes Age  \\\n",
       "GW1_AAACGGGAGCTAGTCT-1                        No                    No  18   \n",
       "GW1_AAAGTAGTCCTAGGGC-1                        No                    No  18   \n",
       "GW1_AACACGTCAGCGTCCA-1                        No                    No  18   \n",
       "\n",
       "                       28-day death Admitted to hospital    Lab number  \\\n",
       "GW1_AAACGGGAGCTAGTCT-1           No                  Yes  CV19-1-S3.2A   \n",
       "GW1_AAAGTAGTCCTAGGGC-1           No                  Yes  CV19-1-S3.2A   \n",
       "GW1_AACACGTCAGCGTCCA-1           No                  Yes  CV19-1-S3.2A   \n",
       "\n",
       "                                 Smoking               Ethnicity Symptomatic  \\\n",
       "GW1_AAACGGGAGCTAGTCT-1  Never or unknown  Not Hispanic or Latino         Yes   \n",
       "GW1_AAAGTAGTCCTAGGGC-1  Never or unknown  Not Hispanic or Latino         Yes   \n",
       "GW1_AACACGTCAGCGTCCA-1  Never or unknown  Not Hispanic or Latino         Yes   \n",
       "\n",
       "                       Pre-existing kidney disease Sex  \\\n",
       "GW1_AAACGGGAGCTAGTCT-1                          No   F   \n",
       "GW1_AAAGTAGTCCTAGGGC-1                          No   F   \n",
       "GW1_AACACGTCAGCGTCCA-1                          No   F   \n",
       "\n",
       "                          Highest level of respiratory support SARS-CoV-2 PCR  \\\n",
       "GW1_AAACGGGAGCTAGTCT-1  Mechanical ventilation with intubation       Positive   \n",
       "GW1_AAAGTAGTCCTAGGGC-1  Mechanical ventilation with intubation       Positive   \n",
       "GW1_AACACGTCAGCGTCCA-1  Mechanical ventilation with intubation       Positive   \n",
       "\n",
       "                                         CellType Pre-existing heart disease  \n",
       "GW1_AAACGGGAGCTAGTCT-1       Secretary epithelium                         No  \n",
       "GW1_AAAGTAGTCCTAGGGC-1  Secretary epithelium KRT5                         No  \n",
       "GW1_AACACGTCAGCGTCCA-1        Ciliated epithelium                         No  "
      ],
      "text/html": "<div>\n<style scoped>\n    .dataframe tbody tr th:only-of-type {\n        vertical-align: middle;\n    }\n\n    .dataframe tbody tr th {\n        vertical-align: top;\n    }\n\n    .dataframe thead th {\n        text-align: right;\n    }\n</style>\n<table border=\"1\" class=\"dataframe\">\n  <thead>\n    <tr style=\"text-align: right;\">\n      <th></th>\n      <th>Race</th>\n      <th>BMI</th>\n      <th>Pre-existing immunocompromised condition</th>\n      <th>Pre-existing Hypertension</th>\n      <th>Donor Id</th>\n      <th>Pre-existing lung disease</th>\n      <th>Pre-existing diabetes</th>\n      <th>Age</th>\n      <th>28-day death</th>\n      <th>Admitted to hospital</th>\n      <th>Lab number</th>\n      <th>Smoking</th>\n      <th>Ethnicity</th>\n      <th>Symptomatic</th>\n      <th>Pre-existing kidney disease</th>\n      <th>Sex</th>\n      <th>Highest level of respiratory support</th>\n      <th>SARS-CoV-2 PCR</th>\n      <th>CellType</th>\n      <th>Pre-existing heart disease</th>\n    </tr>\n  </thead>\n  <tbody>\n    <tr>\n      <th>GW1_AAACGGGAGCTAGTCT-1</th>\n      <td>White</td>\n      <td>30.0-39.9 (obese)</td>\n      <td>Yes</td>\n      <td>No</td>\n      <td>GWAS_1</td>\n      <td>No</td>\n      <td>No</td>\n      <td>18</td>\n      <td>No</td>\n      <td>Yes</td>\n      <td>CV19-1-S3.2A</td>\n      <td>Never or unknown</td>\n      <td>Not Hispanic or Latino</td>\n      <td>Yes</td>\n      <td>No</td>\n      <td>F</td>\n      <td>Mechanical ventilation with intubation</td>\n      <td>Positive</td>\n      <td>Secretary epithelium</td>\n      <td>No</td>\n    </tr>\n    <tr>\n      <th>GW1_AAAGTAGTCCTAGGGC-1</th>\n      <td>White</td>\n      <td>30.0-39.9 (obese)</td>\n      <td>Yes</td>\n      <td>No</td>\n      <td>GWAS_1</td>\n      <td>No</td>\n      <td>No</td>\n      <td>18</td>\n      <td>No</td>\n      <td>Yes</td>\n      <td>CV19-1-S3.2A</td>\n      <td>Never or unknown</td>\n      <td>Not Hispanic or Latino</td>\n      <td>Yes</td>\n      <td>No</td>\n      <td>F</td>\n      <td>Mechanical ventilation with intubation</td>\n      <td>Positive</td>\n      <td>Secretary epithelium KRT5</td>\n      <td>No</td>\n    </tr>\n    <tr>\n      <th>GW1_AACACGTCAGCGTCCA-1</th>\n      <td>White</td>\n      <td>30.0-39.9 (obese)</td>\n      <td>Yes</td>\n      <td>No</td>\n      <td>GWAS_1</td>\n      <td>No</td>\n      <td>No</td>\n      <td>18</td>\n      <td>No</td>\n      <td>Yes</td>\n      <td>CV19-1-S3.2A</td>\n      <td>Never or unknown</td>\n      <td>Not Hispanic or Latino</td>\n      <td>Yes</td>\n      <td>No</td>\n      <td>F</td>\n      <td>Mechanical ventilation with intubation</td>\n      <td>Positive</td>\n      <td>Ciliated epithelium</td>\n      <td>No</td>\n    </tr>\n  </tbody>\n</table>\n</div>"
     },
     "metadata": {},
     "execution_count": 101
    }
   ],
   "source": [
    "X[cat_cols].head(3)"
   ]
  },
  {
   "source": [
    "With the exception of BMI, this looks fine. Since we have a BMI range, we should use an ordinal encoder in this case. The rest are simply categorical."
   ],
   "cell_type": "markdown",
   "metadata": {}
  },
  {
   "cell_type": "code",
   "execution_count": 104,
   "metadata": {},
   "outputs": [
    {
     "output_type": "execute_result",
     "data": {
      "text/plain": [
       "                         Race Pre-existing immunocompromised condition  \\\n",
       "GW1_AAACGGGAGCTAGTCT-1  White                                      Yes   \n",
       "GW1_AAAGTAGTCCTAGGGC-1  White                                      Yes   \n",
       "GW1_AACACGTCAGCGTCCA-1  White                                      Yes   \n",
       "\n",
       "                       Pre-existing Hypertension Donor Id  \\\n",
       "GW1_AAACGGGAGCTAGTCT-1                        No   GWAS_1   \n",
       "GW1_AAAGTAGTCCTAGGGC-1                        No   GWAS_1   \n",
       "GW1_AACACGTCAGCGTCCA-1                        No   GWAS_1   \n",
       "\n",
       "                       Pre-existing lung disease Pre-existing diabetes Age  \\\n",
       "GW1_AAACGGGAGCTAGTCT-1                        No                    No  18   \n",
       "GW1_AAAGTAGTCCTAGGGC-1                        No                    No  18   \n",
       "GW1_AACACGTCAGCGTCCA-1                        No                    No  18   \n",
       "\n",
       "                       28-day death Admitted to hospital    Lab number  \\\n",
       "GW1_AAACGGGAGCTAGTCT-1           No                  Yes  CV19-1-S3.2A   \n",
       "GW1_AAAGTAGTCCTAGGGC-1           No                  Yes  CV19-1-S3.2A   \n",
       "GW1_AACACGTCAGCGTCCA-1           No                  Yes  CV19-1-S3.2A   \n",
       "\n",
       "                                 Smoking               Ethnicity Symptomatic  \\\n",
       "GW1_AAACGGGAGCTAGTCT-1  Never or unknown  Not Hispanic or Latino         Yes   \n",
       "GW1_AAAGTAGTCCTAGGGC-1  Never or unknown  Not Hispanic or Latino         Yes   \n",
       "GW1_AACACGTCAGCGTCCA-1  Never or unknown  Not Hispanic or Latino         Yes   \n",
       "\n",
       "                       Pre-existing kidney disease Sex  \\\n",
       "GW1_AAACGGGAGCTAGTCT-1                          No   F   \n",
       "GW1_AAAGTAGTCCTAGGGC-1                          No   F   \n",
       "GW1_AACACGTCAGCGTCCA-1                          No   F   \n",
       "\n",
       "                          Highest level of respiratory support SARS-CoV-2 PCR  \\\n",
       "GW1_AAACGGGAGCTAGTCT-1  Mechanical ventilation with intubation       Positive   \n",
       "GW1_AAAGTAGTCCTAGGGC-1  Mechanical ventilation with intubation       Positive   \n",
       "GW1_AACACGTCAGCGTCCA-1  Mechanical ventilation with intubation       Positive   \n",
       "\n",
       "                                         CellType Pre-existing heart disease  \n",
       "GW1_AAACGGGAGCTAGTCT-1       Secretary epithelium                         No  \n",
       "GW1_AAAGTAGTCCTAGGGC-1  Secretary epithelium KRT5                         No  \n",
       "GW1_AACACGTCAGCGTCCA-1        Ciliated epithelium                         No  "
      ],
      "text/html": "<div>\n<style scoped>\n    .dataframe tbody tr th:only-of-type {\n        vertical-align: middle;\n    }\n\n    .dataframe tbody tr th {\n        vertical-align: top;\n    }\n\n    .dataframe thead th {\n        text-align: right;\n    }\n</style>\n<table border=\"1\" class=\"dataframe\">\n  <thead>\n    <tr style=\"text-align: right;\">\n      <th></th>\n      <th>Race</th>\n      <th>Pre-existing immunocompromised condition</th>\n      <th>Pre-existing Hypertension</th>\n      <th>Donor Id</th>\n      <th>Pre-existing lung disease</th>\n      <th>Pre-existing diabetes</th>\n      <th>Age</th>\n      <th>28-day death</th>\n      <th>Admitted to hospital</th>\n      <th>Lab number</th>\n      <th>Smoking</th>\n      <th>Ethnicity</th>\n      <th>Symptomatic</th>\n      <th>Pre-existing kidney disease</th>\n      <th>Sex</th>\n      <th>Highest level of respiratory support</th>\n      <th>SARS-CoV-2 PCR</th>\n      <th>CellType</th>\n      <th>Pre-existing heart disease</th>\n    </tr>\n  </thead>\n  <tbody>\n    <tr>\n      <th>GW1_AAACGGGAGCTAGTCT-1</th>\n      <td>White</td>\n      <td>Yes</td>\n      <td>No</td>\n      <td>GWAS_1</td>\n      <td>No</td>\n      <td>No</td>\n      <td>18</td>\n      <td>No</td>\n      <td>Yes</td>\n      <td>CV19-1-S3.2A</td>\n      <td>Never or unknown</td>\n      <td>Not Hispanic or Latino</td>\n      <td>Yes</td>\n      <td>No</td>\n      <td>F</td>\n      <td>Mechanical ventilation with intubation</td>\n      <td>Positive</td>\n      <td>Secretary epithelium</td>\n      <td>No</td>\n    </tr>\n    <tr>\n      <th>GW1_AAAGTAGTCCTAGGGC-1</th>\n      <td>White</td>\n      <td>Yes</td>\n      <td>No</td>\n      <td>GWAS_1</td>\n      <td>No</td>\n      <td>No</td>\n      <td>18</td>\n      <td>No</td>\n      <td>Yes</td>\n      <td>CV19-1-S3.2A</td>\n      <td>Never or unknown</td>\n      <td>Not Hispanic or Latino</td>\n      <td>Yes</td>\n      <td>No</td>\n      <td>F</td>\n      <td>Mechanical ventilation with intubation</td>\n      <td>Positive</td>\n      <td>Secretary epithelium KRT5</td>\n      <td>No</td>\n    </tr>\n    <tr>\n      <th>GW1_AACACGTCAGCGTCCA-1</th>\n      <td>White</td>\n      <td>Yes</td>\n      <td>No</td>\n      <td>GWAS_1</td>\n      <td>No</td>\n      <td>No</td>\n      <td>18</td>\n      <td>No</td>\n      <td>Yes</td>\n      <td>CV19-1-S3.2A</td>\n      <td>Never or unknown</td>\n      <td>Not Hispanic or Latino</td>\n      <td>Yes</td>\n      <td>No</td>\n      <td>F</td>\n      <td>Mechanical ventilation with intubation</td>\n      <td>Positive</td>\n      <td>Ciliated epithelium</td>\n      <td>No</td>\n    </tr>\n  </tbody>\n</table>\n</div>"
     },
     "metadata": {},
     "execution_count": 104
    }
   ],
   "source": [
    "ord_cols = ['BMI']\n",
    "cat_cols = [i for i in cat_cols if i not in ord_cols]\n",
    "X[cat_cols].head(3)"
   ]
  },
  {
   "source": [
    "Now we can encode these properly using ```scikit-learn``` or a builtin ```pandas``` method (we will use the latter and comment out the former). While we could use an ordinal encoder, whereby one clas is mapped to an integer, we should actually use one-hot encoding as this is a continuous input, valid for ```scikit-learn``` estimators. Note that a NaN is treated as a distinct category. It's a good thing we dropped that NaN column!"
   ],
   "cell_type": "markdown",
   "metadata": {}
  },
  {
   "cell_type": "code",
   "execution_count": 126,
   "metadata": {},
   "outputs": [
    {
     "output_type": "execute_result",
     "data": {
      "text/plain": [
       "                        Race_White  Race_Black  Race_Asian  Race_Other  \\\n",
       "GW1_AAACGGGAGCTAGTCT-1           1           0           0           0   \n",
       "GW1_AAAGTAGTCCTAGGGC-1           1           0           0           0   \n",
       "GW1_AACACGTCAGCGTCCA-1           1           0           0           0   \n",
       "GW1_AACCATGAGAATCTCC-1           1           0           0           0   \n",
       "GW1_AACCATGCATCCTTGC-1           1           0           0           0   \n",
       "\n",
       "                        Pre-existing immunocompromised condition_No  \\\n",
       "GW1_AAACGGGAGCTAGTCT-1                                            0   \n",
       "GW1_AAAGTAGTCCTAGGGC-1                                            0   \n",
       "GW1_AACACGTCAGCGTCCA-1                                            0   \n",
       "GW1_AACCATGAGAATCTCC-1                                            0   \n",
       "GW1_AACCATGCATCCTTGC-1                                            0   \n",
       "\n",
       "                        Pre-existing immunocompromised condition_Yes  \\\n",
       "GW1_AAACGGGAGCTAGTCT-1                                             1   \n",
       "GW1_AAAGTAGTCCTAGGGC-1                                             1   \n",
       "GW1_AACACGTCAGCGTCCA-1                                             1   \n",
       "GW1_AACCATGAGAATCTCC-1                                             1   \n",
       "GW1_AACCATGCATCCTTGC-1                                             1   \n",
       "\n",
       "                        Pre-existing Hypertension_No  \\\n",
       "GW1_AAACGGGAGCTAGTCT-1                             1   \n",
       "GW1_AAAGTAGTCCTAGGGC-1                             1   \n",
       "GW1_AACACGTCAGCGTCCA-1                             1   \n",
       "GW1_AACCATGAGAATCTCC-1                             1   \n",
       "GW1_AACCATGCATCCTTGC-1                             1   \n",
       "\n",
       "                        Pre-existing Hypertension_Yes  Donor Id_GWAS_1  \\\n",
       "GW1_AAACGGGAGCTAGTCT-1                              0                1   \n",
       "GW1_AAAGTAGTCCTAGGGC-1                              0                1   \n",
       "GW1_AACACGTCAGCGTCCA-1                              0                1   \n",
       "GW1_AACCATGAGAATCTCC-1                              0                1   \n",
       "GW1_AACCATGCATCCTTGC-1                              0                1   \n",
       "\n",
       "                        Donor Id_GWAS_10  ...  \\\n",
       "GW1_AAACGGGAGCTAGTCT-1                 0  ...   \n",
       "GW1_AAAGTAGTCCTAGGGC-1                 0  ...   \n",
       "GW1_AACACGTCAGCGTCCA-1                 0  ...   \n",
       "GW1_AACCATGAGAATCTCC-1                 0  ...   \n",
       "GW1_AACCATGCATCCTTGC-1                 0  ...   \n",
       "\n",
       "                        CellType_Secretary epithelium KRT5  \\\n",
       "GW1_AAACGGGAGCTAGTCT-1                                   0   \n",
       "GW1_AAAGTAGTCCTAGGGC-1                                   1   \n",
       "GW1_AACACGTCAGCGTCCA-1                                   0   \n",
       "GW1_AACCATGAGAATCTCC-1                                   0   \n",
       "GW1_AACCATGCATCCTTGC-1                                   0   \n",
       "\n",
       "                        CellType_Squamous epithelium 1  \\\n",
       "GW1_AAACGGGAGCTAGTCT-1                               0   \n",
       "GW1_AAAGTAGTCCTAGGGC-1                               0   \n",
       "GW1_AACACGTCAGCGTCCA-1                               0   \n",
       "GW1_AACCATGAGAATCTCC-1                               0   \n",
       "GW1_AACCATGCATCCTTGC-1                               0   \n",
       "\n",
       "                        CellType_Squamous epithelium 2  \\\n",
       "GW1_AAACGGGAGCTAGTCT-1                               0   \n",
       "GW1_AAAGTAGTCCTAGGGC-1                               0   \n",
       "GW1_AACACGTCAGCGTCCA-1                               0   \n",
       "GW1_AACCATGAGAATCTCC-1                               0   \n",
       "GW1_AACCATGCATCCTTGC-1                               0   \n",
       "\n",
       "                        CellType_Ciliated epithelium  CellType_Neutrophil  \\\n",
       "GW1_AAACGGGAGCTAGTCT-1                             0                    0   \n",
       "GW1_AAAGTAGTCCTAGGGC-1                             0                    0   \n",
       "GW1_AACACGTCAGCGTCCA-1                             1                    0   \n",
       "GW1_AACCATGAGAATCTCC-1                             0                    0   \n",
       "GW1_AACCATGCATCCTTGC-1                             1                    0   \n",
       "\n",
       "                        CellType_Erythrocytes  CellType_Low quality  \\\n",
       "GW1_AAACGGGAGCTAGTCT-1                      0                     0   \n",
       "GW1_AAAGTAGTCCTAGGGC-1                      0                     0   \n",
       "GW1_AACACGTCAGCGTCCA-1                      0                     0   \n",
       "GW1_AACCATGAGAATCTCC-1                      0                     0   \n",
       "GW1_AACCATGCATCCTTGC-1                      0                     0   \n",
       "\n",
       "                        CellType_filtered cells and doublets  \\\n",
       "GW1_AAACGGGAGCTAGTCT-1                                     0   \n",
       "GW1_AAAGTAGTCCTAGGGC-1                                     0   \n",
       "GW1_AACACGTCAGCGTCCA-1                                     0   \n",
       "GW1_AACCATGAGAATCTCC-1                                     0   \n",
       "GW1_AACCATGCATCCTTGC-1                                     0   \n",
       "\n",
       "                        Pre-existing heart disease_No  \\\n",
       "GW1_AAACGGGAGCTAGTCT-1                              1   \n",
       "GW1_AAAGTAGTCCTAGGGC-1                              1   \n",
       "GW1_AACACGTCAGCGTCCA-1                              1   \n",
       "GW1_AACCATGAGAATCTCC-1                              1   \n",
       "GW1_AACCATGCATCCTTGC-1                              1   \n",
       "\n",
       "                        Pre-existing heart disease_Yes  \n",
       "GW1_AAACGGGAGCTAGTCT-1                               0  \n",
       "GW1_AAAGTAGTCCTAGGGC-1                               0  \n",
       "GW1_AACACGTCAGCGTCCA-1                               0  \n",
       "GW1_AACCATGAGAATCTCC-1                               0  \n",
       "GW1_AACCATGCATCCTTGC-1                               0  \n",
       "\n",
       "[5 rows x 77 columns]"
      ],
      "text/html": "<div>\n<style scoped>\n    .dataframe tbody tr th:only-of-type {\n        vertical-align: middle;\n    }\n\n    .dataframe tbody tr th {\n        vertical-align: top;\n    }\n\n    .dataframe thead th {\n        text-align: right;\n    }\n</style>\n<table border=\"1\" class=\"dataframe\">\n  <thead>\n    <tr style=\"text-align: right;\">\n      <th></th>\n      <th>Race_White</th>\n      <th>Race_Black</th>\n      <th>Race_Asian</th>\n      <th>Race_Other</th>\n      <th>Pre-existing immunocompromised condition_No</th>\n      <th>Pre-existing immunocompromised condition_Yes</th>\n      <th>Pre-existing Hypertension_No</th>\n      <th>Pre-existing Hypertension_Yes</th>\n      <th>Donor Id_GWAS_1</th>\n      <th>Donor Id_GWAS_10</th>\n      <th>...</th>\n      <th>CellType_Secretary epithelium KRT5</th>\n      <th>CellType_Squamous epithelium 1</th>\n      <th>CellType_Squamous epithelium 2</th>\n      <th>CellType_Ciliated epithelium</th>\n      <th>CellType_Neutrophil</th>\n      <th>CellType_Erythrocytes</th>\n      <th>CellType_Low quality</th>\n      <th>CellType_filtered cells and doublets</th>\n      <th>Pre-existing heart disease_No</th>\n      <th>Pre-existing heart disease_Yes</th>\n    </tr>\n  </thead>\n  <tbody>\n    <tr>\n      <th>GW1_AAACGGGAGCTAGTCT-1</th>\n      <td>1</td>\n      <td>0</td>\n      <td>0</td>\n      <td>0</td>\n      <td>0</td>\n      <td>1</td>\n      <td>1</td>\n      <td>0</td>\n      <td>1</td>\n      <td>0</td>\n      <td>...</td>\n      <td>0</td>\n      <td>0</td>\n      <td>0</td>\n      <td>0</td>\n      <td>0</td>\n      <td>0</td>\n      <td>0</td>\n      <td>0</td>\n      <td>1</td>\n      <td>0</td>\n    </tr>\n    <tr>\n      <th>GW1_AAAGTAGTCCTAGGGC-1</th>\n      <td>1</td>\n      <td>0</td>\n      <td>0</td>\n      <td>0</td>\n      <td>0</td>\n      <td>1</td>\n      <td>1</td>\n      <td>0</td>\n      <td>1</td>\n      <td>0</td>\n      <td>...</td>\n      <td>1</td>\n      <td>0</td>\n      <td>0</td>\n      <td>0</td>\n      <td>0</td>\n      <td>0</td>\n      <td>0</td>\n      <td>0</td>\n      <td>1</td>\n      <td>0</td>\n    </tr>\n    <tr>\n      <th>GW1_AACACGTCAGCGTCCA-1</th>\n      <td>1</td>\n      <td>0</td>\n      <td>0</td>\n      <td>0</td>\n      <td>0</td>\n      <td>1</td>\n      <td>1</td>\n      <td>0</td>\n      <td>1</td>\n      <td>0</td>\n      <td>...</td>\n      <td>0</td>\n      <td>0</td>\n      <td>0</td>\n      <td>1</td>\n      <td>0</td>\n      <td>0</td>\n      <td>0</td>\n      <td>0</td>\n      <td>1</td>\n      <td>0</td>\n    </tr>\n    <tr>\n      <th>GW1_AACCATGAGAATCTCC-1</th>\n      <td>1</td>\n      <td>0</td>\n      <td>0</td>\n      <td>0</td>\n      <td>0</td>\n      <td>1</td>\n      <td>1</td>\n      <td>0</td>\n      <td>1</td>\n      <td>0</td>\n      <td>...</td>\n      <td>0</td>\n      <td>0</td>\n      <td>0</td>\n      <td>0</td>\n      <td>0</td>\n      <td>0</td>\n      <td>0</td>\n      <td>0</td>\n      <td>1</td>\n      <td>0</td>\n    </tr>\n    <tr>\n      <th>GW1_AACCATGCATCCTTGC-1</th>\n      <td>1</td>\n      <td>0</td>\n      <td>0</td>\n      <td>0</td>\n      <td>0</td>\n      <td>1</td>\n      <td>1</td>\n      <td>0</td>\n      <td>1</td>\n      <td>0</td>\n      <td>...</td>\n      <td>0</td>\n      <td>0</td>\n      <td>0</td>\n      <td>1</td>\n      <td>0</td>\n      <td>0</td>\n      <td>0</td>\n      <td>0</td>\n      <td>1</td>\n      <td>0</td>\n    </tr>\n  </tbody>\n</table>\n<p>5 rows × 77 columns</p>\n</div>"
     },
     "metadata": {},
     "execution_count": 126
    }
   ],
   "source": [
    "import pandas as pd\n",
    "pd.get_dummies(X[cat_cols]).head()"
   ]
  },
  {
   "cell_type": "code",
   "execution_count": 129,
   "metadata": {},
   "outputs": [
    {
     "output_type": "execute_result",
     "data": {
      "text/plain": [
       "                          Race Pre-existing immunocompromised condition  \\\n",
       "GW1_AAACGGGAGCTAGTCT-1   White                                      Yes   \n",
       "GW1_AAAGTAGTCCTAGGGC-1   White                                      Yes   \n",
       "GW1_AACACGTCAGCGTCCA-1   White                                      Yes   \n",
       "GW1_AACCATGAGAATCTCC-1   White                                      Yes   \n",
       "GW1_AACCATGCATCCTTGC-1   White                                      Yes   \n",
       "...                        ...                                      ...   \n",
       "GW13_TTTCCTCCAAGCCTAT-1  White                                      Yes   \n",
       "GW13_TTTCCTCCAAGTCTGT-1  White                                      Yes   \n",
       "GW13_TTTGTCAAGCCCAATT-1  White                                      Yes   \n",
       "GW13_TTTGTCAGTAGGACAC-1  White                                      Yes   \n",
       "GW13_TTTGTCATCGTGTAGT-1  White                                      Yes   \n",
       "\n",
       "                        Pre-existing Hypertension Donor Id  \\\n",
       "GW1_AAACGGGAGCTAGTCT-1                         No   GWAS_1   \n",
       "GW1_AAAGTAGTCCTAGGGC-1                         No   GWAS_1   \n",
       "GW1_AACACGTCAGCGTCCA-1                         No   GWAS_1   \n",
       "GW1_AACCATGAGAATCTCC-1                         No   GWAS_1   \n",
       "GW1_AACCATGCATCCTTGC-1                         No   GWAS_1   \n",
       "...                                           ...      ...   \n",
       "GW13_TTTCCTCCAAGCCTAT-1                        No  GWAS_11   \n",
       "GW13_TTTCCTCCAAGTCTGT-1                        No  GWAS_11   \n",
       "GW13_TTTGTCAAGCCCAATT-1                        No  GWAS_11   \n",
       "GW13_TTTGTCAGTAGGACAC-1                        No  GWAS_11   \n",
       "GW13_TTTGTCATCGTGTAGT-1                        No  GWAS_11   \n",
       "\n",
       "                        Pre-existing lung disease Pre-existing diabetes Age  \\\n",
       "GW1_AAACGGGAGCTAGTCT-1                         No                    No  18   \n",
       "GW1_AAAGTAGTCCTAGGGC-1                         No                    No  18   \n",
       "GW1_AACACGTCAGCGTCCA-1                         No                    No  18   \n",
       "GW1_AACCATGAGAATCTCC-1                         No                    No  18   \n",
       "GW1_AACCATGCATCCTTGC-1                         No                    No  18   \n",
       "...                                           ...                   ...  ..   \n",
       "GW13_TTTCCTCCAAGCCTAT-1                        No                    No  50   \n",
       "GW13_TTTCCTCCAAGTCTGT-1                        No                    No  50   \n",
       "GW13_TTTGTCAAGCCCAATT-1                        No                    No  50   \n",
       "GW13_TTTGTCAGTAGGACAC-1                        No                    No  50   \n",
       "GW13_TTTGTCATCGTGTAGT-1                        No                    No  50   \n",
       "\n",
       "                        28-day death Admitted to hospital     Lab number  \\\n",
       "GW1_AAACGGGAGCTAGTCT-1            No                  Yes   CV19-1-S3.2A   \n",
       "GW1_AAAGTAGTCCTAGGGC-1            No                  Yes   CV19-1-S3.2A   \n",
       "GW1_AACACGTCAGCGTCCA-1            No                  Yes   CV19-1-S3.2A   \n",
       "GW1_AACCATGAGAATCTCC-1            No                  Yes   CV19-1-S3.2A   \n",
       "GW1_AACCATGCATCCTTGC-1            No                  Yes   CV19-1-S3.2A   \n",
       "...                              ...                  ...            ...   \n",
       "GW13_TTTCCTCCAAGCCTAT-1           No                  Yes  CV19-11-S3.2A   \n",
       "GW13_TTTCCTCCAAGTCTGT-1           No                  Yes  CV19-11-S3.2A   \n",
       "GW13_TTTGTCAAGCCCAATT-1           No                  Yes  CV19-11-S3.2A   \n",
       "GW13_TTTGTCAGTAGGACAC-1           No                  Yes  CV19-11-S3.2A   \n",
       "GW13_TTTGTCATCGTGTAGT-1           No                  Yes  CV19-11-S3.2A   \n",
       "\n",
       "                                  Smoking               Ethnicity Symptomatic  \\\n",
       "GW1_AAACGGGAGCTAGTCT-1   Never or unknown  Not Hispanic or Latino         Yes   \n",
       "GW1_AAAGTAGTCCTAGGGC-1   Never or unknown  Not Hispanic or Latino         Yes   \n",
       "GW1_AACACGTCAGCGTCCA-1   Never or unknown  Not Hispanic or Latino         Yes   \n",
       "GW1_AACCATGAGAATCTCC-1   Never or unknown  Not Hispanic or Latino         Yes   \n",
       "GW1_AACCATGCATCCTTGC-1   Never or unknown  Not Hispanic or Latino         Yes   \n",
       "...                                   ...                     ...         ...   \n",
       "GW13_TTTCCTCCAAGCCTAT-1  Never or unknown      Hispanic or Latino         Yes   \n",
       "GW13_TTTCCTCCAAGTCTGT-1  Never or unknown      Hispanic or Latino         Yes   \n",
       "GW13_TTTGTCAAGCCCAATT-1  Never or unknown      Hispanic or Latino         Yes   \n",
       "GW13_TTTGTCAGTAGGACAC-1  Never or unknown      Hispanic or Latino         Yes   \n",
       "GW13_TTTGTCATCGTGTAGT-1  Never or unknown      Hispanic or Latino         Yes   \n",
       "\n",
       "                        Pre-existing kidney disease Sex  \\\n",
       "GW1_AAACGGGAGCTAGTCT-1                           No   F   \n",
       "GW1_AAAGTAGTCCTAGGGC-1                           No   F   \n",
       "GW1_AACACGTCAGCGTCCA-1                           No   F   \n",
       "GW1_AACCATGAGAATCTCC-1                           No   F   \n",
       "GW1_AACCATGCATCCTTGC-1                           No   F   \n",
       "...                                             ...  ..   \n",
       "GW13_TTTCCTCCAAGCCTAT-1                          No   F   \n",
       "GW13_TTTCCTCCAAGTCTGT-1                          No   F   \n",
       "GW13_TTTGTCAAGCCCAATT-1                          No   F   \n",
       "GW13_TTTGTCAGTAGGACAC-1                          No   F   \n",
       "GW13_TTTGTCATCGTGTAGT-1                          No   F   \n",
       "\n",
       "                           Highest level of respiratory support  \\\n",
       "GW1_AAACGGGAGCTAGTCT-1   Mechanical ventilation with intubation   \n",
       "GW1_AAAGTAGTCCTAGGGC-1   Mechanical ventilation with intubation   \n",
       "GW1_AACACGTCAGCGTCCA-1   Mechanical ventilation with intubation   \n",
       "GW1_AACCATGAGAATCTCC-1   Mechanical ventilation with intubation   \n",
       "GW1_AACCATGCATCCTTGC-1   Mechanical ventilation with intubation   \n",
       "...                                                         ...   \n",
       "GW13_TTTCCTCCAAGCCTAT-1  Mechanical ventilation with intubation   \n",
       "GW13_TTTCCTCCAAGTCTGT-1  Mechanical ventilation with intubation   \n",
       "GW13_TTTGTCAAGCCCAATT-1  Mechanical ventilation with intubation   \n",
       "GW13_TTTGTCAGTAGGACAC-1  Mechanical ventilation with intubation   \n",
       "GW13_TTTGTCATCGTGTAGT-1  Mechanical ventilation with intubation   \n",
       "\n",
       "                        SARS-CoV-2 PCR                   CellType  \\\n",
       "GW1_AAACGGGAGCTAGTCT-1        Positive       Secretary epithelium   \n",
       "GW1_AAAGTAGTCCTAGGGC-1        Positive  Secretary epithelium KRT5   \n",
       "GW1_AACACGTCAGCGTCCA-1        Positive        Ciliated epithelium   \n",
       "GW1_AACCATGAGAATCTCC-1        Positive       Secretary epithelium   \n",
       "GW1_AACCATGCATCCTTGC-1        Positive        Ciliated epithelium   \n",
       "...                                ...                        ...   \n",
       "GW13_TTTCCTCCAAGCCTAT-1       Positive                 Tcells CD8   \n",
       "GW13_TTTCCTCCAAGTCTGT-1       Positive                 Tcells CD8   \n",
       "GW13_TTTGTCAAGCCCAATT-1       Positive       Secretary epithelium   \n",
       "GW13_TTTGTCAGTAGGACAC-1       Positive      Squamous epithelium 1   \n",
       "GW13_TTTGTCATCGTGTAGT-1       Positive      Squamous epithelium 1   \n",
       "\n",
       "                        Pre-existing heart disease  \\\n",
       "GW1_AAACGGGAGCTAGTCT-1                          No   \n",
       "GW1_AAAGTAGTCCTAGGGC-1                          No   \n",
       "GW1_AACACGTCAGCGTCCA-1                          No   \n",
       "GW1_AACCATGAGAATCTCC-1                          No   \n",
       "GW1_AACCATGCATCCTTGC-1                          No   \n",
       "...                                            ...   \n",
       "GW13_TTTCCTCCAAGCCTAT-1                         No   \n",
       "GW13_TTTCCTCCAAGTCTGT-1                         No   \n",
       "GW13_TTTGTCAAGCCCAATT-1                         No   \n",
       "GW13_TTTGTCAGTAGGACAC-1                         No   \n",
       "GW13_TTTGTCATCGTGTAGT-1                         No   \n",
       "\n",
       "                                                                         0  \n",
       "GW1_AAACGGGAGCTAGTCT-1     (0, 1)\\t1.0\\n  (0, 2)\\t1.0\\n  (0, 3)\\t1.0\\n ...  \n",
       "GW1_AAAGTAGTCCTAGGGC-1     (0, 1)\\t1.0\\n  (0, 2)\\t1.0\\n  (0, 3)\\t1.0\\n ...  \n",
       "GW1_AACACGTCAGCGTCCA-1     (0, 1)\\t1.0\\n  (0, 2)\\t1.0\\n  (0, 3)\\t1.0\\n ...  \n",
       "GW1_AACCATGAGAATCTCC-1     (0, 1)\\t1.0\\n  (0, 2)\\t1.0\\n  (0, 3)\\t1.0\\n ...  \n",
       "GW1_AACCATGCATCCTTGC-1     (0, 1)\\t1.0\\n  (0, 2)\\t1.0\\n  (0, 3)\\t1.0\\n ...  \n",
       "...                                                                    ...  \n",
       "GW13_TTTCCTCCAAGCCTAT-1    (0, 1)\\t1.0\\n  (0, 2)\\t1.0\\n  (0, 3)\\t1.0\\n ...  \n",
       "GW13_TTTCCTCCAAGTCTGT-1    (0, 1)\\t1.0\\n  (0, 2)\\t1.0\\n  (0, 3)\\t1.0\\n ...  \n",
       "GW13_TTTGTCAAGCCCAATT-1    (0, 1)\\t1.0\\n  (0, 2)\\t1.0\\n  (0, 3)\\t1.0\\n ...  \n",
       "GW13_TTTGTCAGTAGGACAC-1    (0, 1)\\t1.0\\n  (0, 2)\\t1.0\\n  (0, 3)\\t1.0\\n ...  \n",
       "GW13_TTTGTCATCGTGTAGT-1    (0, 1)\\t1.0\\n  (0, 2)\\t1.0\\n  (0, 3)\\t1.0\\n ...  \n",
       "\n",
       "[4936 rows x 20 columns]"
      ],
      "text/html": "<div>\n<style scoped>\n    .dataframe tbody tr th:only-of-type {\n        vertical-align: middle;\n    }\n\n    .dataframe tbody tr th {\n        vertical-align: top;\n    }\n\n    .dataframe thead th {\n        text-align: right;\n    }\n</style>\n<table border=\"1\" class=\"dataframe\">\n  <thead>\n    <tr style=\"text-align: right;\">\n      <th></th>\n      <th>Race</th>\n      <th>Pre-existing immunocompromised condition</th>\n      <th>Pre-existing Hypertension</th>\n      <th>Donor Id</th>\n      <th>Pre-existing lung disease</th>\n      <th>Pre-existing diabetes</th>\n      <th>Age</th>\n      <th>28-day death</th>\n      <th>Admitted to hospital</th>\n      <th>Lab number</th>\n      <th>Smoking</th>\n      <th>Ethnicity</th>\n      <th>Symptomatic</th>\n      <th>Pre-existing kidney disease</th>\n      <th>Sex</th>\n      <th>Highest level of respiratory support</th>\n      <th>SARS-CoV-2 PCR</th>\n      <th>CellType</th>\n      <th>Pre-existing heart disease</th>\n      <th>0</th>\n    </tr>\n  </thead>\n  <tbody>\n    <tr>\n      <th>GW1_AAACGGGAGCTAGTCT-1</th>\n      <td>White</td>\n      <td>Yes</td>\n      <td>No</td>\n      <td>GWAS_1</td>\n      <td>No</td>\n      <td>No</td>\n      <td>18</td>\n      <td>No</td>\n      <td>Yes</td>\n      <td>CV19-1-S3.2A</td>\n      <td>Never or unknown</td>\n      <td>Not Hispanic or Latino</td>\n      <td>Yes</td>\n      <td>No</td>\n      <td>F</td>\n      <td>Mechanical ventilation with intubation</td>\n      <td>Positive</td>\n      <td>Secretary epithelium</td>\n      <td>No</td>\n      <td>(0, 1)\\t1.0\\n  (0, 2)\\t1.0\\n  (0, 3)\\t1.0\\n ...</td>\n    </tr>\n    <tr>\n      <th>GW1_AAAGTAGTCCTAGGGC-1</th>\n      <td>White</td>\n      <td>Yes</td>\n      <td>No</td>\n      <td>GWAS_1</td>\n      <td>No</td>\n      <td>No</td>\n      <td>18</td>\n      <td>No</td>\n      <td>Yes</td>\n      <td>CV19-1-S3.2A</td>\n      <td>Never or unknown</td>\n      <td>Not Hispanic or Latino</td>\n      <td>Yes</td>\n      <td>No</td>\n      <td>F</td>\n      <td>Mechanical ventilation with intubation</td>\n      <td>Positive</td>\n      <td>Secretary epithelium KRT5</td>\n      <td>No</td>\n      <td>(0, 1)\\t1.0\\n  (0, 2)\\t1.0\\n  (0, 3)\\t1.0\\n ...</td>\n    </tr>\n    <tr>\n      <th>GW1_AACACGTCAGCGTCCA-1</th>\n      <td>White</td>\n      <td>Yes</td>\n      <td>No</td>\n      <td>GWAS_1</td>\n      <td>No</td>\n      <td>No</td>\n      <td>18</td>\n      <td>No</td>\n      <td>Yes</td>\n      <td>CV19-1-S3.2A</td>\n      <td>Never or unknown</td>\n      <td>Not Hispanic or Latino</td>\n      <td>Yes</td>\n      <td>No</td>\n      <td>F</td>\n      <td>Mechanical ventilation with intubation</td>\n      <td>Positive</td>\n      <td>Ciliated epithelium</td>\n      <td>No</td>\n      <td>(0, 1)\\t1.0\\n  (0, 2)\\t1.0\\n  (0, 3)\\t1.0\\n ...</td>\n    </tr>\n    <tr>\n      <th>GW1_AACCATGAGAATCTCC-1</th>\n      <td>White</td>\n      <td>Yes</td>\n      <td>No</td>\n      <td>GWAS_1</td>\n      <td>No</td>\n      <td>No</td>\n      <td>18</td>\n      <td>No</td>\n      <td>Yes</td>\n      <td>CV19-1-S3.2A</td>\n      <td>Never or unknown</td>\n      <td>Not Hispanic or Latino</td>\n      <td>Yes</td>\n      <td>No</td>\n      <td>F</td>\n      <td>Mechanical ventilation with intubation</td>\n      <td>Positive</td>\n      <td>Secretary epithelium</td>\n      <td>No</td>\n      <td>(0, 1)\\t1.0\\n  (0, 2)\\t1.0\\n  (0, 3)\\t1.0\\n ...</td>\n    </tr>\n    <tr>\n      <th>GW1_AACCATGCATCCTTGC-1</th>\n      <td>White</td>\n      <td>Yes</td>\n      <td>No</td>\n      <td>GWAS_1</td>\n      <td>No</td>\n      <td>No</td>\n      <td>18</td>\n      <td>No</td>\n      <td>Yes</td>\n      <td>CV19-1-S3.2A</td>\n      <td>Never or unknown</td>\n      <td>Not Hispanic or Latino</td>\n      <td>Yes</td>\n      <td>No</td>\n      <td>F</td>\n      <td>Mechanical ventilation with intubation</td>\n      <td>Positive</td>\n      <td>Ciliated epithelium</td>\n      <td>No</td>\n      <td>(0, 1)\\t1.0\\n  (0, 2)\\t1.0\\n  (0, 3)\\t1.0\\n ...</td>\n    </tr>\n    <tr>\n      <th>...</th>\n      <td>...</td>\n      <td>...</td>\n      <td>...</td>\n      <td>...</td>\n      <td>...</td>\n      <td>...</td>\n      <td>...</td>\n      <td>...</td>\n      <td>...</td>\n      <td>...</td>\n      <td>...</td>\n      <td>...</td>\n      <td>...</td>\n      <td>...</td>\n      <td>...</td>\n      <td>...</td>\n      <td>...</td>\n      <td>...</td>\n      <td>...</td>\n      <td>...</td>\n    </tr>\n    <tr>\n      <th>GW13_TTTCCTCCAAGCCTAT-1</th>\n      <td>White</td>\n      <td>Yes</td>\n      <td>No</td>\n      <td>GWAS_11</td>\n      <td>No</td>\n      <td>No</td>\n      <td>50</td>\n      <td>No</td>\n      <td>Yes</td>\n      <td>CV19-11-S3.2A</td>\n      <td>Never or unknown</td>\n      <td>Hispanic or Latino</td>\n      <td>Yes</td>\n      <td>No</td>\n      <td>F</td>\n      <td>Mechanical ventilation with intubation</td>\n      <td>Positive</td>\n      <td>Tcells CD8</td>\n      <td>No</td>\n      <td>(0, 1)\\t1.0\\n  (0, 2)\\t1.0\\n  (0, 3)\\t1.0\\n ...</td>\n    </tr>\n    <tr>\n      <th>GW13_TTTCCTCCAAGTCTGT-1</th>\n      <td>White</td>\n      <td>Yes</td>\n      <td>No</td>\n      <td>GWAS_11</td>\n      <td>No</td>\n      <td>No</td>\n      <td>50</td>\n      <td>No</td>\n      <td>Yes</td>\n      <td>CV19-11-S3.2A</td>\n      <td>Never or unknown</td>\n      <td>Hispanic or Latino</td>\n      <td>Yes</td>\n      <td>No</td>\n      <td>F</td>\n      <td>Mechanical ventilation with intubation</td>\n      <td>Positive</td>\n      <td>Tcells CD8</td>\n      <td>No</td>\n      <td>(0, 1)\\t1.0\\n  (0, 2)\\t1.0\\n  (0, 3)\\t1.0\\n ...</td>\n    </tr>\n    <tr>\n      <th>GW13_TTTGTCAAGCCCAATT-1</th>\n      <td>White</td>\n      <td>Yes</td>\n      <td>No</td>\n      <td>GWAS_11</td>\n      <td>No</td>\n      <td>No</td>\n      <td>50</td>\n      <td>No</td>\n      <td>Yes</td>\n      <td>CV19-11-S3.2A</td>\n      <td>Never or unknown</td>\n      <td>Hispanic or Latino</td>\n      <td>Yes</td>\n      <td>No</td>\n      <td>F</td>\n      <td>Mechanical ventilation with intubation</td>\n      <td>Positive</td>\n      <td>Secretary epithelium</td>\n      <td>No</td>\n      <td>(0, 1)\\t1.0\\n  (0, 2)\\t1.0\\n  (0, 3)\\t1.0\\n ...</td>\n    </tr>\n    <tr>\n      <th>GW13_TTTGTCAGTAGGACAC-1</th>\n      <td>White</td>\n      <td>Yes</td>\n      <td>No</td>\n      <td>GWAS_11</td>\n      <td>No</td>\n      <td>No</td>\n      <td>50</td>\n      <td>No</td>\n      <td>Yes</td>\n      <td>CV19-11-S3.2A</td>\n      <td>Never or unknown</td>\n      <td>Hispanic or Latino</td>\n      <td>Yes</td>\n      <td>No</td>\n      <td>F</td>\n      <td>Mechanical ventilation with intubation</td>\n      <td>Positive</td>\n      <td>Squamous epithelium 1</td>\n      <td>No</td>\n      <td>(0, 1)\\t1.0\\n  (0, 2)\\t1.0\\n  (0, 3)\\t1.0\\n ...</td>\n    </tr>\n    <tr>\n      <th>GW13_TTTGTCATCGTGTAGT-1</th>\n      <td>White</td>\n      <td>Yes</td>\n      <td>No</td>\n      <td>GWAS_11</td>\n      <td>No</td>\n      <td>No</td>\n      <td>50</td>\n      <td>No</td>\n      <td>Yes</td>\n      <td>CV19-11-S3.2A</td>\n      <td>Never or unknown</td>\n      <td>Hispanic or Latino</td>\n      <td>Yes</td>\n      <td>No</td>\n      <td>F</td>\n      <td>Mechanical ventilation with intubation</td>\n      <td>Positive</td>\n      <td>Squamous epithelium 1</td>\n      <td>No</td>\n      <td>(0, 1)\\t1.0\\n  (0, 2)\\t1.0\\n  (0, 3)\\t1.0\\n ...</td>\n    </tr>\n  </tbody>\n</table>\n<p>4936 rows × 20 columns</p>\n</div>"
     },
     "metadata": {},
     "execution_count": 129
    }
   ],
   "source": [
    "from sklearn.preprocessing import OneHotEncoder\n",
    "\n",
    "encoder = OneHotEncoder()\n",
    "\n",
    "transformed_data = encoder.fit_transform(X[cat_cols])\n",
    "\n",
    "encoded_data = pd.DataFrame(transformed_data, index=X[cat_cols].index)\n",
    "\n",
    "# now concatenate the original data and the encoded data\n",
    "concatenated_data = pd.concat([X[cat_cols], encoded_data], axis=1)\n",
    "concatenated_data"
   ]
  },
  {
   "cell_type": "code",
   "execution_count": 97,
   "metadata": {},
   "outputs": [
    {
     "output_type": "execute_result",
     "data": {
      "text/plain": [
       "                         log2p1_RNAcount  nFeature_RNA  MT_fraction  \\\n",
       "GW1_AAACGGGAGCTAGTCT-1         14.909096          5687     0.042059   \n",
       "GW1_AAAGTAGTCCTAGGGC-1         13.611947          3967     0.097771   \n",
       "GW1_AACACGTCAGCGTCCA-1          9.366322           513     0.036419   \n",
       "GW1_AACCATGAGAATCTCC-1         15.217731          6260     0.053720   \n",
       "GW1_AACCATGCATCCTTGC-1          9.134426           439     0.016043   \n",
       "...                                  ...           ...          ...   \n",
       "GW13_TTTCCTCCAAGCCTAT-1        10.832890           870     0.017005   \n",
       "GW13_TTTCCTCCAAGTCTGT-1        11.065416          1001     0.015406   \n",
       "GW13_TTTGTCAAGCCCAATT-1        13.670767          3477     0.032975   \n",
       "GW13_TTTGTCAGTAGGACAC-1         9.147205           313     0.044170   \n",
       "GW13_TTTGTCATCGTGTAGT-1         9.623881           537     0.029188   \n",
       "\n",
       "                         Viral Molecules  \n",
       "GW1_AAACGGGAGCTAGTCT-1                 0  \n",
       "GW1_AAAGTAGTCCTAGGGC-1                 0  \n",
       "GW1_AACACGTCAGCGTCCA-1                 0  \n",
       "GW1_AACCATGAGAATCTCC-1                 0  \n",
       "GW1_AACCATGCATCCTTGC-1                 0  \n",
       "...                                  ...  \n",
       "GW13_TTTCCTCCAAGCCTAT-1                0  \n",
       "GW13_TTTCCTCCAAGTCTGT-1                0  \n",
       "GW13_TTTGTCAAGCCCAATT-1                0  \n",
       "GW13_TTTGTCAGTAGGACAC-1                0  \n",
       "GW13_TTTGTCATCGTGTAGT-1                0  \n",
       "\n",
       "[4936 rows x 4 columns]"
      ],
      "text/html": "<div>\n<style scoped>\n    .dataframe tbody tr th:only-of-type {\n        vertical-align: middle;\n    }\n\n    .dataframe tbody tr th {\n        vertical-align: top;\n    }\n\n    .dataframe thead th {\n        text-align: right;\n    }\n</style>\n<table border=\"1\" class=\"dataframe\">\n  <thead>\n    <tr style=\"text-align: right;\">\n      <th></th>\n      <th>log2p1_RNAcount</th>\n      <th>nFeature_RNA</th>\n      <th>MT_fraction</th>\n      <th>Viral Molecules</th>\n    </tr>\n  </thead>\n  <tbody>\n    <tr>\n      <th>GW1_AAACGGGAGCTAGTCT-1</th>\n      <td>14.909096</td>\n      <td>5687</td>\n      <td>0.042059</td>\n      <td>0</td>\n    </tr>\n    <tr>\n      <th>GW1_AAAGTAGTCCTAGGGC-1</th>\n      <td>13.611947</td>\n      <td>3967</td>\n      <td>0.097771</td>\n      <td>0</td>\n    </tr>\n    <tr>\n      <th>GW1_AACACGTCAGCGTCCA-1</th>\n      <td>9.366322</td>\n      <td>513</td>\n      <td>0.036419</td>\n      <td>0</td>\n    </tr>\n    <tr>\n      <th>GW1_AACCATGAGAATCTCC-1</th>\n      <td>15.217731</td>\n      <td>6260</td>\n      <td>0.053720</td>\n      <td>0</td>\n    </tr>\n    <tr>\n      <th>GW1_AACCATGCATCCTTGC-1</th>\n      <td>9.134426</td>\n      <td>439</td>\n      <td>0.016043</td>\n      <td>0</td>\n    </tr>\n    <tr>\n      <th>...</th>\n      <td>...</td>\n      <td>...</td>\n      <td>...</td>\n      <td>...</td>\n    </tr>\n    <tr>\n      <th>GW13_TTTCCTCCAAGCCTAT-1</th>\n      <td>10.832890</td>\n      <td>870</td>\n      <td>0.017005</td>\n      <td>0</td>\n    </tr>\n    <tr>\n      <th>GW13_TTTCCTCCAAGTCTGT-1</th>\n      <td>11.065416</td>\n      <td>1001</td>\n      <td>0.015406</td>\n      <td>0</td>\n    </tr>\n    <tr>\n      <th>GW13_TTTGTCAAGCCCAATT-1</th>\n      <td>13.670767</td>\n      <td>3477</td>\n      <td>0.032975</td>\n      <td>0</td>\n    </tr>\n    <tr>\n      <th>GW13_TTTGTCAGTAGGACAC-1</th>\n      <td>9.147205</td>\n      <td>313</td>\n      <td>0.044170</td>\n      <td>0</td>\n    </tr>\n    <tr>\n      <th>GW13_TTTGTCATCGTGTAGT-1</th>\n      <td>9.623881</td>\n      <td>537</td>\n      <td>0.029188</td>\n      <td>0</td>\n    </tr>\n  </tbody>\n</table>\n<p>4936 rows × 4 columns</p>\n</div>"
     },
     "metadata": {},
     "execution_count": 97
    }
   ],
   "source": [
    "from sklearn.preprocessing import \n",
    "X[cat_cols]."
   ]
  },
  {
   "cell_type": "code",
   "execution_count": 95,
   "metadata": {},
   "outputs": [
    {
     "output_type": "execute_result",
     "data": {
      "text/plain": [
       "GW1_AAACGGGAGCTAGTCT-1    Yes\n",
       "GW1_AAAGTAGTCCTAGGGC-1    Yes\n",
       "GW1_AACACGTCAGCGTCCA-1    Yes\n",
       "GW1_AACCATGAGAATCTCC-1    Yes\n",
       "GW1_AACCATGCATCCTTGC-1    Yes\n",
       "Name: Vasoactive agents required during hospitalization, dtype: category\n",
       "Categories (2, object): ['No' < 'Yes']"
      ]
     },
     "metadata": {},
     "execution_count": 95
    }
   ],
   "source": [
    "y.head()"
   ]
  },
  {
   "cell_type": "code",
   "execution_count": 80,
   "metadata": {},
   "outputs": [
    {
     "output_type": "execute_result",
     "data": {
      "text/plain": [
       "                          Race                BMI  \\\n",
       "GW1_AAACGGGAGCTAGTCT-1   White  30.0-39.9 (obese)   \n",
       "GW1_AAAGTAGTCCTAGGGC-1   White  30.0-39.9 (obese)   \n",
       "GW1_AACACGTCAGCGTCCA-1   White  30.0-39.9 (obese)   \n",
       "GW1_AACCATGAGAATCTCC-1   White  30.0-39.9 (obese)   \n",
       "GW1_AACCATGCATCCTTGC-1   White  30.0-39.9 (obese)   \n",
       "...                        ...                ...   \n",
       "GW13_TTTCCTCCAAGCCTAT-1  White            Unknown   \n",
       "GW13_TTTCCTCCAAGTCTGT-1  White            Unknown   \n",
       "GW13_TTTGTCAAGCCCAATT-1  White            Unknown   \n",
       "GW13_TTTGTCAGTAGGACAC-1  White            Unknown   \n",
       "GW13_TTTGTCATCGTGTAGT-1  White            Unknown   \n",
       "\n",
       "                        Pre-existing immunocompromised condition  \\\n",
       "GW1_AAACGGGAGCTAGTCT-1                                       Yes   \n",
       "GW1_AAAGTAGTCCTAGGGC-1                                       Yes   \n",
       "GW1_AACACGTCAGCGTCCA-1                                       Yes   \n",
       "GW1_AACCATGAGAATCTCC-1                                       Yes   \n",
       "GW1_AACCATGCATCCTTGC-1                                       Yes   \n",
       "...                                                          ...   \n",
       "GW13_TTTCCTCCAAGCCTAT-1                                      Yes   \n",
       "GW13_TTTCCTCCAAGTCTGT-1                                      Yes   \n",
       "GW13_TTTGTCAAGCCCAATT-1                                      Yes   \n",
       "GW13_TTTGTCAGTAGGACAC-1                                      Yes   \n",
       "GW13_TTTGTCATCGTGTAGT-1                                      Yes   \n",
       "\n",
       "                        Pre-existing Hypertension Donor Id  \\\n",
       "GW1_AAACGGGAGCTAGTCT-1                         No   GWAS_1   \n",
       "GW1_AAAGTAGTCCTAGGGC-1                         No   GWAS_1   \n",
       "GW1_AACACGTCAGCGTCCA-1                         No   GWAS_1   \n",
       "GW1_AACCATGAGAATCTCC-1                         No   GWAS_1   \n",
       "GW1_AACCATGCATCCTTGC-1                         No   GWAS_1   \n",
       "...                                           ...      ...   \n",
       "GW13_TTTCCTCCAAGCCTAT-1                        No  GWAS_11   \n",
       "GW13_TTTCCTCCAAGTCTGT-1                        No  GWAS_11   \n",
       "GW13_TTTGTCAAGCCCAATT-1                        No  GWAS_11   \n",
       "GW13_TTTGTCAGTAGGACAC-1                        No  GWAS_11   \n",
       "GW13_TTTGTCATCGTGTAGT-1                        No  GWAS_11   \n",
       "\n",
       "                        Pre-existing lung disease Pre-existing diabetes Age  \\\n",
       "GW1_AAACGGGAGCTAGTCT-1                         No                    No  18   \n",
       "GW1_AAAGTAGTCCTAGGGC-1                         No                    No  18   \n",
       "GW1_AACACGTCAGCGTCCA-1                         No                    No  18   \n",
       "GW1_AACCATGAGAATCTCC-1                         No                    No  18   \n",
       "GW1_AACCATGCATCCTTGC-1                         No                    No  18   \n",
       "...                                           ...                   ...  ..   \n",
       "GW13_TTTCCTCCAAGCCTAT-1                        No                    No  50   \n",
       "GW13_TTTCCTCCAAGTCTGT-1                        No                    No  50   \n",
       "GW13_TTTGTCAAGCCCAATT-1                        No                    No  50   \n",
       "GW13_TTTGTCAGTAGGACAC-1                        No                    No  50   \n",
       "GW13_TTTGTCATCGTGTAGT-1                        No                    No  50   \n",
       "\n",
       "                        28-day death Admitted to hospital     Lab number  \\\n",
       "GW1_AAACGGGAGCTAGTCT-1            No                  Yes   CV19-1-S3.2A   \n",
       "GW1_AAAGTAGTCCTAGGGC-1            No                  Yes   CV19-1-S3.2A   \n",
       "GW1_AACACGTCAGCGTCCA-1            No                  Yes   CV19-1-S3.2A   \n",
       "GW1_AACCATGAGAATCTCC-1            No                  Yes   CV19-1-S3.2A   \n",
       "GW1_AACCATGCATCCTTGC-1            No                  Yes   CV19-1-S3.2A   \n",
       "...                              ...                  ...            ...   \n",
       "GW13_TTTCCTCCAAGCCTAT-1           No                  Yes  CV19-11-S3.2A   \n",
       "GW13_TTTCCTCCAAGTCTGT-1           No                  Yes  CV19-11-S3.2A   \n",
       "GW13_TTTGTCAAGCCCAATT-1           No                  Yes  CV19-11-S3.2A   \n",
       "GW13_TTTGTCAGTAGGACAC-1           No                  Yes  CV19-11-S3.2A   \n",
       "GW13_TTTGTCATCGTGTAGT-1           No                  Yes  CV19-11-S3.2A   \n",
       "\n",
       "                                  Smoking               Ethnicity Symptomatic  \\\n",
       "GW1_AAACGGGAGCTAGTCT-1   Never or unknown  Not Hispanic or Latino         Yes   \n",
       "GW1_AAAGTAGTCCTAGGGC-1   Never or unknown  Not Hispanic or Latino         Yes   \n",
       "GW1_AACACGTCAGCGTCCA-1   Never or unknown  Not Hispanic or Latino         Yes   \n",
       "GW1_AACCATGAGAATCTCC-1   Never or unknown  Not Hispanic or Latino         Yes   \n",
       "GW1_AACCATGCATCCTTGC-1   Never or unknown  Not Hispanic or Latino         Yes   \n",
       "...                                   ...                     ...         ...   \n",
       "GW13_TTTCCTCCAAGCCTAT-1  Never or unknown      Hispanic or Latino         Yes   \n",
       "GW13_TTTCCTCCAAGTCTGT-1  Never or unknown      Hispanic or Latino         Yes   \n",
       "GW13_TTTGTCAAGCCCAATT-1  Never or unknown      Hispanic or Latino         Yes   \n",
       "GW13_TTTGTCAGTAGGACAC-1  Never or unknown      Hispanic or Latino         Yes   \n",
       "GW13_TTTGTCATCGTGTAGT-1  Never or unknown      Hispanic or Latino         Yes   \n",
       "\n",
       "                        Pre-existing kidney disease Sex  \\\n",
       "GW1_AAACGGGAGCTAGTCT-1                           No   F   \n",
       "GW1_AAAGTAGTCCTAGGGC-1                           No   F   \n",
       "GW1_AACACGTCAGCGTCCA-1                           No   F   \n",
       "GW1_AACCATGAGAATCTCC-1                           No   F   \n",
       "GW1_AACCATGCATCCTTGC-1                           No   F   \n",
       "...                                             ...  ..   \n",
       "GW13_TTTCCTCCAAGCCTAT-1                          No   F   \n",
       "GW13_TTTCCTCCAAGTCTGT-1                          No   F   \n",
       "GW13_TTTGTCAAGCCCAATT-1                          No   F   \n",
       "GW13_TTTGTCAGTAGGACAC-1                          No   F   \n",
       "GW13_TTTGTCATCGTGTAGT-1                          No   F   \n",
       "\n",
       "                           Highest level of respiratory support  \\\n",
       "GW1_AAACGGGAGCTAGTCT-1   Mechanical ventilation with intubation   \n",
       "GW1_AAAGTAGTCCTAGGGC-1   Mechanical ventilation with intubation   \n",
       "GW1_AACACGTCAGCGTCCA-1   Mechanical ventilation with intubation   \n",
       "GW1_AACCATGAGAATCTCC-1   Mechanical ventilation with intubation   \n",
       "GW1_AACCATGCATCCTTGC-1   Mechanical ventilation with intubation   \n",
       "...                                                         ...   \n",
       "GW13_TTTCCTCCAAGCCTAT-1  Mechanical ventilation with intubation   \n",
       "GW13_TTTCCTCCAAGTCTGT-1  Mechanical ventilation with intubation   \n",
       "GW13_TTTGTCAAGCCCAATT-1  Mechanical ventilation with intubation   \n",
       "GW13_TTTGTCAGTAGGACAC-1  Mechanical ventilation with intubation   \n",
       "GW13_TTTGTCATCGTGTAGT-1  Mechanical ventilation with intubation   \n",
       "\n",
       "                        SARS-CoV-2 PCR                   CellType  \\\n",
       "GW1_AAACGGGAGCTAGTCT-1        Positive       Secretary epithelium   \n",
       "GW1_AAAGTAGTCCTAGGGC-1        Positive  Secretary epithelium KRT5   \n",
       "GW1_AACACGTCAGCGTCCA-1        Positive        Ciliated epithelium   \n",
       "GW1_AACCATGAGAATCTCC-1        Positive       Secretary epithelium   \n",
       "GW1_AACCATGCATCCTTGC-1        Positive        Ciliated epithelium   \n",
       "...                                ...                        ...   \n",
       "GW13_TTTCCTCCAAGCCTAT-1       Positive                 Tcells CD8   \n",
       "GW13_TTTCCTCCAAGTCTGT-1       Positive                 Tcells CD8   \n",
       "GW13_TTTGTCAAGCCCAATT-1       Positive       Secretary epithelium   \n",
       "GW13_TTTGTCAGTAGGACAC-1       Positive      Squamous epithelium 1   \n",
       "GW13_TTTGTCATCGTGTAGT-1       Positive      Squamous epithelium 1   \n",
       "\n",
       "                        Pre-existing heart disease  \n",
       "GW1_AAACGGGAGCTAGTCT-1                          No  \n",
       "GW1_AAAGTAGTCCTAGGGC-1                          No  \n",
       "GW1_AACACGTCAGCGTCCA-1                          No  \n",
       "GW1_AACCATGAGAATCTCC-1                          No  \n",
       "GW1_AACCATGCATCCTTGC-1                          No  \n",
       "...                                            ...  \n",
       "GW13_TTTCCTCCAAGCCTAT-1                         No  \n",
       "GW13_TTTCCTCCAAGTCTGT-1                         No  \n",
       "GW13_TTTGTCAAGCCCAATT-1                         No  \n",
       "GW13_TTTGTCAGTAGGACAC-1                         No  \n",
       "GW13_TTTGTCATCGTGTAGT-1                         No  \n",
       "\n",
       "[4936 rows x 20 columns]"
      ],
      "text/html": "<div>\n<style scoped>\n    .dataframe tbody tr th:only-of-type {\n        vertical-align: middle;\n    }\n\n    .dataframe tbody tr th {\n        vertical-align: top;\n    }\n\n    .dataframe thead th {\n        text-align: right;\n    }\n</style>\n<table border=\"1\" class=\"dataframe\">\n  <thead>\n    <tr style=\"text-align: right;\">\n      <th></th>\n      <th>Race</th>\n      <th>BMI</th>\n      <th>Pre-existing immunocompromised condition</th>\n      <th>Pre-existing Hypertension</th>\n      <th>Donor Id</th>\n      <th>Pre-existing lung disease</th>\n      <th>Pre-existing diabetes</th>\n      <th>Age</th>\n      <th>28-day death</th>\n      <th>Admitted to hospital</th>\n      <th>Lab number</th>\n      <th>Smoking</th>\n      <th>Ethnicity</th>\n      <th>Symptomatic</th>\n      <th>Pre-existing kidney disease</th>\n      <th>Sex</th>\n      <th>Highest level of respiratory support</th>\n      <th>SARS-CoV-2 PCR</th>\n      <th>CellType</th>\n      <th>Pre-existing heart disease</th>\n    </tr>\n  </thead>\n  <tbody>\n    <tr>\n      <th>GW1_AAACGGGAGCTAGTCT-1</th>\n      <td>White</td>\n      <td>30.0-39.9 (obese)</td>\n      <td>Yes</td>\n      <td>No</td>\n      <td>GWAS_1</td>\n      <td>No</td>\n      <td>No</td>\n      <td>18</td>\n      <td>No</td>\n      <td>Yes</td>\n      <td>CV19-1-S3.2A</td>\n      <td>Never or unknown</td>\n      <td>Not Hispanic or Latino</td>\n      <td>Yes</td>\n      <td>No</td>\n      <td>F</td>\n      <td>Mechanical ventilation with intubation</td>\n      <td>Positive</td>\n      <td>Secretary epithelium</td>\n      <td>No</td>\n    </tr>\n    <tr>\n      <th>GW1_AAAGTAGTCCTAGGGC-1</th>\n      <td>White</td>\n      <td>30.0-39.9 (obese)</td>\n      <td>Yes</td>\n      <td>No</td>\n      <td>GWAS_1</td>\n      <td>No</td>\n      <td>No</td>\n      <td>18</td>\n      <td>No</td>\n      <td>Yes</td>\n      <td>CV19-1-S3.2A</td>\n      <td>Never or unknown</td>\n      <td>Not Hispanic or Latino</td>\n      <td>Yes</td>\n      <td>No</td>\n      <td>F</td>\n      <td>Mechanical ventilation with intubation</td>\n      <td>Positive</td>\n      <td>Secretary epithelium KRT5</td>\n      <td>No</td>\n    </tr>\n    <tr>\n      <th>GW1_AACACGTCAGCGTCCA-1</th>\n      <td>White</td>\n      <td>30.0-39.9 (obese)</td>\n      <td>Yes</td>\n      <td>No</td>\n      <td>GWAS_1</td>\n      <td>No</td>\n      <td>No</td>\n      <td>18</td>\n      <td>No</td>\n      <td>Yes</td>\n      <td>CV19-1-S3.2A</td>\n      <td>Never or unknown</td>\n      <td>Not Hispanic or Latino</td>\n      <td>Yes</td>\n      <td>No</td>\n      <td>F</td>\n      <td>Mechanical ventilation with intubation</td>\n      <td>Positive</td>\n      <td>Ciliated epithelium</td>\n      <td>No</td>\n    </tr>\n    <tr>\n      <th>GW1_AACCATGAGAATCTCC-1</th>\n      <td>White</td>\n      <td>30.0-39.9 (obese)</td>\n      <td>Yes</td>\n      <td>No</td>\n      <td>GWAS_1</td>\n      <td>No</td>\n      <td>No</td>\n      <td>18</td>\n      <td>No</td>\n      <td>Yes</td>\n      <td>CV19-1-S3.2A</td>\n      <td>Never or unknown</td>\n      <td>Not Hispanic or Latino</td>\n      <td>Yes</td>\n      <td>No</td>\n      <td>F</td>\n      <td>Mechanical ventilation with intubation</td>\n      <td>Positive</td>\n      <td>Secretary epithelium</td>\n      <td>No</td>\n    </tr>\n    <tr>\n      <th>GW1_AACCATGCATCCTTGC-1</th>\n      <td>White</td>\n      <td>30.0-39.9 (obese)</td>\n      <td>Yes</td>\n      <td>No</td>\n      <td>GWAS_1</td>\n      <td>No</td>\n      <td>No</td>\n      <td>18</td>\n      <td>No</td>\n      <td>Yes</td>\n      <td>CV19-1-S3.2A</td>\n      <td>Never or unknown</td>\n      <td>Not Hispanic or Latino</td>\n      <td>Yes</td>\n      <td>No</td>\n      <td>F</td>\n      <td>Mechanical ventilation with intubation</td>\n      <td>Positive</td>\n      <td>Ciliated epithelium</td>\n      <td>No</td>\n    </tr>\n    <tr>\n      <th>...</th>\n      <td>...</td>\n      <td>...</td>\n      <td>...</td>\n      <td>...</td>\n      <td>...</td>\n      <td>...</td>\n      <td>...</td>\n      <td>...</td>\n      <td>...</td>\n      <td>...</td>\n      <td>...</td>\n      <td>...</td>\n      <td>...</td>\n      <td>...</td>\n      <td>...</td>\n      <td>...</td>\n      <td>...</td>\n      <td>...</td>\n      <td>...</td>\n      <td>...</td>\n    </tr>\n    <tr>\n      <th>GW13_TTTCCTCCAAGCCTAT-1</th>\n      <td>White</td>\n      <td>Unknown</td>\n      <td>Yes</td>\n      <td>No</td>\n      <td>GWAS_11</td>\n      <td>No</td>\n      <td>No</td>\n      <td>50</td>\n      <td>No</td>\n      <td>Yes</td>\n      <td>CV19-11-S3.2A</td>\n      <td>Never or unknown</td>\n      <td>Hispanic or Latino</td>\n      <td>Yes</td>\n      <td>No</td>\n      <td>F</td>\n      <td>Mechanical ventilation with intubation</td>\n      <td>Positive</td>\n      <td>Tcells CD8</td>\n      <td>No</td>\n    </tr>\n    <tr>\n      <th>GW13_TTTCCTCCAAGTCTGT-1</th>\n      <td>White</td>\n      <td>Unknown</td>\n      <td>Yes</td>\n      <td>No</td>\n      <td>GWAS_11</td>\n      <td>No</td>\n      <td>No</td>\n      <td>50</td>\n      <td>No</td>\n      <td>Yes</td>\n      <td>CV19-11-S3.2A</td>\n      <td>Never or unknown</td>\n      <td>Hispanic or Latino</td>\n      <td>Yes</td>\n      <td>No</td>\n      <td>F</td>\n      <td>Mechanical ventilation with intubation</td>\n      <td>Positive</td>\n      <td>Tcells CD8</td>\n      <td>No</td>\n    </tr>\n    <tr>\n      <th>GW13_TTTGTCAAGCCCAATT-1</th>\n      <td>White</td>\n      <td>Unknown</td>\n      <td>Yes</td>\n      <td>No</td>\n      <td>GWAS_11</td>\n      <td>No</td>\n      <td>No</td>\n      <td>50</td>\n      <td>No</td>\n      <td>Yes</td>\n      <td>CV19-11-S3.2A</td>\n      <td>Never or unknown</td>\n      <td>Hispanic or Latino</td>\n      <td>Yes</td>\n      <td>No</td>\n      <td>F</td>\n      <td>Mechanical ventilation with intubation</td>\n      <td>Positive</td>\n      <td>Secretary epithelium</td>\n      <td>No</td>\n    </tr>\n    <tr>\n      <th>GW13_TTTGTCAGTAGGACAC-1</th>\n      <td>White</td>\n      <td>Unknown</td>\n      <td>Yes</td>\n      <td>No</td>\n      <td>GWAS_11</td>\n      <td>No</td>\n      <td>No</td>\n      <td>50</td>\n      <td>No</td>\n      <td>Yes</td>\n      <td>CV19-11-S3.2A</td>\n      <td>Never or unknown</td>\n      <td>Hispanic or Latino</td>\n      <td>Yes</td>\n      <td>No</td>\n      <td>F</td>\n      <td>Mechanical ventilation with intubation</td>\n      <td>Positive</td>\n      <td>Squamous epithelium 1</td>\n      <td>No</td>\n    </tr>\n    <tr>\n      <th>GW13_TTTGTCATCGTGTAGT-1</th>\n      <td>White</td>\n      <td>Unknown</td>\n      <td>Yes</td>\n      <td>No</td>\n      <td>GWAS_11</td>\n      <td>No</td>\n      <td>No</td>\n      <td>50</td>\n      <td>No</td>\n      <td>Yes</td>\n      <td>CV19-11-S3.2A</td>\n      <td>Never or unknown</td>\n      <td>Hispanic or Latino</td>\n      <td>Yes</td>\n      <td>No</td>\n      <td>F</td>\n      <td>Mechanical ventilation with intubation</td>\n      <td>Positive</td>\n      <td>Squamous epithelium 1</td>\n      <td>No</td>\n    </tr>\n  </tbody>\n</table>\n<p>4936 rows × 20 columns</p>\n</div>"
     },
     "metadata": {},
     "execution_count": 80
    }
   ],
   "source": [
    "X[set(X.columns) - set(numerical_cols)]"
   ]
  },
  {
   "cell_type": "code",
   "execution_count": null,
   "metadata": {},
   "outputs": [],
   "source": []
  },
  {
   "source": [
    "# Feature Rescaling\n",
    "\n",
    "It may be prudent to rescale features, especially if each feature is not on the same given scale. This may be done to remove the bias of certain features given downstream tasks. For instance, take the following features from our $X$: ```log2p1_RNAcount``` and ```nFeature_RNA```."
   ],
   "cell_type": "markdown",
   "metadata": {}
  },
  {
   "cell_type": "code",
   "execution_count": 57,
   "metadata": {},
   "outputs": [
    {
     "output_type": "execute_result",
     "data": {
      "text/plain": [
       "                        log2p1_RNAcount  nFeature_RNA\n",
       "GW1_AAACGGGAGCTAGTCT-1        14.909096          5687\n",
       "GW1_AAAGTAGTCCTAGGGC-1        13.611947          3967\n",
       "GW1_AACACGTCAGCGTCCA-1         9.366322           513\n",
       "GW1_AACCATGAGAATCTCC-1        15.217731          6260\n",
       "GW1_AACCATGCATCCTTGC-1         9.134426           439"
      ],
      "text/html": "<div>\n<style scoped>\n    .dataframe tbody tr th:only-of-type {\n        vertical-align: middle;\n    }\n\n    .dataframe tbody tr th {\n        vertical-align: top;\n    }\n\n    .dataframe thead th {\n        text-align: right;\n    }\n</style>\n<table border=\"1\" class=\"dataframe\">\n  <thead>\n    <tr style=\"text-align: right;\">\n      <th></th>\n      <th>log2p1_RNAcount</th>\n      <th>nFeature_RNA</th>\n    </tr>\n  </thead>\n  <tbody>\n    <tr>\n      <th>GW1_AAACGGGAGCTAGTCT-1</th>\n      <td>14.909096</td>\n      <td>5687</td>\n    </tr>\n    <tr>\n      <th>GW1_AAAGTAGTCCTAGGGC-1</th>\n      <td>13.611947</td>\n      <td>3967</td>\n    </tr>\n    <tr>\n      <th>GW1_AACACGTCAGCGTCCA-1</th>\n      <td>9.366322</td>\n      <td>513</td>\n    </tr>\n    <tr>\n      <th>GW1_AACCATGAGAATCTCC-1</th>\n      <td>15.217731</td>\n      <td>6260</td>\n    </tr>\n    <tr>\n      <th>GW1_AACCATGCATCCTTGC-1</th>\n      <td>9.134426</td>\n      <td>439</td>\n    </tr>\n  </tbody>\n</table>\n</div>"
     },
     "metadata": {},
     "execution_count": 57
    }
   ],
   "source": [
    "X[['log2p1_RNAcount', 'nFeature_RNA']].head()"
   ]
  },
  {
   "source": [
    "In an extraction process (such as PCA, making use of covariance), or when using a classifier making use of Euclidean distance, the feature with the largest numerical range will be naturally more weighted."
   ],
   "cell_type": "markdown",
   "metadata": {}
  },
  {
   "cell_type": "code",
   "execution_count": 61,
   "metadata": {},
   "outputs": [
    {
     "output_type": "stream",
     "name": "stdout",
     "text": [
      "12.476429788752128\n9651\n"
     ]
    }
   ],
   "source": [
    "x_1 = X['log2p1_RNAcount']\n",
    "x_2 = X['nFeature_RNA']\n",
    "\n",
    "range_1 = x_1.max()-x_1.min()\n",
    "range_2 = x_2.max()-x_2.min()\n",
    "\n",
    "print(range_1, range_2, sep='\\n')"
   ]
  },
  {
   "source": [
    "```nFeature_RNA``` therefore has a much more significant bearing on an outcome contingent upon this range.\n",
    "\n",
    "We therefore rescale in a few ways:\n",
    "\n",
    "- 1) with min/max rescaling\n",
    "    - $x_i' = \\frac{x_i - min(x)}{max(x) - min(x)}$\n",
    "    - simple, preserves mean of dataset. Useful for image pixel intensity, for instance.\n",
    "- 2) with $z$-score normalization\n",
    "    - $x_i' = \\frac{x_i - \\bar{x}}{\\sigma}$ = $\\text{number of standard deviations from the mean}$ = $z\\text{-score}$\n",
    "    - standardizes features, typically with $\\mu = 0,\\sigma^2 = 1$. This is a better choice than min/max for things like PCA since in that case we want to select components maximizing variance of the feature matrix, without getting caught up by the scale of that variance.\n",
    "\n",
    "- 3) with median and interquartile range rescaling (robust rescaling).\n",
    "    - Remove the median value and scale according to interquartile range.\n",
    "    - better choice if there are significant outliers.\n",
    "\n",
    "Let's go with 3) somewhat arbitrarily but also in the case of outliers."
   ],
   "cell_type": "markdown",
   "metadata": {}
  },
  {
   "cell_type": "code",
   "execution_count": 62,
   "metadata": {},
   "outputs": [
    {
     "output_type": "error",
     "ename": "ValueError",
     "evalue": "could not convert string to float: 'Secretary epithelium'",
     "traceback": [
      "\u001b[0;31m---------------------------------------------------------------------------\u001b[0m",
      "\u001b[0;31mValueError\u001b[0m                                Traceback (most recent call last)",
      "\u001b[0;32m<ipython-input-62-da54db209324>\u001b[0m in \u001b[0;36m<module>\u001b[0;34m\u001b[0m\n\u001b[1;32m      2\u001b[0m \u001b[0;34m\u001b[0m\u001b[0m\n\u001b[1;32m      3\u001b[0m \u001b[0mrobust_scaler\u001b[0m \u001b[0;34m=\u001b[0m \u001b[0mpreprocessing\u001b[0m\u001b[0;34m.\u001b[0m\u001b[0mRobustScaler\u001b[0m\u001b[0;34m(\u001b[0m\u001b[0;34m)\u001b[0m\u001b[0;34m\u001b[0m\u001b[0;34m\u001b[0m\u001b[0m\n\u001b[0;32m----> 4\u001b[0;31m \u001b[0mrobust_scaler\u001b[0m\u001b[0;34m.\u001b[0m\u001b[0mfit_transform\u001b[0m\u001b[0;34m(\u001b[0m\u001b[0mX\u001b[0m\u001b[0;34m)\u001b[0m\u001b[0;34m\u001b[0m\u001b[0;34m\u001b[0m\u001b[0m\n\u001b[0m",
      "\u001b[0;32m~/opt/anaconda3/envs/pt_xmlc_transformer/lib/python3.8/site-packages/sklearn/base.py\u001b[0m in \u001b[0;36mfit_transform\u001b[0;34m(self, X, y, **fit_params)\u001b[0m\n\u001b[1;32m    688\u001b[0m         \u001b[0;32mif\u001b[0m \u001b[0my\u001b[0m \u001b[0;32mis\u001b[0m \u001b[0;32mNone\u001b[0m\u001b[0;34m:\u001b[0m\u001b[0;34m\u001b[0m\u001b[0;34m\u001b[0m\u001b[0m\n\u001b[1;32m    689\u001b[0m             \u001b[0;31m# fit method of arity 1 (unsupervised transformation)\u001b[0m\u001b[0;34m\u001b[0m\u001b[0;34m\u001b[0m\u001b[0;34m\u001b[0m\u001b[0m\n\u001b[0;32m--> 690\u001b[0;31m             \u001b[0;32mreturn\u001b[0m \u001b[0mself\u001b[0m\u001b[0;34m.\u001b[0m\u001b[0mfit\u001b[0m\u001b[0;34m(\u001b[0m\u001b[0mX\u001b[0m\u001b[0;34m,\u001b[0m \u001b[0;34m**\u001b[0m\u001b[0mfit_params\u001b[0m\u001b[0;34m)\u001b[0m\u001b[0;34m.\u001b[0m\u001b[0mtransform\u001b[0m\u001b[0;34m(\u001b[0m\u001b[0mX\u001b[0m\u001b[0;34m)\u001b[0m\u001b[0;34m\u001b[0m\u001b[0;34m\u001b[0m\u001b[0m\n\u001b[0m\u001b[1;32m    691\u001b[0m         \u001b[0;32melse\u001b[0m\u001b[0;34m:\u001b[0m\u001b[0;34m\u001b[0m\u001b[0;34m\u001b[0m\u001b[0m\n\u001b[1;32m    692\u001b[0m             \u001b[0;31m# fit method of arity 2 (supervised transformation)\u001b[0m\u001b[0;34m\u001b[0m\u001b[0;34m\u001b[0m\u001b[0;34m\u001b[0m\u001b[0m\n",
      "\u001b[0;32m~/opt/anaconda3/envs/pt_xmlc_transformer/lib/python3.8/site-packages/sklearn/preprocessing/_data.py\u001b[0m in \u001b[0;36mfit\u001b[0;34m(self, X, y)\u001b[0m\n\u001b[1;32m   1198\u001b[0m         \u001b[0;31m# at fit, convert sparse matrices to csc for optimized computation of\u001b[0m\u001b[0;34m\u001b[0m\u001b[0;34m\u001b[0m\u001b[0;34m\u001b[0m\u001b[0m\n\u001b[1;32m   1199\u001b[0m         \u001b[0;31m# the quantiles\u001b[0m\u001b[0;34m\u001b[0m\u001b[0;34m\u001b[0m\u001b[0;34m\u001b[0m\u001b[0m\n\u001b[0;32m-> 1200\u001b[0;31m         X = self._validate_data(X, accept_sparse='csc', estimator=self,\n\u001b[0m\u001b[1;32m   1201\u001b[0m                                 \u001b[0mdtype\u001b[0m\u001b[0;34m=\u001b[0m\u001b[0mFLOAT_DTYPES\u001b[0m\u001b[0;34m,\u001b[0m\u001b[0;34m\u001b[0m\u001b[0;34m\u001b[0m\u001b[0m\n\u001b[1;32m   1202\u001b[0m                                 force_all_finite='allow-nan')\n",
      "\u001b[0;32m~/opt/anaconda3/envs/pt_xmlc_transformer/lib/python3.8/site-packages/sklearn/base.py\u001b[0m in \u001b[0;36m_validate_data\u001b[0;34m(self, X, y, reset, validate_separately, **check_params)\u001b[0m\n\u001b[1;32m    418\u001b[0m                     \u001b[0;34mf\"requires y to be passed, but the target y is None.\"\u001b[0m\u001b[0;34m\u001b[0m\u001b[0;34m\u001b[0m\u001b[0m\n\u001b[1;32m    419\u001b[0m                 )\n\u001b[0;32m--> 420\u001b[0;31m             \u001b[0mX\u001b[0m \u001b[0;34m=\u001b[0m \u001b[0mcheck_array\u001b[0m\u001b[0;34m(\u001b[0m\u001b[0mX\u001b[0m\u001b[0;34m,\u001b[0m \u001b[0;34m**\u001b[0m\u001b[0mcheck_params\u001b[0m\u001b[0;34m)\u001b[0m\u001b[0;34m\u001b[0m\u001b[0;34m\u001b[0m\u001b[0m\n\u001b[0m\u001b[1;32m    421\u001b[0m             \u001b[0mout\u001b[0m \u001b[0;34m=\u001b[0m \u001b[0mX\u001b[0m\u001b[0;34m\u001b[0m\u001b[0;34m\u001b[0m\u001b[0m\n\u001b[1;32m    422\u001b[0m         \u001b[0;32melse\u001b[0m\u001b[0;34m:\u001b[0m\u001b[0;34m\u001b[0m\u001b[0;34m\u001b[0m\u001b[0m\n",
      "\u001b[0;32m~/opt/anaconda3/envs/pt_xmlc_transformer/lib/python3.8/site-packages/sklearn/utils/validation.py\u001b[0m in \u001b[0;36minner_f\u001b[0;34m(*args, **kwargs)\u001b[0m\n\u001b[1;32m     71\u001b[0m                           FutureWarning)\n\u001b[1;32m     72\u001b[0m         \u001b[0mkwargs\u001b[0m\u001b[0;34m.\u001b[0m\u001b[0mupdate\u001b[0m\u001b[0;34m(\u001b[0m\u001b[0;34m{\u001b[0m\u001b[0mk\u001b[0m\u001b[0;34m:\u001b[0m \u001b[0marg\u001b[0m \u001b[0;32mfor\u001b[0m \u001b[0mk\u001b[0m\u001b[0;34m,\u001b[0m \u001b[0marg\u001b[0m \u001b[0;32min\u001b[0m \u001b[0mzip\u001b[0m\u001b[0;34m(\u001b[0m\u001b[0msig\u001b[0m\u001b[0;34m.\u001b[0m\u001b[0mparameters\u001b[0m\u001b[0;34m,\u001b[0m \u001b[0margs\u001b[0m\u001b[0;34m)\u001b[0m\u001b[0;34m}\u001b[0m\u001b[0;34m)\u001b[0m\u001b[0;34m\u001b[0m\u001b[0;34m\u001b[0m\u001b[0m\n\u001b[0;32m---> 73\u001b[0;31m         \u001b[0;32mreturn\u001b[0m \u001b[0mf\u001b[0m\u001b[0;34m(\u001b[0m\u001b[0;34m**\u001b[0m\u001b[0mkwargs\u001b[0m\u001b[0;34m)\u001b[0m\u001b[0;34m\u001b[0m\u001b[0;34m\u001b[0m\u001b[0m\n\u001b[0m\u001b[1;32m     74\u001b[0m     \u001b[0;32mreturn\u001b[0m \u001b[0minner_f\u001b[0m\u001b[0;34m\u001b[0m\u001b[0;34m\u001b[0m\u001b[0m\n\u001b[1;32m     75\u001b[0m \u001b[0;34m\u001b[0m\u001b[0m\n",
      "\u001b[0;32m~/opt/anaconda3/envs/pt_xmlc_transformer/lib/python3.8/site-packages/sklearn/utils/validation.py\u001b[0m in \u001b[0;36mcheck_array\u001b[0;34m(array, accept_sparse, accept_large_sparse, dtype, order, copy, force_all_finite, ensure_2d, allow_nd, ensure_min_samples, ensure_min_features, estimator)\u001b[0m\n\u001b[1;32m    597\u001b[0m                     \u001b[0marray\u001b[0m \u001b[0;34m=\u001b[0m \u001b[0marray\u001b[0m\u001b[0;34m.\u001b[0m\u001b[0mastype\u001b[0m\u001b[0;34m(\u001b[0m\u001b[0mdtype\u001b[0m\u001b[0;34m,\u001b[0m \u001b[0mcasting\u001b[0m\u001b[0;34m=\u001b[0m\u001b[0;34m\"unsafe\"\u001b[0m\u001b[0;34m,\u001b[0m \u001b[0mcopy\u001b[0m\u001b[0;34m=\u001b[0m\u001b[0;32mFalse\u001b[0m\u001b[0;34m)\u001b[0m\u001b[0;34m\u001b[0m\u001b[0;34m\u001b[0m\u001b[0m\n\u001b[1;32m    598\u001b[0m                 \u001b[0;32melse\u001b[0m\u001b[0;34m:\u001b[0m\u001b[0;34m\u001b[0m\u001b[0;34m\u001b[0m\u001b[0m\n\u001b[0;32m--> 599\u001b[0;31m                     \u001b[0marray\u001b[0m \u001b[0;34m=\u001b[0m \u001b[0mnp\u001b[0m\u001b[0;34m.\u001b[0m\u001b[0masarray\u001b[0m\u001b[0;34m(\u001b[0m\u001b[0marray\u001b[0m\u001b[0;34m,\u001b[0m \u001b[0morder\u001b[0m\u001b[0;34m=\u001b[0m\u001b[0morder\u001b[0m\u001b[0;34m,\u001b[0m \u001b[0mdtype\u001b[0m\u001b[0;34m=\u001b[0m\u001b[0mdtype\u001b[0m\u001b[0;34m)\u001b[0m\u001b[0;34m\u001b[0m\u001b[0;34m\u001b[0m\u001b[0m\n\u001b[0m\u001b[1;32m    600\u001b[0m             \u001b[0;32mexcept\u001b[0m \u001b[0mComplexWarning\u001b[0m\u001b[0;34m:\u001b[0m\u001b[0;34m\u001b[0m\u001b[0;34m\u001b[0m\u001b[0m\n\u001b[1;32m    601\u001b[0m                 raise ValueError(\"Complex data not supported\\n\"\n",
      "\u001b[0;32m~/opt/anaconda3/envs/pt_xmlc_transformer/lib/python3.8/site-packages/numpy/core/_asarray.py\u001b[0m in \u001b[0;36masarray\u001b[0;34m(a, dtype, order)\u001b[0m\n\u001b[1;32m     83\u001b[0m \u001b[0;34m\u001b[0m\u001b[0m\n\u001b[1;32m     84\u001b[0m     \"\"\"\n\u001b[0;32m---> 85\u001b[0;31m     \u001b[0;32mreturn\u001b[0m \u001b[0marray\u001b[0m\u001b[0;34m(\u001b[0m\u001b[0ma\u001b[0m\u001b[0;34m,\u001b[0m \u001b[0mdtype\u001b[0m\u001b[0;34m,\u001b[0m \u001b[0mcopy\u001b[0m\u001b[0;34m=\u001b[0m\u001b[0;32mFalse\u001b[0m\u001b[0;34m,\u001b[0m \u001b[0morder\u001b[0m\u001b[0;34m=\u001b[0m\u001b[0morder\u001b[0m\u001b[0;34m)\u001b[0m\u001b[0;34m\u001b[0m\u001b[0;34m\u001b[0m\u001b[0m\n\u001b[0m\u001b[1;32m     86\u001b[0m \u001b[0;34m\u001b[0m\u001b[0m\n\u001b[1;32m     87\u001b[0m \u001b[0;34m\u001b[0m\u001b[0m\n",
      "\u001b[0;32m~/opt/anaconda3/envs/pt_xmlc_transformer/lib/python3.8/site-packages/pandas/core/generic.py\u001b[0m in \u001b[0;36m__array__\u001b[0;34m(self, dtype)\u001b[0m\n\u001b[1;32m   1776\u001b[0m \u001b[0;34m\u001b[0m\u001b[0m\n\u001b[1;32m   1777\u001b[0m     \u001b[0;32mdef\u001b[0m \u001b[0m__array__\u001b[0m\u001b[0;34m(\u001b[0m\u001b[0mself\u001b[0m\u001b[0;34m,\u001b[0m \u001b[0mdtype\u001b[0m\u001b[0;34m=\u001b[0m\u001b[0;32mNone\u001b[0m\u001b[0;34m)\u001b[0m \u001b[0;34m->\u001b[0m \u001b[0mnp\u001b[0m\u001b[0;34m.\u001b[0m\u001b[0mndarray\u001b[0m\u001b[0;34m:\u001b[0m\u001b[0;34m\u001b[0m\u001b[0;34m\u001b[0m\u001b[0m\n\u001b[0;32m-> 1778\u001b[0;31m         \u001b[0;32mreturn\u001b[0m \u001b[0mnp\u001b[0m\u001b[0;34m.\u001b[0m\u001b[0masarray\u001b[0m\u001b[0;34m(\u001b[0m\u001b[0mself\u001b[0m\u001b[0;34m.\u001b[0m\u001b[0m_values\u001b[0m\u001b[0;34m,\u001b[0m \u001b[0mdtype\u001b[0m\u001b[0;34m=\u001b[0m\u001b[0mdtype\u001b[0m\u001b[0;34m)\u001b[0m\u001b[0;34m\u001b[0m\u001b[0;34m\u001b[0m\u001b[0m\n\u001b[0m\u001b[1;32m   1779\u001b[0m \u001b[0;34m\u001b[0m\u001b[0m\n\u001b[1;32m   1780\u001b[0m     \u001b[0;32mdef\u001b[0m \u001b[0m__array_wrap__\u001b[0m\u001b[0;34m(\u001b[0m\u001b[0mself\u001b[0m\u001b[0;34m,\u001b[0m \u001b[0mresult\u001b[0m\u001b[0;34m,\u001b[0m \u001b[0mcontext\u001b[0m\u001b[0;34m=\u001b[0m\u001b[0;32mNone\u001b[0m\u001b[0;34m)\u001b[0m\u001b[0;34m:\u001b[0m\u001b[0;34m\u001b[0m\u001b[0;34m\u001b[0m\u001b[0m\n",
      "\u001b[0;32m~/opt/anaconda3/envs/pt_xmlc_transformer/lib/python3.8/site-packages/numpy/core/_asarray.py\u001b[0m in \u001b[0;36masarray\u001b[0;34m(a, dtype, order)\u001b[0m\n\u001b[1;32m     83\u001b[0m \u001b[0;34m\u001b[0m\u001b[0m\n\u001b[1;32m     84\u001b[0m     \"\"\"\n\u001b[0;32m---> 85\u001b[0;31m     \u001b[0;32mreturn\u001b[0m \u001b[0marray\u001b[0m\u001b[0;34m(\u001b[0m\u001b[0ma\u001b[0m\u001b[0;34m,\u001b[0m \u001b[0mdtype\u001b[0m\u001b[0;34m,\u001b[0m \u001b[0mcopy\u001b[0m\u001b[0;34m=\u001b[0m\u001b[0;32mFalse\u001b[0m\u001b[0;34m,\u001b[0m \u001b[0morder\u001b[0m\u001b[0;34m=\u001b[0m\u001b[0morder\u001b[0m\u001b[0;34m)\u001b[0m\u001b[0;34m\u001b[0m\u001b[0;34m\u001b[0m\u001b[0m\n\u001b[0m\u001b[1;32m     86\u001b[0m \u001b[0;34m\u001b[0m\u001b[0m\n\u001b[1;32m     87\u001b[0m \u001b[0;34m\u001b[0m\u001b[0m\n",
      "\u001b[0;31mValueError\u001b[0m: could not convert string to float: 'Secretary epithelium'"
     ]
    }
   ],
   "source": [
    "from sklearn import preprocessing\n",
    "\n",
    "robust_scaler = preprocessing.RobustScaler()\n",
    "robust_scaler.fit_transform(X)"
   ]
  },
  {
   "cell_type": "code",
   "execution_count": null,
   "metadata": {},
   "outputs": [],
   "source": []
  },
  {
   "source": [
    "# Feature Extraction\n",
    "\n",
    "Feature extraction is the process of reducing dimensionality to find latent features in a given feature set. This can be done in a variety of ways for a variety of use cases. As for why, let's say we have a dataset with a massive number of features, such that training a network to make use of all the features somewhat equally. That is, let"
   ],
   "cell_type": "markdown",
   "metadata": {}
  },
  {
   "source": [
    "# "
   ],
   "cell_type": "markdown",
   "metadata": {}
  }
 ]
}