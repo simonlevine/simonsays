{
 "metadata": {
  "language_info": {
   "codemirror_mode": {
    "name": "ipython",
    "version": 3
   },
   "file_extension": ".py",
   "mimetype": "text/x-python",
   "name": "python",
   "nbconvert_exporter": "python",
   "pygments_lexer": "ipython3",
   "version": "3.8.6-final"
  },
  "orig_nbformat": 2,
  "kernelspec": {
   "name": "python3",
   "display_name": "Python 3.8.6 64-bit (conda)",
   "metadata": {
    "interpreter": {
     "hash": "70658d0dc983cc69301b6a3d852019c9464e36a3224cbdef5e94f06265ffc19d"
    }
   }
  }
 },
 "nbformat": 4,
 "nbformat_minor": 2,
 "cells": [
  {
   "source": [
    "# Purines, Pyrimidines, and Convolutional Neural Networks\n",
    "> A sketch of CNNs for homotypic motif density localization (finding clusters of the same type of sequence motif).\n",
    "\n",
    "- toc: true \n",
    "- badges: true\n",
    "- comments: true\n",
    "- categories: [jupyter]\n"
   ],
   "cell_type": "markdown",
   "metadata": {}
  },
  {
   "source": [
    "# Background\n",
    "\n",
    "*This notebook is adapted from the CS-185, Spring 2021 course at Brown University* (http://cs.brown.edu/courses/csci1850)\n",
    "\n",
    "## Biology\n",
    "\n",
    "Transcription Factors (TFs) are an important class of protein that bind to sections of DNA. This binding process is mediated by their propensity to attach to particular sequence motifs, or patterns in the DNA sequence. Often, we humans refer to binding as important regulatory regions, as associated transcription factors play a large role in upregulating and/or downregulating sequence transcription. In other words, finding the location of such motifs on a given sequence allows us to glean a functional understanding from structure alone. If an algorithm can be trained to detect relevant motifs given a cluster with high fidelity, then the algorithm could obviate hand-tuned feature identification, and even predict likely TF binding sites from unknown sequences. In fact, this is the exact problem we will solve in this exercise.\n",
    "\n",
    "## Dataset \n",
    "\n",
    "The small dataset provided actually is *simulated* homotypic motif density localization data. For more about how to generate such data, see the Kundaje Lab's DragoNN (http://kundajelab.github.io/dragonn/), and if you want, try to beat their results with, perhaps, the GAN from my previous post 😉. The nice thing about this dataset is that it is already formatted for easy loading. Each \"sequence\" is actually a $1500-mer$, and, given their *in silico* provenance, we can assume 🌟 perfect coverage 🌟 and 🌸 no sequencing errors 🌸 for the purpose of this exercise. We can take a peek at the training split below."
   ],
   "cell_type": "markdown",
   "metadata": {}
  },
  {
   "cell_type": "code",
   "execution_count": 1,
   "metadata": {},
   "outputs": [],
   "source": [
    "# !wget http://cs.brown.edu/courses/csci1850/homeworks/hw1/hw1_data.npz\n",
    "\n",
    "#Get the data."
   ]
  },
  {
   "cell_type": "code",
   "execution_count": 2,
   "metadata": {},
   "outputs": [
    {
     "output_type": "execute_result",
     "data": {
      "text/plain": [
       "                                                   X        y\n",
       "0  TGTTACGCTATCGCGAACAGTATGTTCAAGTGGGCGTTCGCTAGGA...   [True]\n",
       "1  CAAACTTCTTCAAAGGATCCCAGATGCGGTTAAATCATACCACCAA...   [True]\n",
       "2  GACCATGCCTTGAGGCGTATACATTTGTTGTAGTTGAATTACTACG...   [True]\n",
       "3  AGTATTACGATCATAGAGTATCAGAGTTGTTTTGTAACAGCGTCGG...  [False]\n",
       "4  CTTCAGATACGTAATTACTCTATAATTTACAAACAACCACGTATCC...  [False]\n",
       "5  AGGAGTTTCTATTTCAGAAGTGAACGGTGACAAAAAGTCCACTCAA...   [True]\n",
       "6  GGGTCGAAAAGTATGACGATCCAATCATTAGAAGTGAGGTTCACCT...  [False]\n",
       "7  AATATTTAATTTATCTCCGACCAGTCAAAGATACTGTCTTGAACTG...   [True]\n",
       "8  GGCGCCTTTTTTCTCAAAAGAAAGTGATGTTGTTTTGCATTTCTAT...   [True]\n",
       "9  TCGCCGGATGGACTGCTACCTTGTTGGACTAATGGTATATTTTTCC...   [True]"
      ],
      "text/html": "<div>\n<style scoped>\n    .dataframe tbody tr th:only-of-type {\n        vertical-align: middle;\n    }\n\n    .dataframe tbody tr th {\n        vertical-align: top;\n    }\n\n    .dataframe thead th {\n        text-align: right;\n    }\n</style>\n<table border=\"1\" class=\"dataframe\">\n  <thead>\n    <tr style=\"text-align: right;\">\n      <th></th>\n      <th>X</th>\n      <th>y</th>\n    </tr>\n  </thead>\n  <tbody>\n    <tr>\n      <th>0</th>\n      <td>TGTTACGCTATCGCGAACAGTATGTTCAAGTGGGCGTTCGCTAGGA...</td>\n      <td>[True]</td>\n    </tr>\n    <tr>\n      <th>1</th>\n      <td>CAAACTTCTTCAAAGGATCCCAGATGCGGTTAAATCATACCACCAA...</td>\n      <td>[True]</td>\n    </tr>\n    <tr>\n      <th>2</th>\n      <td>GACCATGCCTTGAGGCGTATACATTTGTTGTAGTTGAATTACTACG...</td>\n      <td>[True]</td>\n    </tr>\n    <tr>\n      <th>3</th>\n      <td>AGTATTACGATCATAGAGTATCAGAGTTGTTTTGTAACAGCGTCGG...</td>\n      <td>[False]</td>\n    </tr>\n    <tr>\n      <th>4</th>\n      <td>CTTCAGATACGTAATTACTCTATAATTTACAAACAACCACGTATCC...</td>\n      <td>[False]</td>\n    </tr>\n    <tr>\n      <th>5</th>\n      <td>AGGAGTTTCTATTTCAGAAGTGAACGGTGACAAAAAGTCCACTCAA...</td>\n      <td>[True]</td>\n    </tr>\n    <tr>\n      <th>6</th>\n      <td>GGGTCGAAAAGTATGACGATCCAATCATTAGAAGTGAGGTTCACCT...</td>\n      <td>[False]</td>\n    </tr>\n    <tr>\n      <th>7</th>\n      <td>AATATTTAATTTATCTCCGACCAGTCAAAGATACTGTCTTGAACTG...</td>\n      <td>[True]</td>\n    </tr>\n    <tr>\n      <th>8</th>\n      <td>GGCGCCTTTTTTCTCAAAAGAAAGTGATGTTGTTTTGCATTTCTAT...</td>\n      <td>[True]</td>\n    </tr>\n    <tr>\n      <th>9</th>\n      <td>TCGCCGGATGGACTGCTACCTTGTTGGACTAATGGTATATTTTTCC...</td>\n      <td>[True]</td>\n    </tr>\n  </tbody>\n</table>\n</div>"
     },
     "metadata": {},
     "execution_count": 2
    }
   ],
   "source": [
    "import numpy as np\n",
    "import pandas as pd\n",
    "data=np.load('./data_dna_cnn/hw1_data.npz')\n",
    "train_seq = data['train_seq']\n",
    "train_y = data['train_y']\n",
    "train_df = pd.DataFrame([train_seq,train_y]).T.rename(columns=dict(zip([0,1],['X','y'])))\n",
    "train_df.head(10)"
   ]
  },
  {
   "cell_type": "code",
   "execution_count": 3,
   "metadata": {},
   "outputs": [
    {
     "output_type": "execute_result",
     "data": {
      "text/plain": [
       "array([1500])"
      ]
     },
     "metadata": {},
     "execution_count": 3
    }
   ],
   "source": [
    "np.unique([len(x) for x in train_df.X])"
   ]
  },
  {
   "cell_type": "code",
   "execution_count": 4,
   "metadata": {},
   "outputs": [
    {
     "output_type": "execute_result",
     "data": {
      "text/plain": [
       "<AxesSubplot:title={'center':'True     2010\\nFalse    1990\\nName: y, dtype: int64'}, ylabel='Frequency'>"
      ]
     },
     "metadata": {},
     "execution_count": 4
    },
    {
     "output_type": "display_data",
     "data": {
      "text/plain": "<Figure size 432x288 with 1 Axes>",
      "image/svg+xml": "<?xml version=\"1.0\" encoding=\"utf-8\" standalone=\"no\"?>\n<!DOCTYPE svg PUBLIC \"-//W3C//DTD SVG 1.1//EN\"\n  \"http://www.w3.org/Graphics/SVG/1.1/DTD/svg11.dtd\">\n<!-- Created with matplotlib (https://matplotlib.org/) -->\n<svg height=\"290.511pt\" version=\"1.1\" viewBox=\"0 0 395.328125 290.511\" width=\"395.328125pt\" xmlns=\"http://www.w3.org/2000/svg\" xmlns:xlink=\"http://www.w3.org/1999/xlink\">\n <metadata>\n  <rdf:RDF xmlns:cc=\"http://creativecommons.org/ns#\" xmlns:dc=\"http://purl.org/dc/elements/1.1/\" xmlns:rdf=\"http://www.w3.org/1999/02/22-rdf-syntax-ns#\">\n   <cc:Work>\n    <dc:type rdf:resource=\"http://purl.org/dc/dcmitype/StillImage\"/>\n    <dc:date>2021-03-04T22:10:30.203093</dc:date>\n    <dc:format>image/svg+xml</dc:format>\n    <dc:creator>\n     <cc:Agent>\n      <dc:title>Matplotlib v3.3.2, https://matplotlib.org/</dc:title>\n     </cc:Agent>\n    </dc:creator>\n   </cc:Work>\n  </rdf:RDF>\n </metadata>\n <defs>\n  <style type=\"text/css\">*{stroke-linecap:butt;stroke-linejoin:round;}</style>\n </defs>\n <g id=\"figure_1\">\n  <g id=\"patch_1\">\n   <path d=\"M 0 290.511 \nL 395.328125 290.511 \nL 395.328125 0 \nL 0 0 \nz\n\"/>\n  </g>\n  <g id=\"axes_1\">\n   <g id=\"patch_2\">\n    <path d=\"M 53.328125 266.632875 \nL 388.128125 266.632875 \nL 388.128125 49.192875 \nL 53.328125 49.192875 \nz\n\"/>\n   </g>\n   <g id=\"patch_3\">\n    <path clip-path=\"url(#pd2930dcf78)\" d=\"M 68.546307 266.632875 \nL 98.98267 266.632875 \nL 98.98267 61.607715 \nL 68.546307 61.607715 \nz\n\" style=\"fill:#8dd3c7;\"/>\n   </g>\n   <g id=\"patch_4\">\n    <path clip-path=\"url(#pd2930dcf78)\" d=\"M 98.98267 266.632875 \nL 129.419034 266.632875 \nL 129.419034 266.632875 \nL 98.98267 266.632875 \nz\n\" style=\"fill:#8dd3c7;\"/>\n   </g>\n   <g id=\"patch_5\">\n    <path clip-path=\"url(#pd2930dcf78)\" d=\"M 129.419034 266.632875 \nL 159.855398 266.632875 \nL 159.855398 266.632875 \nL 129.419034 266.632875 \nz\n\" style=\"fill:#8dd3c7;\"/>\n   </g>\n   <g id=\"patch_6\">\n    <path clip-path=\"url(#pd2930dcf78)\" d=\"M 159.855398 266.632875 \nL 190.291761 266.632875 \nL 190.291761 266.632875 \nL 159.855398 266.632875 \nz\n\" style=\"fill:#8dd3c7;\"/>\n   </g>\n   <g id=\"patch_7\">\n    <path clip-path=\"url(#pd2930dcf78)\" d=\"M 190.291761 266.632875 \nL 220.728125 266.632875 \nL 220.728125 266.632875 \nL 190.291761 266.632875 \nz\n\" style=\"fill:#8dd3c7;\"/>\n   </g>\n   <g id=\"patch_8\">\n    <path clip-path=\"url(#pd2930dcf78)\" d=\"M 220.728125 266.632875 \nL 251.164489 266.632875 \nL 251.164489 266.632875 \nL 220.728125 266.632875 \nz\n\" style=\"fill:#8dd3c7;\"/>\n   </g>\n   <g id=\"patch_9\">\n    <path clip-path=\"url(#pd2930dcf78)\" d=\"M 251.164489 266.632875 \nL 281.600852 266.632875 \nL 281.600852 266.632875 \nL 251.164489 266.632875 \nz\n\" style=\"fill:#8dd3c7;\"/>\n   </g>\n   <g id=\"patch_10\">\n    <path clip-path=\"url(#pd2930dcf78)\" d=\"M 281.600852 266.632875 \nL 312.037216 266.632875 \nL 312.037216 266.632875 \nL 281.600852 266.632875 \nz\n\" style=\"fill:#8dd3c7;\"/>\n   </g>\n   <g id=\"patch_11\">\n    <path clip-path=\"url(#pd2930dcf78)\" d=\"M 312.037216 266.632875 \nL 342.47358 266.632875 \nL 342.47358 266.632875 \nL 312.037216 266.632875 \nz\n\" style=\"fill:#8dd3c7;\"/>\n   </g>\n   <g id=\"patch_12\">\n    <path clip-path=\"url(#pd2930dcf78)\" d=\"M 342.47358 266.632875 \nL 372.909943 266.632875 \nL 372.909943 59.547161 \nL 342.47358 59.547161 \nz\n\" style=\"fill:#8dd3c7;\"/>\n   </g>\n   <g id=\"matplotlib.axis_1\">\n    <g id=\"xtick_1\">\n     <g id=\"line2d_1\">\n      <defs>\n       <path d=\"M 0 0 \nL 0 3.5 \n\" id=\"m828455bf53\" style=\"stroke:#ffffff;stroke-width:0.8;\"/>\n      </defs>\n      <g>\n       <use style=\"fill:#ffffff;stroke:#ffffff;stroke-width:0.8;\" x=\"68.546307\" xlink:href=\"#m828455bf53\" y=\"266.632875\"/>\n      </g>\n     </g>\n     <g id=\"text_1\">\n      <!-- 0.0 -->\n      <g style=\"fill:#ffffff;\" transform=\"translate(60.594744 281.231312)scale(0.1 -0.1)\">\n       <defs>\n        <path d=\"M 31.78125 66.40625 \nQ 24.171875 66.40625 20.328125 58.90625 \nQ 16.5 51.421875 16.5 36.375 \nQ 16.5 21.390625 20.328125 13.890625 \nQ 24.171875 6.390625 31.78125 6.390625 \nQ 39.453125 6.390625 43.28125 13.890625 \nQ 47.125 21.390625 47.125 36.375 \nQ 47.125 51.421875 43.28125 58.90625 \nQ 39.453125 66.40625 31.78125 66.40625 \nz\nM 31.78125 74.21875 \nQ 44.046875 74.21875 50.515625 64.515625 \nQ 56.984375 54.828125 56.984375 36.375 \nQ 56.984375 17.96875 50.515625 8.265625 \nQ 44.046875 -1.421875 31.78125 -1.421875 \nQ 19.53125 -1.421875 13.0625 8.265625 \nQ 6.59375 17.96875 6.59375 36.375 \nQ 6.59375 54.828125 13.0625 64.515625 \nQ 19.53125 74.21875 31.78125 74.21875 \nz\n\" id=\"DejaVuSans-48\"/>\n        <path d=\"M 10.6875 12.40625 \nL 21 12.40625 \nL 21 0 \nL 10.6875 0 \nz\n\" id=\"DejaVuSans-46\"/>\n       </defs>\n       <use xlink:href=\"#DejaVuSans-48\"/>\n       <use x=\"63.623047\" xlink:href=\"#DejaVuSans-46\"/>\n       <use x=\"95.410156\" xlink:href=\"#DejaVuSans-48\"/>\n      </g>\n     </g>\n    </g>\n    <g id=\"xtick_2\">\n     <g id=\"line2d_2\">\n      <g>\n       <use style=\"fill:#ffffff;stroke:#ffffff;stroke-width:0.8;\" x=\"129.419034\" xlink:href=\"#m828455bf53\" y=\"266.632875\"/>\n      </g>\n     </g>\n     <g id=\"text_2\">\n      <!-- 0.2 -->\n      <g style=\"fill:#ffffff;\" transform=\"translate(121.467472 281.231312)scale(0.1 -0.1)\">\n       <defs>\n        <path d=\"M 19.1875 8.296875 \nL 53.609375 8.296875 \nL 53.609375 0 \nL 7.328125 0 \nL 7.328125 8.296875 \nQ 12.9375 14.109375 22.625 23.890625 \nQ 32.328125 33.6875 34.8125 36.53125 \nQ 39.546875 41.84375 41.421875 45.53125 \nQ 43.3125 49.21875 43.3125 52.78125 \nQ 43.3125 58.59375 39.234375 62.25 \nQ 35.15625 65.921875 28.609375 65.921875 \nQ 23.96875 65.921875 18.8125 64.3125 \nQ 13.671875 62.703125 7.8125 59.421875 \nL 7.8125 69.390625 \nQ 13.765625 71.78125 18.9375 73 \nQ 24.125 74.21875 28.421875 74.21875 \nQ 39.75 74.21875 46.484375 68.546875 \nQ 53.21875 62.890625 53.21875 53.421875 \nQ 53.21875 48.921875 51.53125 44.890625 \nQ 49.859375 40.875 45.40625 35.40625 \nQ 44.1875 33.984375 37.640625 27.21875 \nQ 31.109375 20.453125 19.1875 8.296875 \nz\n\" id=\"DejaVuSans-50\"/>\n       </defs>\n       <use xlink:href=\"#DejaVuSans-48\"/>\n       <use x=\"63.623047\" xlink:href=\"#DejaVuSans-46\"/>\n       <use x=\"95.410156\" xlink:href=\"#DejaVuSans-50\"/>\n      </g>\n     </g>\n    </g>\n    <g id=\"xtick_3\">\n     <g id=\"line2d_3\">\n      <g>\n       <use style=\"fill:#ffffff;stroke:#ffffff;stroke-width:0.8;\" x=\"190.291761\" xlink:href=\"#m828455bf53\" y=\"266.632875\"/>\n      </g>\n     </g>\n     <g id=\"text_3\">\n      <!-- 0.4 -->\n      <g style=\"fill:#ffffff;\" transform=\"translate(182.340199 281.231312)scale(0.1 -0.1)\">\n       <defs>\n        <path d=\"M 37.796875 64.3125 \nL 12.890625 25.390625 \nL 37.796875 25.390625 \nz\nM 35.203125 72.90625 \nL 47.609375 72.90625 \nL 47.609375 25.390625 \nL 58.015625 25.390625 \nL 58.015625 17.1875 \nL 47.609375 17.1875 \nL 47.609375 0 \nL 37.796875 0 \nL 37.796875 17.1875 \nL 4.890625 17.1875 \nL 4.890625 26.703125 \nz\n\" id=\"DejaVuSans-52\"/>\n       </defs>\n       <use xlink:href=\"#DejaVuSans-48\"/>\n       <use x=\"63.623047\" xlink:href=\"#DejaVuSans-46\"/>\n       <use x=\"95.410156\" xlink:href=\"#DejaVuSans-52\"/>\n      </g>\n     </g>\n    </g>\n    <g id=\"xtick_4\">\n     <g id=\"line2d_4\">\n      <g>\n       <use style=\"fill:#ffffff;stroke:#ffffff;stroke-width:0.8;\" x=\"251.164489\" xlink:href=\"#m828455bf53\" y=\"266.632875\"/>\n      </g>\n     </g>\n     <g id=\"text_4\">\n      <!-- 0.6 -->\n      <g style=\"fill:#ffffff;\" transform=\"translate(243.212926 281.231312)scale(0.1 -0.1)\">\n       <defs>\n        <path d=\"M 33.015625 40.375 \nQ 26.375 40.375 22.484375 35.828125 \nQ 18.609375 31.296875 18.609375 23.390625 \nQ 18.609375 15.53125 22.484375 10.953125 \nQ 26.375 6.390625 33.015625 6.390625 \nQ 39.65625 6.390625 43.53125 10.953125 \nQ 47.40625 15.53125 47.40625 23.390625 \nQ 47.40625 31.296875 43.53125 35.828125 \nQ 39.65625 40.375 33.015625 40.375 \nz\nM 52.59375 71.296875 \nL 52.59375 62.3125 \nQ 48.875 64.0625 45.09375 64.984375 \nQ 41.3125 65.921875 37.59375 65.921875 \nQ 27.828125 65.921875 22.671875 59.328125 \nQ 17.53125 52.734375 16.796875 39.40625 \nQ 19.671875 43.65625 24.015625 45.921875 \nQ 28.375 48.1875 33.59375 48.1875 \nQ 44.578125 48.1875 50.953125 41.515625 \nQ 57.328125 34.859375 57.328125 23.390625 \nQ 57.328125 12.15625 50.6875 5.359375 \nQ 44.046875 -1.421875 33.015625 -1.421875 \nQ 20.359375 -1.421875 13.671875 8.265625 \nQ 6.984375 17.96875 6.984375 36.375 \nQ 6.984375 53.65625 15.1875 63.9375 \nQ 23.390625 74.21875 37.203125 74.21875 \nQ 40.921875 74.21875 44.703125 73.484375 \nQ 48.484375 72.75 52.59375 71.296875 \nz\n\" id=\"DejaVuSans-54\"/>\n       </defs>\n       <use xlink:href=\"#DejaVuSans-48\"/>\n       <use x=\"63.623047\" xlink:href=\"#DejaVuSans-46\"/>\n       <use x=\"95.410156\" xlink:href=\"#DejaVuSans-54\"/>\n      </g>\n     </g>\n    </g>\n    <g id=\"xtick_5\">\n     <g id=\"line2d_5\">\n      <g>\n       <use style=\"fill:#ffffff;stroke:#ffffff;stroke-width:0.8;\" x=\"312.037216\" xlink:href=\"#m828455bf53\" y=\"266.632875\"/>\n      </g>\n     </g>\n     <g id=\"text_5\">\n      <!-- 0.8 -->\n      <g style=\"fill:#ffffff;\" transform=\"translate(304.085653 281.231312)scale(0.1 -0.1)\">\n       <defs>\n        <path d=\"M 31.78125 34.625 \nQ 24.75 34.625 20.71875 30.859375 \nQ 16.703125 27.09375 16.703125 20.515625 \nQ 16.703125 13.921875 20.71875 10.15625 \nQ 24.75 6.390625 31.78125 6.390625 \nQ 38.8125 6.390625 42.859375 10.171875 \nQ 46.921875 13.96875 46.921875 20.515625 \nQ 46.921875 27.09375 42.890625 30.859375 \nQ 38.875 34.625 31.78125 34.625 \nz\nM 21.921875 38.8125 \nQ 15.578125 40.375 12.03125 44.71875 \nQ 8.5 49.078125 8.5 55.328125 \nQ 8.5 64.0625 14.71875 69.140625 \nQ 20.953125 74.21875 31.78125 74.21875 \nQ 42.671875 74.21875 48.875 69.140625 \nQ 55.078125 64.0625 55.078125 55.328125 \nQ 55.078125 49.078125 51.53125 44.71875 \nQ 48 40.375 41.703125 38.8125 \nQ 48.828125 37.15625 52.796875 32.3125 \nQ 56.78125 27.484375 56.78125 20.515625 \nQ 56.78125 9.90625 50.3125 4.234375 \nQ 43.84375 -1.421875 31.78125 -1.421875 \nQ 19.734375 -1.421875 13.25 4.234375 \nQ 6.78125 9.90625 6.78125 20.515625 \nQ 6.78125 27.484375 10.78125 32.3125 \nQ 14.796875 37.15625 21.921875 38.8125 \nz\nM 18.3125 54.390625 \nQ 18.3125 48.734375 21.84375 45.5625 \nQ 25.390625 42.390625 31.78125 42.390625 \nQ 38.140625 42.390625 41.71875 45.5625 \nQ 45.3125 48.734375 45.3125 54.390625 \nQ 45.3125 60.0625 41.71875 63.234375 \nQ 38.140625 66.40625 31.78125 66.40625 \nQ 25.390625 66.40625 21.84375 63.234375 \nQ 18.3125 60.0625 18.3125 54.390625 \nz\n\" id=\"DejaVuSans-56\"/>\n       </defs>\n       <use xlink:href=\"#DejaVuSans-48\"/>\n       <use x=\"63.623047\" xlink:href=\"#DejaVuSans-46\"/>\n       <use x=\"95.410156\" xlink:href=\"#DejaVuSans-56\"/>\n      </g>\n     </g>\n    </g>\n    <g id=\"xtick_6\">\n     <g id=\"line2d_6\">\n      <g>\n       <use style=\"fill:#ffffff;stroke:#ffffff;stroke-width:0.8;\" x=\"372.909943\" xlink:href=\"#m828455bf53\" y=\"266.632875\"/>\n      </g>\n     </g>\n     <g id=\"text_6\">\n      <!-- 1.0 -->\n      <g style=\"fill:#ffffff;\" transform=\"translate(364.958381 281.231312)scale(0.1 -0.1)\">\n       <defs>\n        <path d=\"M 12.40625 8.296875 \nL 28.515625 8.296875 \nL 28.515625 63.921875 \nL 10.984375 60.40625 \nL 10.984375 69.390625 \nL 28.421875 72.90625 \nL 38.28125 72.90625 \nL 38.28125 8.296875 \nL 54.390625 8.296875 \nL 54.390625 0 \nL 12.40625 0 \nz\n\" id=\"DejaVuSans-49\"/>\n       </defs>\n       <use xlink:href=\"#DejaVuSans-49\"/>\n       <use x=\"63.623047\" xlink:href=\"#DejaVuSans-46\"/>\n       <use x=\"95.410156\" xlink:href=\"#DejaVuSans-48\"/>\n      </g>\n     </g>\n    </g>\n   </g>\n   <g id=\"matplotlib.axis_2\">\n    <g id=\"ytick_1\">\n     <g id=\"line2d_7\">\n      <defs>\n       <path d=\"M 0 0 \nL -3.5 0 \n\" id=\"mfd057a6c63\" style=\"stroke:#ffffff;stroke-width:0.8;\"/>\n      </defs>\n      <g>\n       <use style=\"fill:#ffffff;stroke:#ffffff;stroke-width:0.8;\" x=\"53.328125\" xlink:href=\"#mfd057a6c63\" y=\"266.632875\"/>\n      </g>\n     </g>\n     <g id=\"text_7\">\n      <!-- 0 -->\n      <g style=\"fill:#ffffff;\" transform=\"translate(39.965625 270.432094)scale(0.1 -0.1)\">\n       <use xlink:href=\"#DejaVuSans-48\"/>\n      </g>\n     </g>\n    </g>\n    <g id=\"ytick_2\">\n     <g id=\"line2d_8\">\n      <g>\n       <use style=\"fill:#ffffff;stroke:#ffffff;stroke-width:0.8;\" x=\"53.328125\" xlink:href=\"#mfd057a6c63\" y=\"240.875945\"/>\n      </g>\n     </g>\n     <g id=\"text_8\">\n      <!-- 250 -->\n      <g style=\"fill:#ffffff;\" transform=\"translate(27.240625 244.675164)scale(0.1 -0.1)\">\n       <defs>\n        <path d=\"M 10.796875 72.90625 \nL 49.515625 72.90625 \nL 49.515625 64.59375 \nL 19.828125 64.59375 \nL 19.828125 46.734375 \nQ 21.96875 47.46875 24.109375 47.828125 \nQ 26.265625 48.1875 28.421875 48.1875 \nQ 40.625 48.1875 47.75 41.5 \nQ 54.890625 34.8125 54.890625 23.390625 \nQ 54.890625 11.625 47.5625 5.09375 \nQ 40.234375 -1.421875 26.90625 -1.421875 \nQ 22.3125 -1.421875 17.546875 -0.640625 \nQ 12.796875 0.140625 7.71875 1.703125 \nL 7.71875 11.625 \nQ 12.109375 9.234375 16.796875 8.0625 \nQ 21.484375 6.890625 26.703125 6.890625 \nQ 35.15625 6.890625 40.078125 11.328125 \nQ 45.015625 15.765625 45.015625 23.390625 \nQ 45.015625 31 40.078125 35.4375 \nQ 35.15625 39.890625 26.703125 39.890625 \nQ 22.75 39.890625 18.8125 39.015625 \nQ 14.890625 38.140625 10.796875 36.28125 \nz\n\" id=\"DejaVuSans-53\"/>\n       </defs>\n       <use xlink:href=\"#DejaVuSans-50\"/>\n       <use x=\"63.623047\" xlink:href=\"#DejaVuSans-53\"/>\n       <use x=\"127.246094\" xlink:href=\"#DejaVuSans-48\"/>\n      </g>\n     </g>\n    </g>\n    <g id=\"ytick_3\">\n     <g id=\"line2d_9\">\n      <g>\n       <use style=\"fill:#ffffff;stroke:#ffffff;stroke-width:0.8;\" x=\"53.328125\" xlink:href=\"#mfd057a6c63\" y=\"215.119016\"/>\n      </g>\n     </g>\n     <g id=\"text_9\">\n      <!-- 500 -->\n      <g style=\"fill:#ffffff;\" transform=\"translate(27.240625 218.918234)scale(0.1 -0.1)\">\n       <use xlink:href=\"#DejaVuSans-53\"/>\n       <use x=\"63.623047\" xlink:href=\"#DejaVuSans-48\"/>\n       <use x=\"127.246094\" xlink:href=\"#DejaVuSans-48\"/>\n      </g>\n     </g>\n    </g>\n    <g id=\"ytick_4\">\n     <g id=\"line2d_10\">\n      <g>\n       <use style=\"fill:#ffffff;stroke:#ffffff;stroke-width:0.8;\" x=\"53.328125\" xlink:href=\"#mfd057a6c63\" y=\"189.362086\"/>\n      </g>\n     </g>\n     <g id=\"text_10\">\n      <!-- 750 -->\n      <g style=\"fill:#ffffff;\" transform=\"translate(27.240625 193.161305)scale(0.1 -0.1)\">\n       <defs>\n        <path d=\"M 8.203125 72.90625 \nL 55.078125 72.90625 \nL 55.078125 68.703125 \nL 28.609375 0 \nL 18.3125 0 \nL 43.21875 64.59375 \nL 8.203125 64.59375 \nz\n\" id=\"DejaVuSans-55\"/>\n       </defs>\n       <use xlink:href=\"#DejaVuSans-55\"/>\n       <use x=\"63.623047\" xlink:href=\"#DejaVuSans-53\"/>\n       <use x=\"127.246094\" xlink:href=\"#DejaVuSans-48\"/>\n      </g>\n     </g>\n    </g>\n    <g id=\"ytick_5\">\n     <g id=\"line2d_11\">\n      <g>\n       <use style=\"fill:#ffffff;stroke:#ffffff;stroke-width:0.8;\" x=\"53.328125\" xlink:href=\"#mfd057a6c63\" y=\"163.605156\"/>\n      </g>\n     </g>\n     <g id=\"text_11\">\n      <!-- 1000 -->\n      <g style=\"fill:#ffffff;\" transform=\"translate(20.878125 167.404375)scale(0.1 -0.1)\">\n       <use xlink:href=\"#DejaVuSans-49\"/>\n       <use x=\"63.623047\" xlink:href=\"#DejaVuSans-48\"/>\n       <use x=\"127.246094\" xlink:href=\"#DejaVuSans-48\"/>\n       <use x=\"190.869141\" xlink:href=\"#DejaVuSans-48\"/>\n      </g>\n     </g>\n    </g>\n    <g id=\"ytick_6\">\n     <g id=\"line2d_12\">\n      <g>\n       <use style=\"fill:#ffffff;stroke:#ffffff;stroke-width:0.8;\" x=\"53.328125\" xlink:href=\"#mfd057a6c63\" y=\"137.848227\"/>\n      </g>\n     </g>\n     <g id=\"text_12\">\n      <!-- 1250 -->\n      <g style=\"fill:#ffffff;\" transform=\"translate(20.878125 141.647446)scale(0.1 -0.1)\">\n       <use xlink:href=\"#DejaVuSans-49\"/>\n       <use x=\"63.623047\" xlink:href=\"#DejaVuSans-50\"/>\n       <use x=\"127.246094\" xlink:href=\"#DejaVuSans-53\"/>\n       <use x=\"190.869141\" xlink:href=\"#DejaVuSans-48\"/>\n      </g>\n     </g>\n    </g>\n    <g id=\"ytick_7\">\n     <g id=\"line2d_13\">\n      <g>\n       <use style=\"fill:#ffffff;stroke:#ffffff;stroke-width:0.8;\" x=\"53.328125\" xlink:href=\"#mfd057a6c63\" y=\"112.091297\"/>\n      </g>\n     </g>\n     <g id=\"text_13\">\n      <!-- 1500 -->\n      <g style=\"fill:#ffffff;\" transform=\"translate(20.878125 115.890516)scale(0.1 -0.1)\">\n       <use xlink:href=\"#DejaVuSans-49\"/>\n       <use x=\"63.623047\" xlink:href=\"#DejaVuSans-53\"/>\n       <use x=\"127.246094\" xlink:href=\"#DejaVuSans-48\"/>\n       <use x=\"190.869141\" xlink:href=\"#DejaVuSans-48\"/>\n      </g>\n     </g>\n    </g>\n    <g id=\"ytick_8\">\n     <g id=\"line2d_14\">\n      <g>\n       <use style=\"fill:#ffffff;stroke:#ffffff;stroke-width:0.8;\" x=\"53.328125\" xlink:href=\"#mfd057a6c63\" y=\"86.334368\"/>\n      </g>\n     </g>\n     <g id=\"text_14\">\n      <!-- 1750 -->\n      <g style=\"fill:#ffffff;\" transform=\"translate(20.878125 90.133586)scale(0.1 -0.1)\">\n       <use xlink:href=\"#DejaVuSans-49\"/>\n       <use x=\"63.623047\" xlink:href=\"#DejaVuSans-55\"/>\n       <use x=\"127.246094\" xlink:href=\"#DejaVuSans-53\"/>\n       <use x=\"190.869141\" xlink:href=\"#DejaVuSans-48\"/>\n      </g>\n     </g>\n    </g>\n    <g id=\"ytick_9\">\n     <g id=\"line2d_15\">\n      <g>\n       <use style=\"fill:#ffffff;stroke:#ffffff;stroke-width:0.8;\" x=\"53.328125\" xlink:href=\"#mfd057a6c63\" y=\"60.577438\"/>\n      </g>\n     </g>\n     <g id=\"text_15\">\n      <!-- 2000 -->\n      <g style=\"fill:#ffffff;\" transform=\"translate(20.878125 64.376657)scale(0.1 -0.1)\">\n       <use xlink:href=\"#DejaVuSans-50\"/>\n       <use x=\"63.623047\" xlink:href=\"#DejaVuSans-48\"/>\n       <use x=\"127.246094\" xlink:href=\"#DejaVuSans-48\"/>\n       <use x=\"190.869141\" xlink:href=\"#DejaVuSans-48\"/>\n      </g>\n     </g>\n    </g>\n    <g id=\"text_16\">\n     <!-- Frequency -->\n     <g style=\"fill:#ffffff;\" transform=\"translate(14.798438 183.742562)rotate(-90)scale(0.1 -0.1)\">\n      <defs>\n       <path d=\"M 9.8125 72.90625 \nL 51.703125 72.90625 \nL 51.703125 64.59375 \nL 19.671875 64.59375 \nL 19.671875 43.109375 \nL 48.578125 43.109375 \nL 48.578125 34.8125 \nL 19.671875 34.8125 \nL 19.671875 0 \nL 9.8125 0 \nz\n\" id=\"DejaVuSans-70\"/>\n       <path d=\"M 41.109375 46.296875 \nQ 39.59375 47.171875 37.8125 47.578125 \nQ 36.03125 48 33.890625 48 \nQ 26.265625 48 22.1875 43.046875 \nQ 18.109375 38.09375 18.109375 28.8125 \nL 18.109375 0 \nL 9.078125 0 \nL 9.078125 54.6875 \nL 18.109375 54.6875 \nL 18.109375 46.1875 \nQ 20.953125 51.171875 25.484375 53.578125 \nQ 30.03125 56 36.53125 56 \nQ 37.453125 56 38.578125 55.875 \nQ 39.703125 55.765625 41.0625 55.515625 \nz\n\" id=\"DejaVuSans-114\"/>\n       <path d=\"M 56.203125 29.59375 \nL 56.203125 25.203125 \nL 14.890625 25.203125 \nQ 15.484375 15.921875 20.484375 11.0625 \nQ 25.484375 6.203125 34.421875 6.203125 \nQ 39.59375 6.203125 44.453125 7.46875 \nQ 49.3125 8.734375 54.109375 11.28125 \nL 54.109375 2.78125 \nQ 49.265625 0.734375 44.1875 -0.34375 \nQ 39.109375 -1.421875 33.890625 -1.421875 \nQ 20.796875 -1.421875 13.15625 6.1875 \nQ 5.515625 13.8125 5.515625 26.8125 \nQ 5.515625 40.234375 12.765625 48.109375 \nQ 20.015625 56 32.328125 56 \nQ 43.359375 56 49.78125 48.890625 \nQ 56.203125 41.796875 56.203125 29.59375 \nz\nM 47.21875 32.234375 \nQ 47.125 39.59375 43.09375 43.984375 \nQ 39.0625 48.390625 32.421875 48.390625 \nQ 24.90625 48.390625 20.390625 44.140625 \nQ 15.875 39.890625 15.1875 32.171875 \nz\n\" id=\"DejaVuSans-101\"/>\n       <path d=\"M 14.796875 27.296875 \nQ 14.796875 17.390625 18.875 11.75 \nQ 22.953125 6.109375 30.078125 6.109375 \nQ 37.203125 6.109375 41.296875 11.75 \nQ 45.40625 17.390625 45.40625 27.296875 \nQ 45.40625 37.203125 41.296875 42.84375 \nQ 37.203125 48.484375 30.078125 48.484375 \nQ 22.953125 48.484375 18.875 42.84375 \nQ 14.796875 37.203125 14.796875 27.296875 \nz\nM 45.40625 8.203125 \nQ 42.578125 3.328125 38.25 0.953125 \nQ 33.9375 -1.421875 27.875 -1.421875 \nQ 17.96875 -1.421875 11.734375 6.484375 \nQ 5.515625 14.40625 5.515625 27.296875 \nQ 5.515625 40.1875 11.734375 48.09375 \nQ 17.96875 56 27.875 56 \nQ 33.9375 56 38.25 53.625 \nQ 42.578125 51.265625 45.40625 46.390625 \nL 45.40625 54.6875 \nL 54.390625 54.6875 \nL 54.390625 -20.796875 \nL 45.40625 -20.796875 \nz\n\" id=\"DejaVuSans-113\"/>\n       <path d=\"M 8.5 21.578125 \nL 8.5 54.6875 \nL 17.484375 54.6875 \nL 17.484375 21.921875 \nQ 17.484375 14.15625 20.5 10.265625 \nQ 23.53125 6.390625 29.59375 6.390625 \nQ 36.859375 6.390625 41.078125 11.03125 \nQ 45.3125 15.671875 45.3125 23.6875 \nL 45.3125 54.6875 \nL 54.296875 54.6875 \nL 54.296875 0 \nL 45.3125 0 \nL 45.3125 8.40625 \nQ 42.046875 3.421875 37.71875 1 \nQ 33.40625 -1.421875 27.6875 -1.421875 \nQ 18.265625 -1.421875 13.375 4.4375 \nQ 8.5 10.296875 8.5 21.578125 \nz\nM 31.109375 56 \nz\n\" id=\"DejaVuSans-117\"/>\n       <path d=\"M 54.890625 33.015625 \nL 54.890625 0 \nL 45.90625 0 \nL 45.90625 32.71875 \nQ 45.90625 40.484375 42.875 44.328125 \nQ 39.84375 48.1875 33.796875 48.1875 \nQ 26.515625 48.1875 22.3125 43.546875 \nQ 18.109375 38.921875 18.109375 30.90625 \nL 18.109375 0 \nL 9.078125 0 \nL 9.078125 54.6875 \nL 18.109375 54.6875 \nL 18.109375 46.1875 \nQ 21.34375 51.125 25.703125 53.5625 \nQ 30.078125 56 35.796875 56 \nQ 45.21875 56 50.046875 50.171875 \nQ 54.890625 44.34375 54.890625 33.015625 \nz\n\" id=\"DejaVuSans-110\"/>\n       <path d=\"M 48.78125 52.59375 \nL 48.78125 44.1875 \nQ 44.96875 46.296875 41.140625 47.34375 \nQ 37.3125 48.390625 33.40625 48.390625 \nQ 24.65625 48.390625 19.8125 42.84375 \nQ 14.984375 37.3125 14.984375 27.296875 \nQ 14.984375 17.28125 19.8125 11.734375 \nQ 24.65625 6.203125 33.40625 6.203125 \nQ 37.3125 6.203125 41.140625 7.25 \nQ 44.96875 8.296875 48.78125 10.40625 \nL 48.78125 2.09375 \nQ 45.015625 0.34375 40.984375 -0.53125 \nQ 36.96875 -1.421875 32.421875 -1.421875 \nQ 20.0625 -1.421875 12.78125 6.34375 \nQ 5.515625 14.109375 5.515625 27.296875 \nQ 5.515625 40.671875 12.859375 48.328125 \nQ 20.21875 56 33.015625 56 \nQ 37.15625 56 41.109375 55.140625 \nQ 45.0625 54.296875 48.78125 52.59375 \nz\n\" id=\"DejaVuSans-99\"/>\n       <path d=\"M 32.171875 -5.078125 \nQ 28.375 -14.84375 24.75 -17.8125 \nQ 21.140625 -20.796875 15.09375 -20.796875 \nL 7.90625 -20.796875 \nL 7.90625 -13.28125 \nL 13.1875 -13.28125 \nQ 16.890625 -13.28125 18.9375 -11.515625 \nQ 21 -9.765625 23.484375 -3.21875 \nL 25.09375 0.875 \nL 2.984375 54.6875 \nL 12.5 54.6875 \nL 29.59375 11.921875 \nL 46.6875 54.6875 \nL 56.203125 54.6875 \nz\n\" id=\"DejaVuSans-121\"/>\n      </defs>\n      <use xlink:href=\"#DejaVuSans-70\"/>\n      <use x=\"50.269531\" xlink:href=\"#DejaVuSans-114\"/>\n      <use x=\"89.132812\" xlink:href=\"#DejaVuSans-101\"/>\n      <use x=\"150.65625\" xlink:href=\"#DejaVuSans-113\"/>\n      <use x=\"214.132812\" xlink:href=\"#DejaVuSans-117\"/>\n      <use x=\"277.511719\" xlink:href=\"#DejaVuSans-101\"/>\n      <use x=\"339.035156\" xlink:href=\"#DejaVuSans-110\"/>\n      <use x=\"402.414062\" xlink:href=\"#DejaVuSans-99\"/>\n      <use x=\"457.394531\" xlink:href=\"#DejaVuSans-121\"/>\n     </g>\n    </g>\n   </g>\n   <g id=\"patch_13\">\n    <path d=\"M 53.328125 266.632875 \nL 53.328125 49.192875 \n\" style=\"fill:none;stroke:#ffffff;stroke-linecap:square;stroke-linejoin:miter;stroke-width:0.8;\"/>\n   </g>\n   <g id=\"patch_14\">\n    <path d=\"M 388.128125 266.632875 \nL 388.128125 49.192875 \n\" style=\"fill:none;stroke:#ffffff;stroke-linecap:square;stroke-linejoin:miter;stroke-width:0.8;\"/>\n   </g>\n   <g id=\"patch_15\">\n    <path d=\"M 53.328125 266.632875 \nL 388.128125 266.632875 \n\" style=\"fill:none;stroke:#ffffff;stroke-linecap:square;stroke-linejoin:miter;stroke-width:0.8;\"/>\n   </g>\n   <g id=\"patch_16\">\n    <path d=\"M 53.328125 49.192875 \nL 388.128125 49.192875 \n\" style=\"fill:none;stroke:#ffffff;stroke-linecap:square;stroke-linejoin:miter;stroke-width:0.8;\"/>\n   </g>\n   <g id=\"text_17\">\n    <!-- True     2010 -->\n    <g style=\"fill:#ffffff;\" transform=\"translate(183.183125 16.318125)scale(0.12 -0.12)\">\n     <defs>\n      <path d=\"M -0.296875 72.90625 \nL 61.375 72.90625 \nL 61.375 64.59375 \nL 35.5 64.59375 \nL 35.5 0 \nL 25.59375 0 \nL 25.59375 64.59375 \nL -0.296875 64.59375 \nz\n\" id=\"DejaVuSans-84\"/>\n      <path id=\"DejaVuSans-32\"/>\n     </defs>\n     <use xlink:href=\"#DejaVuSans-84\"/>\n     <use x=\"46.333984\" xlink:href=\"#DejaVuSans-114\"/>\n     <use x=\"87.447266\" xlink:href=\"#DejaVuSans-117\"/>\n     <use x=\"150.826172\" xlink:href=\"#DejaVuSans-101\"/>\n     <use x=\"212.349609\" xlink:href=\"#DejaVuSans-32\"/>\n     <use x=\"244.136719\" xlink:href=\"#DejaVuSans-32\"/>\n     <use x=\"275.923828\" xlink:href=\"#DejaVuSans-32\"/>\n     <use x=\"307.710938\" xlink:href=\"#DejaVuSans-32\"/>\n     <use x=\"339.498047\" xlink:href=\"#DejaVuSans-32\"/>\n     <use x=\"371.285156\" xlink:href=\"#DejaVuSans-50\"/>\n     <use x=\"434.908203\" xlink:href=\"#DejaVuSans-48\"/>\n     <use x=\"498.53125\" xlink:href=\"#DejaVuSans-49\"/>\n     <use x=\"562.154297\" xlink:href=\"#DejaVuSans-48\"/>\n    </g>\n    <!-- False    1990 -->\n    <g style=\"fill:#ffffff;\" transform=\"translate(182.765938 29.7555)scale(0.12 -0.12)\">\n     <defs>\n      <path d=\"M 34.28125 27.484375 \nQ 23.390625 27.484375 19.1875 25 \nQ 14.984375 22.515625 14.984375 16.5 \nQ 14.984375 11.71875 18.140625 8.90625 \nQ 21.296875 6.109375 26.703125 6.109375 \nQ 34.1875 6.109375 38.703125 11.40625 \nQ 43.21875 16.703125 43.21875 25.484375 \nL 43.21875 27.484375 \nz\nM 52.203125 31.203125 \nL 52.203125 0 \nL 43.21875 0 \nL 43.21875 8.296875 \nQ 40.140625 3.328125 35.546875 0.953125 \nQ 30.953125 -1.421875 24.3125 -1.421875 \nQ 15.921875 -1.421875 10.953125 3.296875 \nQ 6 8.015625 6 15.921875 \nQ 6 25.140625 12.171875 29.828125 \nQ 18.359375 34.515625 30.609375 34.515625 \nL 43.21875 34.515625 \nL 43.21875 35.40625 \nQ 43.21875 41.609375 39.140625 45 \nQ 35.0625 48.390625 27.6875 48.390625 \nQ 23 48.390625 18.546875 47.265625 \nQ 14.109375 46.140625 10.015625 43.890625 \nL 10.015625 52.203125 \nQ 14.9375 54.109375 19.578125 55.046875 \nQ 24.21875 56 28.609375 56 \nQ 40.484375 56 46.34375 49.84375 \nQ 52.203125 43.703125 52.203125 31.203125 \nz\n\" id=\"DejaVuSans-97\"/>\n      <path d=\"M 9.421875 75.984375 \nL 18.40625 75.984375 \nL 18.40625 0 \nL 9.421875 0 \nz\n\" id=\"DejaVuSans-108\"/>\n      <path d=\"M 44.28125 53.078125 \nL 44.28125 44.578125 \nQ 40.484375 46.53125 36.375 47.5 \nQ 32.28125 48.484375 27.875 48.484375 \nQ 21.1875 48.484375 17.84375 46.4375 \nQ 14.5 44.390625 14.5 40.28125 \nQ 14.5 37.15625 16.890625 35.375 \nQ 19.28125 33.59375 26.515625 31.984375 \nL 29.59375 31.296875 \nQ 39.15625 29.25 43.1875 25.515625 \nQ 47.21875 21.78125 47.21875 15.09375 \nQ 47.21875 7.46875 41.1875 3.015625 \nQ 35.15625 -1.421875 24.609375 -1.421875 \nQ 20.21875 -1.421875 15.453125 -0.5625 \nQ 10.6875 0.296875 5.421875 2 \nL 5.421875 11.28125 \nQ 10.40625 8.6875 15.234375 7.390625 \nQ 20.0625 6.109375 24.8125 6.109375 \nQ 31.15625 6.109375 34.5625 8.28125 \nQ 37.984375 10.453125 37.984375 14.40625 \nQ 37.984375 18.0625 35.515625 20.015625 \nQ 33.0625 21.96875 24.703125 23.78125 \nL 21.578125 24.515625 \nQ 13.234375 26.265625 9.515625 29.90625 \nQ 5.8125 33.546875 5.8125 39.890625 \nQ 5.8125 47.609375 11.28125 51.796875 \nQ 16.75 56 26.8125 56 \nQ 31.78125 56 36.171875 55.265625 \nQ 40.578125 54.546875 44.28125 53.078125 \nz\n\" id=\"DejaVuSans-115\"/>\n      <path d=\"M 10.984375 1.515625 \nL 10.984375 10.5 \nQ 14.703125 8.734375 18.5 7.8125 \nQ 22.3125 6.890625 25.984375 6.890625 \nQ 35.75 6.890625 40.890625 13.453125 \nQ 46.046875 20.015625 46.78125 33.40625 \nQ 43.953125 29.203125 39.59375 26.953125 \nQ 35.25 24.703125 29.984375 24.703125 \nQ 19.046875 24.703125 12.671875 31.3125 \nQ 6.296875 37.9375 6.296875 49.421875 \nQ 6.296875 60.640625 12.9375 67.421875 \nQ 19.578125 74.21875 30.609375 74.21875 \nQ 43.265625 74.21875 49.921875 64.515625 \nQ 56.59375 54.828125 56.59375 36.375 \nQ 56.59375 19.140625 48.40625 8.859375 \nQ 40.234375 -1.421875 26.421875 -1.421875 \nQ 22.703125 -1.421875 18.890625 -0.6875 \nQ 15.09375 0.046875 10.984375 1.515625 \nz\nM 30.609375 32.421875 \nQ 37.25 32.421875 41.125 36.953125 \nQ 45.015625 41.5 45.015625 49.421875 \nQ 45.015625 57.28125 41.125 61.84375 \nQ 37.25 66.40625 30.609375 66.40625 \nQ 23.96875 66.40625 20.09375 61.84375 \nQ 16.21875 57.28125 16.21875 49.421875 \nQ 16.21875 41.5 20.09375 36.953125 \nQ 23.96875 32.421875 30.609375 32.421875 \nz\n\" id=\"DejaVuSans-57\"/>\n     </defs>\n     <use xlink:href=\"#DejaVuSans-70\"/>\n     <use x=\"48.394531\" xlink:href=\"#DejaVuSans-97\"/>\n     <use x=\"109.673828\" xlink:href=\"#DejaVuSans-108\"/>\n     <use x=\"137.457031\" xlink:href=\"#DejaVuSans-115\"/>\n     <use x=\"189.556641\" xlink:href=\"#DejaVuSans-101\"/>\n     <use x=\"251.080078\" xlink:href=\"#DejaVuSans-32\"/>\n     <use x=\"282.867188\" xlink:href=\"#DejaVuSans-32\"/>\n     <use x=\"314.654297\" xlink:href=\"#DejaVuSans-32\"/>\n     <use x=\"346.441406\" xlink:href=\"#DejaVuSans-32\"/>\n     <use x=\"378.228516\" xlink:href=\"#DejaVuSans-49\"/>\n     <use x=\"441.851562\" xlink:href=\"#DejaVuSans-57\"/>\n     <use x=\"505.474609\" xlink:href=\"#DejaVuSans-57\"/>\n     <use x=\"569.097656\" xlink:href=\"#DejaVuSans-48\"/>\n    </g>\n    <!-- Name: y, dtype: int64 -->\n    <g style=\"fill:#ffffff;\" transform=\"translate(155.135 43.192875)scale(0.12 -0.12)\">\n     <defs>\n      <path d=\"M 9.8125 72.90625 \nL 23.09375 72.90625 \nL 55.421875 11.921875 \nL 55.421875 72.90625 \nL 64.984375 72.90625 \nL 64.984375 0 \nL 51.703125 0 \nL 19.390625 60.984375 \nL 19.390625 0 \nL 9.8125 0 \nz\n\" id=\"DejaVuSans-78\"/>\n      <path d=\"M 52 44.1875 \nQ 55.375 50.25 60.0625 53.125 \nQ 64.75 56 71.09375 56 \nQ 79.640625 56 84.28125 50.015625 \nQ 88.921875 44.046875 88.921875 33.015625 \nL 88.921875 0 \nL 79.890625 0 \nL 79.890625 32.71875 \nQ 79.890625 40.578125 77.09375 44.375 \nQ 74.3125 48.1875 68.609375 48.1875 \nQ 61.625 48.1875 57.5625 43.546875 \nQ 53.515625 38.921875 53.515625 30.90625 \nL 53.515625 0 \nL 44.484375 0 \nL 44.484375 32.71875 \nQ 44.484375 40.625 41.703125 44.40625 \nQ 38.921875 48.1875 33.109375 48.1875 \nQ 26.21875 48.1875 22.15625 43.53125 \nQ 18.109375 38.875 18.109375 30.90625 \nL 18.109375 0 \nL 9.078125 0 \nL 9.078125 54.6875 \nL 18.109375 54.6875 \nL 18.109375 46.1875 \nQ 21.1875 51.21875 25.484375 53.609375 \nQ 29.78125 56 35.6875 56 \nQ 41.65625 56 45.828125 52.96875 \nQ 50 49.953125 52 44.1875 \nz\n\" id=\"DejaVuSans-109\"/>\n      <path d=\"M 11.71875 12.40625 \nL 22.015625 12.40625 \nL 22.015625 0 \nL 11.71875 0 \nz\nM 11.71875 51.703125 \nL 22.015625 51.703125 \nL 22.015625 39.3125 \nL 11.71875 39.3125 \nz\n\" id=\"DejaVuSans-58\"/>\n      <path d=\"M 11.71875 12.40625 \nL 22.015625 12.40625 \nL 22.015625 4 \nL 14.015625 -11.625 \nL 7.71875 -11.625 \nL 11.71875 4 \nz\n\" id=\"DejaVuSans-44\"/>\n      <path d=\"M 45.40625 46.390625 \nL 45.40625 75.984375 \nL 54.390625 75.984375 \nL 54.390625 0 \nL 45.40625 0 \nL 45.40625 8.203125 \nQ 42.578125 3.328125 38.25 0.953125 \nQ 33.9375 -1.421875 27.875 -1.421875 \nQ 17.96875 -1.421875 11.734375 6.484375 \nQ 5.515625 14.40625 5.515625 27.296875 \nQ 5.515625 40.1875 11.734375 48.09375 \nQ 17.96875 56 27.875 56 \nQ 33.9375 56 38.25 53.625 \nQ 42.578125 51.265625 45.40625 46.390625 \nz\nM 14.796875 27.296875 \nQ 14.796875 17.390625 18.875 11.75 \nQ 22.953125 6.109375 30.078125 6.109375 \nQ 37.203125 6.109375 41.296875 11.75 \nQ 45.40625 17.390625 45.40625 27.296875 \nQ 45.40625 37.203125 41.296875 42.84375 \nQ 37.203125 48.484375 30.078125 48.484375 \nQ 22.953125 48.484375 18.875 42.84375 \nQ 14.796875 37.203125 14.796875 27.296875 \nz\n\" id=\"DejaVuSans-100\"/>\n      <path d=\"M 18.3125 70.21875 \nL 18.3125 54.6875 \nL 36.8125 54.6875 \nL 36.8125 47.703125 \nL 18.3125 47.703125 \nL 18.3125 18.015625 \nQ 18.3125 11.328125 20.140625 9.421875 \nQ 21.96875 7.515625 27.59375 7.515625 \nL 36.8125 7.515625 \nL 36.8125 0 \nL 27.59375 0 \nQ 17.1875 0 13.234375 3.875 \nQ 9.28125 7.765625 9.28125 18.015625 \nL 9.28125 47.703125 \nL 2.6875 47.703125 \nL 2.6875 54.6875 \nL 9.28125 54.6875 \nL 9.28125 70.21875 \nz\n\" id=\"DejaVuSans-116\"/>\n      <path d=\"M 18.109375 8.203125 \nL 18.109375 -20.796875 \nL 9.078125 -20.796875 \nL 9.078125 54.6875 \nL 18.109375 54.6875 \nL 18.109375 46.390625 \nQ 20.953125 51.265625 25.265625 53.625 \nQ 29.59375 56 35.59375 56 \nQ 45.5625 56 51.78125 48.09375 \nQ 58.015625 40.1875 58.015625 27.296875 \nQ 58.015625 14.40625 51.78125 6.484375 \nQ 45.5625 -1.421875 35.59375 -1.421875 \nQ 29.59375 -1.421875 25.265625 0.953125 \nQ 20.953125 3.328125 18.109375 8.203125 \nz\nM 48.6875 27.296875 \nQ 48.6875 37.203125 44.609375 42.84375 \nQ 40.53125 48.484375 33.40625 48.484375 \nQ 26.265625 48.484375 22.1875 42.84375 \nQ 18.109375 37.203125 18.109375 27.296875 \nQ 18.109375 17.390625 22.1875 11.75 \nQ 26.265625 6.109375 33.40625 6.109375 \nQ 40.53125 6.109375 44.609375 11.75 \nQ 48.6875 17.390625 48.6875 27.296875 \nz\n\" id=\"DejaVuSans-112\"/>\n      <path d=\"M 9.421875 54.6875 \nL 18.40625 54.6875 \nL 18.40625 0 \nL 9.421875 0 \nz\nM 9.421875 75.984375 \nL 18.40625 75.984375 \nL 18.40625 64.59375 \nL 9.421875 64.59375 \nz\n\" id=\"DejaVuSans-105\"/>\n     </defs>\n     <use xlink:href=\"#DejaVuSans-78\"/>\n     <use x=\"74.804688\" xlink:href=\"#DejaVuSans-97\"/>\n     <use x=\"136.083984\" xlink:href=\"#DejaVuSans-109\"/>\n     <use x=\"233.496094\" xlink:href=\"#DejaVuSans-101\"/>\n     <use x=\"295.019531\" xlink:href=\"#DejaVuSans-58\"/>\n     <use x=\"328.710938\" xlink:href=\"#DejaVuSans-32\"/>\n     <use x=\"360.498047\" xlink:href=\"#DejaVuSans-121\"/>\n     <use x=\"419.677734\" xlink:href=\"#DejaVuSans-44\"/>\n     <use x=\"451.464844\" xlink:href=\"#DejaVuSans-32\"/>\n     <use x=\"483.251953\" xlink:href=\"#DejaVuSans-100\"/>\n     <use x=\"546.728516\" xlink:href=\"#DejaVuSans-116\"/>\n     <use x=\"585.9375\" xlink:href=\"#DejaVuSans-121\"/>\n     <use x=\"645.117188\" xlink:href=\"#DejaVuSans-112\"/>\n     <use x=\"708.59375\" xlink:href=\"#DejaVuSans-101\"/>\n     <use x=\"770.117188\" xlink:href=\"#DejaVuSans-58\"/>\n     <use x=\"803.808594\" xlink:href=\"#DejaVuSans-32\"/>\n     <use x=\"835.595703\" xlink:href=\"#DejaVuSans-105\"/>\n     <use x=\"863.378906\" xlink:href=\"#DejaVuSans-110\"/>\n     <use x=\"926.757812\" xlink:href=\"#DejaVuSans-116\"/>\n     <use x=\"965.966797\" xlink:href=\"#DejaVuSans-54\"/>\n     <use x=\"1029.589844\" xlink:href=\"#DejaVuSans-52\"/>\n    </g>\n   </g>\n  </g>\n </g>\n <defs>\n  <clipPath id=\"pd2930dcf78\">\n   <rect height=\"217.44\" width=\"334.8\" x=\"53.328125\" y=\"49.192875\"/>\n  </clipPath>\n </defs>\n</svg>\n",
      "image/png": "[encoded data removed]"
     },
     "metadata": {}
    }
   ],
   "source": [
    "import matplotlib.pyplot as plt\n",
    "plt.style.use('dark_background')\n",
    "train_df.y.astype(int).plot(kind='hist',title=f'{train_df.y.astype(bool).value_counts()}')"
   ]
  },
  {
   "source": [
    "We see an equal distribution of positive (`True`) and negative (`False`) $1500$-mer training instances (a nice thing to have, but not something we can necessarily count on in the real world!). In fact, the same class proportion and sequence length holds true for the test and validation splits (the former being especially unlikely)."
   ],
   "cell_type": "markdown",
   "metadata": {}
  },
  {
   "source": [
    "## Machine Learning\n",
    "\n",
    "We aim to build a classifer to predict functional motifs given sequences. Formally, we learn a function $f(X)=\\vec{y}$ that, given the nature of deep learning networks, fits with non-linearity a probability density function $f=P(y|X;\\theta)$. The task is to learn a weights matrix $W\\subset \\theta$ (a subset since our network may be more complicated) approximating the true class posterior distribution, such that when we call $f(x_{novel})$, we get $\\hat{y}\\approx y_{true}$, where $y\\in \\{0,1\\} = \\{\\text{motif,non-motif}\\}$. \n",
    "\n",
    "### Task:\n",
    "We aim to train a CNN to classify the sequences as positive or negative for homotypic motif clusters. A CNN should be a good choice due to the natural shift-invariance of the architecture. When used on images, CNNs are feature-aware but, importantly, location-agnostic. We want the same approach to motif finding since such subsequences may appear anywhere in the $1500$-mer instances.\n",
    "\n",
    "One-Hot Basic CNN:\n",
    "\n",
    "        - CNNs on static one-hot embedded nucleotides.\n",
    "        - 1 Convolution layer (+ nonlinearity + pooling) and 1 dense (`linear` + activation) output layer.\n",
    "        - Shift-invariance of the CNN is the main point here.\n",
    "        - Train the model using stochastic gradient descent and binary cross-entropy loss.\n",
    "\n",
    "Embedding with CNN:\n",
    "        \n",
    "        - Use of a learnable embedding on integer-mapped DNA sequences together with the same downstream architecture.\n",
    "\n",
    "Transformer:\n",
    "        \n",
    "        - Akin to NLP, we can treat each nucelotide like a token in a sentence.\n",
    "        - Train an XLNet (with self-attention and all the rest) model with a linear head to predict presence (0/1) of motifs.\n",
    "        - This particular model is useful since we have somewhat lengthy instances for a transformer (1500-mers)."
   ],
   "cell_type": "markdown",
   "metadata": {}
  },
  {
   "source": [
    "I will begin by defining the requisite PyTorch `Dataset` and `Dataloader` classes, as well as an extensible `LightningModule` for use across models."
   ],
   "cell_type": "markdown",
   "metadata": {}
  },
  {
   "cell_type": "code",
   "execution_count": 5,
   "metadata": {},
   "outputs": [],
   "source": [
    "# !pip install pytorch-lightning"
   ]
  },
  {
   "cell_type": "code",
   "execution_count": 6,
   "metadata": {},
   "outputs": [],
   "source": [
    "import os\n",
    "\n",
    "import torch\n",
    "from torch import nn\n",
    "from torch.nn import functional as F\n",
    "from torch.utils.data import Dataset, DataLoader, random_split\n",
    "from torchvision import transforms\n",
    "import pytorch_lightning as pl\n",
    "from pytorch_lightning.metrics.functional import accuracy\n",
    "from transformers import AutoConfig, AutoModelForSequenceClassification #the latter includes a linear head."
   ]
  },
  {
   "source": [
    "The `Dataset` class is now defined with associated preprocessing methods:"
   ],
   "cell_type": "markdown",
   "metadata": {}
  },
  {
   "cell_type": "code",
   "execution_count": 7,
   "metadata": {},
   "outputs": [],
   "source": [
    "class DNADataset(Dataset):\n",
    "    \"\"\"DNA / Pytorch dataset.\"\"\"\n",
    "    def __init__(self, X, y, encoding='one-hot'):\n",
    "        \"\"\"\n",
    "        Args:\n",
    "            data (np.array): Path to the url .npz file with annotations.\n",
    "        \"\"\"\n",
    "        \n",
    "        self.X = torch.FloatTensor(self.one_hot_encoding(X)) if encoding=='one-hot' else torch.LongTensor(self.embedding_encoding(X))\n",
    "        self.y = torch.FloatTensor(y)\n",
    "            #NOTE: we need this to be a float to accommodate nn.BCEWithLogitsLoss() later to match logit input.\n",
    "\n",
    "    def __len__(self):\n",
    "        return len(self.X)\n",
    "\n",
    "    def __getitem__(self, idx):\n",
    "        sample = {'X': self.X[idx], 'y': self.y[idx]}\n",
    "        return sample\n",
    "\n",
    "    def one_hot_encoding(self,seq_array:np.ndarray) -> np.ndarray:\n",
    "        \"\"\"\n",
    "        :param seq_array: np array of DNA sequences\n",
    "        :return: np array of one-hot encodings of input DNA sequences of shape N,S,M,\n",
    "                where N is the number of instances, S is the cardinality of the corpus,\n",
    "                and M is the length of each sequence.\n",
    "        \"\"\"\n",
    "        nuc2id = {'A' : 0, 'C' : 1, 'T' : 2, 'G' : 3}\n",
    "\n",
    "        N = len(seq_array)\n",
    "        S = len(nuc2id.keys())\n",
    "        M = len(seq_array[0]) #since we know each sequence is the same length\n",
    "\n",
    "        onehot_array = np.zeros((N, S, M))\n",
    "        \n",
    "        print('Nucelotides -> One-Hot')\n",
    "        for seq_num, seq in enumerate(seq_array):\n",
    "            for seq_idx, nucleotide in enumerate(seq):\n",
    "                nuc_idx = nuc2id[nucleotide]\n",
    "                onehot_array[seq_num, nuc_idx, seq_idx] = 1\n",
    "\n",
    "        return onehot_array\n",
    "\n",
    "    def embedding_encoding(self, seq_array: np.ndarray) -> np.ndarray:\n",
    "        \"\"\"\n",
    "        :param seq_array: np array of DNA sequences\n",
    "        :return: np array of integer encodings of input DNA sequences\n",
    "        \"\"\"\n",
    "        nuc2id = {'A' : 0, 'C' : 1, 'T' : 2, 'G' : 3}\n",
    "        N = len(seq_array)\n",
    "        M = len(seq_array[0]) #since we know each sequence is the same length\n",
    "\n",
    "        int_array = np.full((N,M),0)\n",
    "        print('Nucleotides -> Integers')\n",
    "        for seq_num, seq in enumerate(seq_array):\n",
    "            for seq_idx, nucleotide in enumerate(seq):\n",
    "                nuc_idx = nuc2id[nucleotide]\n",
    "                int_array[seq_num, seq_idx] = nuc2id[nucleotide]\n",
    "        return int_array\n",
    "\n",
    "class DNADataModule(pl.LightningDataModule):\n",
    "    def __init__(self, data_dir: str, batch_size:int=64,encoding='one-hot'):\n",
    "        super().__init__()\n",
    "        self.batch_size = batch_size\n",
    "        self.data_fpath = data_dir\n",
    "        self.encoding=encoding\n",
    "\n",
    "    def setup(self, stage=None):\n",
    "        all_data = np.load(self.data_fpath)\n",
    "\n",
    "        self.train = DNADataset(all_data['train_seq'],all_data['train_y'],self.encoding)\n",
    "        self.val   = DNADataset(all_data['train_seq'],all_data['train_y'],self.encoding)\n",
    "        self.test  = DNADataset(all_data['test_seq'], all_data['test_y'], self.encoding)\n",
    "\n",
    "    def train_dataloader(self):\n",
    "        return DataLoader(self.train, batch_size=self.batch_size)\n",
    "\n",
    "    def val_dataloader(self):\n",
    "        return DataLoader(self.val, batch_size=self.batch_size)\n",
    "\n",
    "    def test_dataloader(self):\n",
    "        return DataLoader(self.test, batch_size=self.batch_size)"
   ]
  },
  {
   "cell_type": "code",
   "execution_count": 8,
   "metadata": {},
   "outputs": [
    {
     "output_type": "stream",
     "name": "stdout",
     "text": [
      "Nucelotides -> One-Hot\n",
      "Nucelotides -> One-Hot\n",
      "Nucelotides -> One-Hot\n",
      "Nucleotides -> Integers\n",
      "Nucleotides -> Integers\n",
      "Nucleotides -> Integers\n"
     ]
    }
   ],
   "source": [
    "dm_onehot = DNADataModule(data_dir='./data_dna_cnn/hw1_data.npz',encoding='one-hot')\n",
    "dm_onehot.setup()\n",
    "dm_int = DNADataModule(data_dir='./data_dna_cnn/hw1_data.npz',encoding='int') #for use with 2nd CNN and Transformer\n",
    "dm_int.setup()"
   ]
  },
  {
   "source": [
    "## Model Instantiation\n",
    "\n",
    "We can now define models to be instantiated in the main Pytorch ```LightningModule```."
   ],
   "cell_type": "markdown",
   "metadata": {}
  },
  {
   "source": [
    "### Basic CNN\n",
    "\n",
    "Again, we define a convolutional neural net on static, one-hot embedded nucleotides. For now, I will use a single 1-Dimensional Convolution layer (+ nonlinearity + flattening) and one dense (`linear` + activation) output layer. This model will make use of the `dm_onehot` data module defined and instantiated above.\n",
    "\n",
    "As you might remember from above, we one-hot encoded each sequence using a dictionay of nucleotides to integers, and then encoded a 4-channel NumPy binary array using the indices of this dictionary. When placed into the dataset class with a batch-size parameter, we can finally see what the network sees per \"minibatch\" of sequences. I say \"minibatch\" because technically each shuffled pass during a stochastic gradient descent epoch is commonly referred to as a batch.\n",
    "\n",
    "Please see https://colab.research.google.com/github/Avsecz/DL-genomics-exercise/blob/master/Simulated.ipynb#scrollTo=MYVEEl0zZwlr for the Keras model I've based my implementation on.\n",
    "\n",
    "At any rate, the model views a tensor from the dataloader of the following shape (note this is also a nice way to access a sample instance from the dataloader directly):"
   ],
   "cell_type": "markdown",
   "metadata": {}
  },
  {
   "cell_type": "code",
   "execution_count": 9,
   "metadata": {},
   "outputs": [
    {
     "output_type": "execute_result",
     "data": {
      "text/plain": [
       "tensor([[[1., 1., 1.,  ..., 0., 0., 0.],\n",
       "         [0., 0., 0.,  ..., 0., 1., 0.],\n",
       "         [0., 0., 0.,  ..., 0., 0., 1.],\n",
       "         [0., 0., 0.,  ..., 1., 0., 0.]],\n",
       "\n",
       "        [[0., 0., 0.,  ..., 1., 0., 0.],\n",
       "         [0., 0., 0.,  ..., 0., 0., 1.],\n",
       "         [1., 1., 0.,  ..., 0., 1., 0.],\n",
       "         [0., 0., 1.,  ..., 0., 0., 0.]],\n",
       "\n",
       "        [[0., 0., 0.,  ..., 0., 1., 1.],\n",
       "         [0., 0., 0.,  ..., 0., 0., 0.],\n",
       "         [0., 0., 0.,  ..., 0., 0., 0.],\n",
       "         [1., 1., 1.,  ..., 1., 0., 0.]],\n",
       "\n",
       "        ...,\n",
       "\n",
       "        [[0., 0., 0.,  ..., 0., 1., 1.],\n",
       "         [0., 0., 0.,  ..., 0., 0., 0.],\n",
       "         [1., 1., 1.,  ..., 1., 0., 0.],\n",
       "         [0., 0., 0.,  ..., 0., 0., 0.]],\n",
       "\n",
       "        [[1., 0., 0.,  ..., 1., 1., 0.],\n",
       "         [0., 1., 0.,  ..., 0., 0., 0.],\n",
       "         [0., 0., 0.,  ..., 0., 0., 0.],\n",
       "         [0., 0., 1.,  ..., 0., 0., 1.]],\n",
       "\n",
       "        [[0., 1., 0.,  ..., 0., 0., 1.],\n",
       "         [0., 0., 0.,  ..., 0., 0., 0.],\n",
       "         [1., 0., 1.,  ..., 1., 1., 0.],\n",
       "         [0., 0., 0.,  ..., 0., 0., 0.]]])"
      ]
     },
     "metadata": {},
     "execution_count": 9
    }
   ],
   "source": [
    "x_sample_onehot = next(iter(dm_onehot.test_dataloader()))['X']\n",
    "x_sample_onehot"
   ]
  },
  {
   "cell_type": "code",
   "execution_count": 10,
   "metadata": {},
   "outputs": [
    {
     "output_type": "execute_result",
     "data": {
      "text/plain": [
       "torch.Size([64, 4, 1500])"
      ]
     },
     "metadata": {},
     "execution_count": 10
    }
   ],
   "source": [
    "x_sample_onehot.shape #batch_size, channels, length"
   ]
  },
  {
   "source": [
    "So, we have a fixed one-hot tensor of shape $(N,C,L)$, just like the Pytorch `nn.Conv1d` will expect. Note that we use $1$-D here since we have sequential data.\n"
   ],
   "cell_type": "markdown",
   "metadata": {}
  },
  {
   "cell_type": "code",
   "execution_count": 11,
   "metadata": {},
   "outputs": [],
   "source": [
    "class DNACNN(nn.Module):\n",
    "    def __init__(self):\n",
    "        super(DNACNN, self).__init__()\n",
    "        self.net=nn.Sequential(\n",
    "            nn.Conv1d(in_channels=4, out_channels=16, kernel_size=16), # -> [64, 16, 1485]\n",
    "            nn.ReLU(),\n",
    "            nn.AdaptiveMaxPool1d(16), #-> [64, 16, 16]\n",
    "            nn.Flatten(), #-> [64,256]\n",
    "            nn.Linear(256,1), # -> [64,1] , a single logit output per instance.\n",
    "            # nn.Sigmoid() -> no need for final activation since we will use nn.BCEWithLogitsLoss()\n",
    "        )\n",
    "\n",
    "    def forward(self, x):\n",
    "        x = self.net(x)\n",
    "        return x"
   ]
  },
  {
   "source": [
    "### CNN with Trainable Embeddings\n",
    "\n",
    "Now, for the embedding case, I will essentially \"recreate\" a learnable one-hot embedding. That is, we can directly compare the outcome of a learnable `nn.embedding` versus a fixed one-hot vector per sequence minibatch by being creative with dimensions.\n"
   ],
   "cell_type": "markdown",
   "metadata": {}
  },
  {
   "cell_type": "code",
   "execution_count": 12,
   "metadata": {},
   "outputs": [
    {
     "output_type": "execute_result",
     "data": {
      "text/plain": [
       "torch.Size([64, 1500])"
      ]
     },
     "metadata": {},
     "execution_count": 12
    }
   ],
   "source": [
    "x_sample_int = next(iter(dm_int.test_dataloader()))['X']\n",
    "x_sample_int.shape #batch_size, channels, length"
   ]
  },
  {
   "cell_type": "code",
   "execution_count": 13,
   "metadata": {},
   "outputs": [
    {
     "output_type": "execute_result",
     "data": {
      "text/plain": [
       "torch.Size([64, 4, 1500])"
      ]
     },
     "metadata": {},
     "execution_count": 13
    }
   ],
   "source": [
    "x_sample_int_embedded = nn.Embedding(num_embeddings=64, embedding_dim=4)(x_sample_int).view(64,4,1500)\n",
    "x_sample_int_embedded.shape"
   ]
  },
  {
   "source": [
    "Note that this looks identical to the one-hot encoding. However, we can take a look at the values:"
   ],
   "cell_type": "markdown",
   "metadata": {}
  },
  {
   "cell_type": "code",
   "execution_count": 14,
   "metadata": {},
   "outputs": [
    {
     "output_type": "execute_result",
     "data": {
      "text/plain": [
       "tensor([[[ 0.4570, -2.0863,  1.1360,  ..., -0.5568,  0.0075, -0.0272],\n",
       "         [ 0.4570, -2.0863,  1.1360,  ...,  1.5261,  0.5930,  1.0185],\n",
       "         [ 0.4570, -2.0863,  1.1360,  ..., -2.0863,  1.1360, -0.5638],\n",
       "         [ 0.0159, -1.1691,  1.2557,  ..., -0.5568,  0.0075, -0.0272]],\n",
       "\n",
       "        [[ 0.1240, -0.5568,  0.0075,  ..., -0.5568,  0.0075, -0.0272],\n",
       "         [ 0.4570, -2.0863,  1.1360,  ..., -0.5568,  0.0075, -0.0272],\n",
       "         [-0.9929,  1.5261,  0.5930,  ..., -2.0863,  1.1360, -0.5638],\n",
       "         [-0.9929,  1.5261,  0.5930,  ..., -1.1691,  1.2557, -0.1304]],\n",
       "\n",
       "        [[-0.9929,  1.5261,  0.5930,  ..., -1.1691,  1.2557, -0.1304],\n",
       "         [ 0.4570, -2.0863,  1.1360,  ..., -2.0863,  1.1360, -0.5638],\n",
       "         [-0.9929,  1.5261,  0.5930,  ...,  1.5261,  0.5930,  1.0185],\n",
       "         [ 0.1240, -0.5568,  0.0075,  ..., -2.0863,  1.1360, -0.5638]],\n",
       "\n",
       "        ...,\n",
       "\n",
       "        [[ 0.1240, -0.5568,  0.0075,  ...,  1.5261,  0.5930,  1.0185],\n",
       "         [ 0.4570, -2.0863,  1.1360,  ..., -1.1691,  1.2557, -0.1304],\n",
       "         [-0.9929,  1.5261,  0.5930,  ...,  1.5261,  0.5930,  1.0185],\n",
       "         [ 0.4570, -2.0863,  1.1360,  ..., -2.0863,  1.1360, -0.5638]],\n",
       "\n",
       "        [[ 0.4570, -2.0863,  1.1360,  ..., -0.5568,  0.0075, -0.0272],\n",
       "         [ 0.1240, -0.5568,  0.0075,  ...,  1.5261,  0.5930,  1.0185],\n",
       "         [ 0.1240, -0.5568,  0.0075,  ..., -1.1691,  1.2557, -0.1304],\n",
       "         [-0.9929,  1.5261,  0.5930,  ...,  1.5261,  0.5930,  1.0185]],\n",
       "\n",
       "        [[ 0.1240, -0.5568,  0.0075,  ...,  1.5261,  0.5930,  1.0185],\n",
       "         [ 0.4570, -2.0863,  1.1360,  ..., -2.0863,  1.1360, -0.5638],\n",
       "         [ 0.0159, -1.1691,  1.2557,  ..., -0.5568,  0.0075, -0.0272],\n",
       "         [ 0.1240, -0.5568,  0.0075,  ..., -2.0863,  1.1360, -0.5638]]],\n",
       "       grad_fn=<ViewBackward>)"
      ]
     },
     "metadata": {},
     "execution_count": 14
    }
   ],
   "source": [
    "x_sample_int_embedded"
   ]
  },
  {
   "source": [
    "Note that the tensor is initially randomized float values. But, unlike the one-hot case, these values (this lookup table) will be *trained/adjusted during backpropagation*!"
   ],
   "cell_type": "markdown",
   "metadata": {}
  },
  {
   "cell_type": "code",
   "execution_count": 15,
   "metadata": {},
   "outputs": [],
   "source": [
    "class DNACNNEmbedding(nn.Module):\n",
    "    def __init__(self):\n",
    "        super(DNACNNEmbedding, self).__init__()\n",
    "        self.embedding = nn.Embedding(num_embeddings=64, embedding_dim=4)\n",
    "        self.net=nn.Sequential(\n",
    "            nn.Conv1d(in_channels=4, out_channels=16, kernel_size=16), # -> [64, 16, 1485]\n",
    "            nn.ReLU(),\n",
    "            nn.AdaptiveMaxPool1d(16), #-> [64, 16, 16]\n",
    "            nn.Flatten(), #-> [64,256]\n",
    "            nn.Linear(256,1), # -> [64,1] , a single logit output per instance.\n",
    "            # nn.Sigmoid() -> no need for final activation since we will use nn.BCEWithLogitsLoss()\n",
    "        )\n",
    "\n",
    "    def forward(self, x):\n",
    "        y = self.net(self.embedding(x).view(64,4,1500))\n",
    "        return y"
   ]
  },
  {
   "source": [
    "### The DNA Transformer!\n",
    "\n",
    "Let's create a class using HuggingFace within an nn.module."
   ],
   "cell_type": "markdown",
   "metadata": {}
  },
  {
   "source": [
    "\n",
    "Note that for the Transformer, I will be pulling an *untrained* model from Huggingface. That involves invoking the `config` of the desired model, but instantiating the model itself from the config only (***not*** `from_pretrained`). I think this is actually quite annoying and could warrant a pull request at a future date (there ought to be a flag like `.from_untrained`).\n",
    "\n",
    "As for the tokenizer, we don't really need the actual model's tokenizer with associated vocabulary, etc., since we can just map each nucleotide to an integer. This should be equivalent to character-level tokenization of each nucleotide with an untrained vocabulary, but also allowed for the use of `nn.Embedding()` for the second CNN (detailed above).\n",
    "\n",
    "For illustrative purposes:"
   ],
   "cell_type": "markdown",
   "metadata": {}
  },
  {
   "cell_type": "code",
   "execution_count": 16,
   "metadata": {},
   "outputs": [
    {
     "output_type": "execute_result",
     "data": {
      "text/plain": [
       "XLNetForSequenceClassification(\n",
       "  (transformer): XLNetModel(\n",
       "    (word_embedding): Embedding(32000, 768)\n",
       "    (layer): ModuleList(\n",
       "      (0): XLNetLayer(\n",
       "        (rel_attn): XLNetRelativeAttention(\n",
       "          (layer_norm): LayerNorm((768,), eps=1e-12, elementwise_affine=True)\n",
       "          (dropout): Dropout(p=0.1, inplace=False)\n",
       "        )\n",
       "        (ff): XLNetFeedForward(\n",
       "          (layer_norm): LayerNorm((768,), eps=1e-12, elementwise_affine=True)\n",
       "          (layer_1): Linear(in_features=768, out_features=3072, bias=True)\n",
       "          (layer_2): Linear(in_features=3072, out_features=768, bias=True)\n",
       "          (dropout): Dropout(p=0.1, inplace=False)\n",
       "        )\n",
       "        (dropout): Dropout(p=0.1, inplace=False)\n",
       "      )\n",
       "      (1): XLNetLayer(\n",
       "        (rel_attn): XLNetRelativeAttention(\n",
       "          (layer_norm): LayerNorm((768,), eps=1e-12, elementwise_affine=True)\n",
       "          (dropout): Dropout(p=0.1, inplace=False)\n",
       "        )\n",
       "        (ff): XLNetFeedForward(\n",
       "          (layer_norm): LayerNorm((768,), eps=1e-12, elementwise_affine=True)\n",
       "          (layer_1): Linear(in_features=768, out_features=3072, bias=True)\n",
       "          (layer_2): Linear(in_features=3072, out_features=768, bias=True)\n",
       "          (dropout): Dropout(p=0.1, inplace=False)\n",
       "        )\n",
       "        (dropout): Dropout(p=0.1, inplace=False)\n",
       "      )\n",
       "      (2): XLNetLayer(\n",
       "        (rel_attn): XLNetRelativeAttention(\n",
       "          (layer_norm): LayerNorm((768,), eps=1e-12, elementwise_affine=True)\n",
       "          (dropout): Dropout(p=0.1, inplace=False)\n",
       "        )\n",
       "        (ff): XLNetFeedForward(\n",
       "          (layer_norm): LayerNorm((768,), eps=1e-12, elementwise_affine=True)\n",
       "          (layer_1): Linear(in_features=768, out_features=3072, bias=True)\n",
       "          (layer_2): Linear(in_features=3072, out_features=768, bias=True)\n",
       "          (dropout): Dropout(p=0.1, inplace=False)\n",
       "        )\n",
       "        (dropout): Dropout(p=0.1, inplace=False)\n",
       "      )\n",
       "      (3): XLNetLayer(\n",
       "        (rel_attn): XLNetRelativeAttention(\n",
       "          (layer_norm): LayerNorm((768,), eps=1e-12, elementwise_affine=True)\n",
       "          (dropout): Dropout(p=0.1, inplace=False)\n",
       "        )\n",
       "        (ff): XLNetFeedForward(\n",
       "          (layer_norm): LayerNorm((768,), eps=1e-12, elementwise_affine=True)\n",
       "          (layer_1): Linear(in_features=768, out_features=3072, bias=True)\n",
       "          (layer_2): Linear(in_features=3072, out_features=768, bias=True)\n",
       "          (dropout): Dropout(p=0.1, inplace=False)\n",
       "        )\n",
       "        (dropout): Dropout(p=0.1, inplace=False)\n",
       "      )\n",
       "      (4): XLNetLayer(\n",
       "        (rel_attn): XLNetRelativeAttention(\n",
       "          (layer_norm): LayerNorm((768,), eps=1e-12, elementwise_affine=True)\n",
       "          (dropout): Dropout(p=0.1, inplace=False)\n",
       "        )\n",
       "        (ff): XLNetFeedForward(\n",
       "          (layer_norm): LayerNorm((768,), eps=1e-12, elementwise_affine=True)\n",
       "          (layer_1): Linear(in_features=768, out_features=3072, bias=True)\n",
       "          (layer_2): Linear(in_features=3072, out_features=768, bias=True)\n",
       "          (dropout): Dropout(p=0.1, inplace=False)\n",
       "        )\n",
       "        (dropout): Dropout(p=0.1, inplace=False)\n",
       "      )\n",
       "      (5): XLNetLayer(\n",
       "        (rel_attn): XLNetRelativeAttention(\n",
       "          (layer_norm): LayerNorm((768,), eps=1e-12, elementwise_affine=True)\n",
       "          (dropout): Dropout(p=0.1, inplace=False)\n",
       "        )\n",
       "        (ff): XLNetFeedForward(\n",
       "          (layer_norm): LayerNorm((768,), eps=1e-12, elementwise_affine=True)\n",
       "          (layer_1): Linear(in_features=768, out_features=3072, bias=True)\n",
       "          (layer_2): Linear(in_features=3072, out_features=768, bias=True)\n",
       "          (dropout): Dropout(p=0.1, inplace=False)\n",
       "        )\n",
       "        (dropout): Dropout(p=0.1, inplace=False)\n",
       "      )\n",
       "      (6): XLNetLayer(\n",
       "        (rel_attn): XLNetRelativeAttention(\n",
       "          (layer_norm): LayerNorm((768,), eps=1e-12, elementwise_affine=True)\n",
       "          (dropout): Dropout(p=0.1, inplace=False)\n",
       "        )\n",
       "        (ff): XLNetFeedForward(\n",
       "          (layer_norm): LayerNorm((768,), eps=1e-12, elementwise_affine=True)\n",
       "          (layer_1): Linear(in_features=768, out_features=3072, bias=True)\n",
       "          (layer_2): Linear(in_features=3072, out_features=768, bias=True)\n",
       "          (dropout): Dropout(p=0.1, inplace=False)\n",
       "        )\n",
       "        (dropout): Dropout(p=0.1, inplace=False)\n",
       "      )\n",
       "      (7): XLNetLayer(\n",
       "        (rel_attn): XLNetRelativeAttention(\n",
       "          (layer_norm): LayerNorm((768,), eps=1e-12, elementwise_affine=True)\n",
       "          (dropout): Dropout(p=0.1, inplace=False)\n",
       "        )\n",
       "        (ff): XLNetFeedForward(\n",
       "          (layer_norm): LayerNorm((768,), eps=1e-12, elementwise_affine=True)\n",
       "          (layer_1): Linear(in_features=768, out_features=3072, bias=True)\n",
       "          (layer_2): Linear(in_features=3072, out_features=768, bias=True)\n",
       "          (dropout): Dropout(p=0.1, inplace=False)\n",
       "        )\n",
       "        (dropout): Dropout(p=0.1, inplace=False)\n",
       "      )\n",
       "      (8): XLNetLayer(\n",
       "        (rel_attn): XLNetRelativeAttention(\n",
       "          (layer_norm): LayerNorm((768,), eps=1e-12, elementwise_affine=True)\n",
       "          (dropout): Dropout(p=0.1, inplace=False)\n",
       "        )\n",
       "        (ff): XLNetFeedForward(\n",
       "          (layer_norm): LayerNorm((768,), eps=1e-12, elementwise_affine=True)\n",
       "          (layer_1): Linear(in_features=768, out_features=3072, bias=True)\n",
       "          (layer_2): Linear(in_features=3072, out_features=768, bias=True)\n",
       "          (dropout): Dropout(p=0.1, inplace=False)\n",
       "        )\n",
       "        (dropout): Dropout(p=0.1, inplace=False)\n",
       "      )\n",
       "      (9): XLNetLayer(\n",
       "        (rel_attn): XLNetRelativeAttention(\n",
       "          (layer_norm): LayerNorm((768,), eps=1e-12, elementwise_affine=True)\n",
       "          (dropout): Dropout(p=0.1, inplace=False)\n",
       "        )\n",
       "        (ff): XLNetFeedForward(\n",
       "          (layer_norm): LayerNorm((768,), eps=1e-12, elementwise_affine=True)\n",
       "          (layer_1): Linear(in_features=768, out_features=3072, bias=True)\n",
       "          (layer_2): Linear(in_features=3072, out_features=768, bias=True)\n",
       "          (dropout): Dropout(p=0.1, inplace=False)\n",
       "        )\n",
       "        (dropout): Dropout(p=0.1, inplace=False)\n",
       "      )\n",
       "      (10): XLNetLayer(\n",
       "        (rel_attn): XLNetRelativeAttention(\n",
       "          (layer_norm): LayerNorm((768,), eps=1e-12, elementwise_affine=True)\n",
       "          (dropout): Dropout(p=0.1, inplace=False)\n",
       "        )\n",
       "        (ff): XLNetFeedForward(\n",
       "          (layer_norm): LayerNorm((768,), eps=1e-12, elementwise_affine=True)\n",
       "          (layer_1): Linear(in_features=768, out_features=3072, bias=True)\n",
       "          (layer_2): Linear(in_features=3072, out_features=768, bias=True)\n",
       "          (dropout): Dropout(p=0.1, inplace=False)\n",
       "        )\n",
       "        (dropout): Dropout(p=0.1, inplace=False)\n",
       "      )\n",
       "      (11): XLNetLayer(\n",
       "        (rel_attn): XLNetRelativeAttention(\n",
       "          (layer_norm): LayerNorm((768,), eps=1e-12, elementwise_affine=True)\n",
       "          (dropout): Dropout(p=0.1, inplace=False)\n",
       "        )\n",
       "        (ff): XLNetFeedForward(\n",
       "          (layer_norm): LayerNorm((768,), eps=1e-12, elementwise_affine=True)\n",
       "          (layer_1): Linear(in_features=768, out_features=3072, bias=True)\n",
       "          (layer_2): Linear(in_features=3072, out_features=768, bias=True)\n",
       "          (dropout): Dropout(p=0.1, inplace=False)\n",
       "        )\n",
       "        (dropout): Dropout(p=0.1, inplace=False)\n",
       "      )\n",
       "    )\n",
       "    (dropout): Dropout(p=0.1, inplace=False)\n",
       "  )\n",
       "  (sequence_summary): SequenceSummary(\n",
       "    (summary): Linear(in_features=768, out_features=768, bias=True)\n",
       "    (first_dropout): Identity()\n",
       "    (last_dropout): Dropout(p=0.1, inplace=False)\n",
       "  )\n",
       "  (logits_proj): Linear(in_features=768, out_features=2, bias=True)\n",
       ")"
      ]
     },
     "metadata": {},
     "execution_count": 16
    }
   ],
   "source": [
    "model = AutoModelForSequenceClassification.from_config(\n",
    "    AutoConfig.from_pretrained('xlnet-base-cased')\n",
    "    )\n",
    "model"
   ]
  },
  {
   "source": [
    "The transformer model is currently instantiated for classification (`model.logits_proj` has `out_features=2`). Note that we will need to take some form of activation across these logits (sigmoid, or even plain argmax). We can use `BCEWithLogits` (binary cross entropy with logits) to accomplish this.\n",
    "\n",
    "Note due to the nature of binary (versus multlabel) classification, that we could instead have a *single* neuron output and use sigmoidal activation (analagous to logistic regression).\n",
    "\n",
    "The key difference here is that a single neuronal output will evaluate the probability of a single output together, rather than the probability of each class independently. By keeping the output dimensions as $2$, we may gain a small amount out capacity of the network (each output gets its own weight) that would be implicit otherwise. More formally, the VC dimension of a parameter-rich network is greater, however small.\n",
    "\n",
    "Still, the dimensions of the label space need to pairwise match. Since labels are currently set up in the dataset with cardinality of 1 (scalar, versus a one-hot or other label encoding of its own), I will instead just refactor the model slightly to have a single output dimension. It's not clear what the advantage in this toy example would be to changing or keeping this tiny aspect of the architecture would be, at any rate.\n",
    "\n"
   ],
   "cell_type": "markdown",
   "metadata": {}
  },
  {
   "cell_type": "code",
   "execution_count": 17,
   "metadata": {},
   "outputs": [
    {
     "output_type": "execute_result",
     "data": {
      "text/plain": [
       "Linear(in_features=768, out_features=1, bias=True)"
      ]
     },
     "metadata": {},
     "execution_count": 17
    }
   ],
   "source": [
    "model.logits_proj = nn.Linear(in_features=768,out_features=1,bias=True)\n",
    "model.logits_proj"
   ]
  },
  {
   "source": [
    "Perfect! This will be incorporated below.\n",
    "\n",
    "In short, this step allows us to create a black-box network while keeping all of the business of training each of these three models as similar as possible (same loss, same `LightningModule`, etc., and I'm sure there are even more concise methods)."
   ],
   "cell_type": "markdown",
   "metadata": {}
  },
  {
   "cell_type": "code",
   "execution_count": 18,
   "metadata": {},
   "outputs": [],
   "source": [
    "class DNATransformer(nn.Module):\n",
    "    def __init__(self,transformer_checkpoint='xlnet-base-cased'):\n",
    "        super(DNATransformer, self).__init__()\n",
    "        \n",
    "        #Load untrained model using checkpointed config.\n",
    "        self.config = AutoConfig.from_pretrained(transformer_checkpoint)\n",
    "        self.model = AutoModelForSequenceClassification.from_config(self.config)\n",
    "        self.model.logits_proj = nn.Linear(in_features=768,out_features=1,bias=True)\n",
    "\n",
    "    def forward(self,x):\n",
    "        return self.model(x)"
   ]
  },
  {
   "source": [
    "### Integration: The Training Module\n",
    "\n",
    "Now, the three models defined above are ready to be invoked into during train, test, and inference. We can organize this under a `LightningModule`:"
   ],
   "cell_type": "markdown",
   "metadata": {}
  },
  {
   "cell_type": "code",
   "execution_count": 19,
   "metadata": {},
   "outputs": [],
   "source": [
    "class DNALitModule(pl.LightningModule):\n",
    "\n",
    "    def __init__(self,net:nn.Module):\n",
    "        super().__init__()\n",
    "        self.net = net\n",
    "        self.criterion = nn.BCEWithLogitsLoss() #Sigmoid-->BCE Loss included.\n",
    "\n",
    "    def training_step(self, batch, batch_idx):\n",
    "        # --------------------------\n",
    "        x, y = batch['X'],batch['y']\n",
    "        y_hat = self.net(x) #take the most probable index.\n",
    "        loss = self.criterion(y_hat, y)\n",
    "        self.log('train_loss', loss)\n",
    "        return loss\n",
    "        # --------------------------\n",
    "\n",
    "    def validation_step(self, batch, batch_idx):\n",
    "        # --------------------------\n",
    "        x, y = batch['X'],batch['y']\n",
    "        y_hat = self.net(x)\n",
    "        loss = self.criterion(y_hat, y)\n",
    "        self.log('val_loss', loss)\n",
    "        # --------------------------\n",
    "\n",
    "    def test_step(self, batch, batch_idx):\n",
    "        # --------------------------\n",
    "        x, y = batch['X'],batch['y']\n",
    "        y_hat = self.net(x)\n",
    "        loss = self.criterion(y_hat, y)\n",
    "        self.log('test_loss', loss)\n",
    "        # --------------------------\n",
    "\n",
    "    def configure_optimizers(self):\n",
    "        optimizer = torch.optim.Adam(self.parameters(), lr=1e-3)\n",
    "        return optimizer"
   ]
  },
  {
   "source": [
    "## Training\n",
    "\n",
    "We are now ready to train the selection of models.\n",
    "\n",
    " - Datamodules ✔️\n",
    "\n",
    " - CNN ✔️\n",
    "\n",
    " - CNN with Embeddings ✔️\n",
    "\n",
    " - Transformer ✔️\n",
    "\n",
    "\n",
    "Time to train!"
   ],
   "cell_type": "markdown",
   "metadata": {}
  },
  {
   "cell_type": "code",
   "execution_count": 20,
   "metadata": {},
   "outputs": [
    {
     "output_type": "stream",
     "name": "stderr",
     "text": [
      "GPU available: False, used: False\n",
      "TPU available: None, using: 0 TPU cores\n",
      "GPU available: False, used: False\n",
      "TPU available: None, using: 0 TPU cores\n",
      "Running in fast_dev_run mode: will run a full train, val and test loop using 1 batch(es).\n",
      "GPU available: False, used: False\n",
      "TPU available: None, using: 0 TPU cores\n",
      "Running in fast_dev_run mode: will run a full train, val and test loop using 1 batch(es).\n"
     ]
    }
   ],
   "source": [
    "#for clarity\n",
    "cnn_dm = dm_onehot\n",
    "cnn_emb_dm = transformer_dm = dm_int\n",
    "\n",
    "dna_cnn = DNALitModule(DNACNN())\n",
    "dna_cnn_emb = DNALitModule(DNACNNEmbedding())\n",
    "dna_transformer = DNALitModule(DNATransformer())\n",
    "\n",
    "trainer_cnn = pl.Trainer(fast_dev_run=False,gpus=0,max_epochs=5)\n",
    "trainer_cnn_emb = pl.Trainer(fast_dev_run=True,gpus=0,max_epochs=5)\n",
    "trainer_transformer = pl.Trainer(fast_dev_run=True,gpus=0,max_epochs=5)"
   ]
  },
  {
   "cell_type": "code",
   "execution_count": 21,
   "metadata": {},
   "outputs": [
    {
     "output_type": "stream",
     "name": "stderr",
     "text": [
      "\n",
      "  | Name      | Type              | Params\n",
      "------------------------------------------------\n",
      "0 | net       | DNACNN            | 1.3 K \n",
      "1 | criterion | BCEWithLogitsLoss | 0     \n",
      "------------------------------------------------\n",
      "1.3 K     Trainable params\n",
      "0         Non-trainable params\n",
      "1.3 K     Total params\n",
      "0.005     Total estimated model params size (MB)\n",
      "Epoch 0:  50%|█████     | 63/126 [00:01<00:01, 42.99it/s, loss=0.693, v_num=2]\n",
      "Validating: 0it [00:00, ?it/s]\u001b[A\n",
      "Epoch 0:  52%|█████▏    | 66/126 [00:01<00:01, 44.31it/s, loss=0.693, v_num=2]\n",
      "Epoch 0:  63%|██████▎   | 79/126 [00:01<00:00, 49.66it/s, loss=0.693, v_num=2]\n",
      "Epoch 0:  74%|███████▍  | 93/126 [00:01<00:00, 54.90it/s, loss=0.693, v_num=2]\n",
      "Epoch 0:  85%|████████▍ | 107/126 [00:01<00:00, 59.49it/s, loss=0.693, v_num=2]\n",
      "Epoch 0: 100%|██████████| 126/126 [00:01<00:00, 64.68it/s, loss=0.693, v_num=2]\n",
      "Epoch 1:  50%|█████     | 63/126 [00:01<00:01, 46.28it/s, loss=0.686, v_num=2]\n",
      "Validating: 0it [00:00, ?it/s]\u001b[A\n",
      "Epoch 1:  56%|█████▌    | 70/126 [00:01<00:01, 49.50it/s, loss=0.686, v_num=2]\n",
      "Epoch 1:  67%|██████▋   | 84/126 [00:01<00:00, 55.32it/s, loss=0.686, v_num=2]\n",
      "Epoch 1:  78%|███████▊  | 98/126 [00:01<00:00, 60.48it/s, loss=0.686, v_num=2]\n",
      "Epoch 1:  89%|████████▉ | 112/126 [00:01<00:00, 65.05it/s, loss=0.686, v_num=2]\n",
      "Epoch 1: 100%|██████████| 126/126 [00:01<00:00, 68.75it/s, loss=0.686, v_num=2]\n",
      "Epoch 2:  50%|█████     | 63/126 [00:01<00:01, 46.30it/s, loss=0.638, v_num=2]\n",
      "Validating: 0it [00:00, ?it/s]\u001b[A\n",
      "Epoch 2:  56%|█████▌    | 70/126 [00:01<00:01, 49.45it/s, loss=0.638, v_num=2]\n",
      "Epoch 2:  67%|██████▋   | 84/126 [00:01<00:00, 55.38it/s, loss=0.638, v_num=2]\n",
      "Epoch 2:  79%|███████▊  | 99/126 [00:01<00:00, 61.02it/s, loss=0.638, v_num=2]\n",
      "Epoch 2:  90%|█████████ | 114/126 [00:01<00:00, 65.97it/s, loss=0.638, v_num=2]\n",
      "Epoch 2: 100%|██████████| 126/126 [00:01<00:00, 69.39it/s, loss=0.638, v_num=2]\n",
      "Epoch 3:  50%|█████     | 63/126 [00:01<00:01, 46.66it/s, loss=0.509, v_num=2]\n",
      "Validating: 0it [00:00, ?it/s]\u001b[A\n",
      "Epoch 3:  60%|█████▉    | 75/126 [00:01<00:00, 52.35it/s, loss=0.509, v_num=2]\n",
      "Epoch 3:  71%|███████▏  | 90/126 [00:01<00:00, 58.41it/s, loss=0.509, v_num=2]\n",
      "Epoch 3:  83%|████████▎ | 105/126 [00:01<00:00, 63.64it/s, loss=0.509, v_num=2]\n",
      "Epoch 3:  95%|█████████▌| 120/126 [00:01<00:00, 68.29it/s, loss=0.509, v_num=2]\n",
      "Epoch 3: 100%|██████████| 126/126 [00:01<00:00, 69.46it/s, loss=0.509, v_num=2]\n",
      "Epoch 4:  50%|█████     | 63/126 [00:01<00:01, 47.62it/s, loss=0.37, v_num=2] \n",
      "Validating: 0it [00:00, ?it/s]\u001b[A\n",
      "Epoch 4:  60%|█████▉    | 75/126 [00:01<00:00, 53.08it/s, loss=0.37, v_num=2]\n",
      "Epoch 4:  71%|███████▏  | 90/126 [00:01<00:00, 58.86it/s, loss=0.37, v_num=2]\n",
      "Epoch 4:  83%|████████▎ | 105/126 [00:01<00:00, 63.93it/s, loss=0.37, v_num=2]\n",
      "Epoch 4:  95%|█████████▌| 120/126 [00:01<00:00, 68.72it/s, loss=0.37, v_num=2]\n",
      "Epoch 4: 100%|██████████| 126/126 [00:01<00:00, 70.22it/s, loss=0.37, v_num=2]\n",
      "Epoch 4: 100%|██████████| 126/126 [00:01<00:00, 69.97it/s, loss=0.37, v_num=2]\n"
     ]
    },
    {
     "output_type": "execute_result",
     "data": {
      "text/plain": [
       "1"
      ]
     },
     "metadata": {},
     "execution_count": 21
    }
   ],
   "source": [
    "trainer_cnn.fit(model = dna_cnn, datamodule=cnn_dm)"
   ]
  },
  {
   "cell_type": "code",
   "execution_count": 22,
   "metadata": {},
   "outputs": [
    {
     "output_type": "stream",
     "name": "stderr",
     "text": [
      "\n",
      "  | Name      | Type              | Params\n",
      "------------------------------------------------\n",
      "0 | net       | DNACNNEmbedding   | 1.6 K \n",
      "1 | criterion | BCEWithLogitsLoss | 0     \n",
      "------------------------------------------------\n",
      "1.6 K     Trainable params\n",
      "0         Non-trainable params\n",
      "1.6 K     Total params\n",
      "0.006     Total estimated model params size (MB)\n",
      "Epoch 0:  50%|█████     | 1/2 [00:00<00:00,  4.81it/s, loss=0.697]\n",
      "Validating: 0it [00:00, ?it/s]\u001b[A\n",
      "Epoch 0: 100%|██████████| 2/2 [00:00<00:00,  9.00it/s, loss=0.697]\n",
      "Epoch 0: 100%|██████████| 2/2 [00:00<00:00,  8.90it/s, loss=0.697]\n"
     ]
    },
    {
     "output_type": "execute_result",
     "data": {
      "text/plain": [
       "1"
      ]
     },
     "metadata": {},
     "execution_count": 22
    }
   ],
   "source": [
    "trainer_cnn_emb.fit(model = dna_cnn_emb, datamodule=cnn_emb_dm)"
   ]
  },
  {
   "cell_type": "code",
   "execution_count": 23,
   "metadata": {},
   "outputs": [],
   "source": [
    "# trainer_transformer.fit(model=dna_transformer,datamodule=transformer_dm)"
   ]
  },
  {
   "source": [
    "These models range in complexity greatly, and my hope is this will serve as a future-proof skeleton for a number of implementations. Other variants of CNNs, RNNs, and other Pytorch objects should be facile to swap and implement, and HuggingFace will likely serve as a choice deep NLP API for some time."
   ],
   "cell_type": "markdown",
   "metadata": {}
  },
  {
   "cell_type": "code",
   "execution_count": 24,
   "metadata": {},
   "outputs": [],
   "source": [
    "# config = AutoConfig.from_pretrained('xlnet-base-cased')\n",
    "\n",
    "# model = AutoModelForSequenceClassification.from_config(config)\n",
    "# model.logits_proj = nn.Linear(in_features=768,out_features=1,bias=True)"
   ]
  },
  {
   "cell_type": "code",
   "execution_count": null,
   "metadata": {},
   "outputs": [],
   "source": []
  }
 ]
}