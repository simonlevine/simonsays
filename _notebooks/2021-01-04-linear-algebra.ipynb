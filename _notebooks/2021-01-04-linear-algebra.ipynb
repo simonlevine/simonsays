{
 "metadata": {
  "language_info": {
   "codemirror_mode": {
    "name": "ipython",
    "version": 3
   },
   "file_extension": ".py",
   "mimetype": "text/x-python",
   "name": "python",
   "nbconvert_exporter": "python",
   "pygments_lexer": "ipython3",
   "version": "3.7.6-final"
  },
  "orig_nbformat": 2,
  "kernelspec": {
   "name": "python37664bitbasecondab8a2a0b1ed86479d9f777b0a8cf633d1",
   "display_name": "Python 3.7.6 64-bit ('base': conda)",
   "language": "python"
  }
 },
 "nbformat": 4,
 "nbformat_minor": 2,
 "cells": [
  {
   "source": [
    "# Magic in Numpy\n",
    "> Fast and Useful Matrix Operations and Linear Algebra\n",
    "\n",
    "- toc: true \n",
    "- badges: true\n",
    "- comments: true\n",
    "- categories: [jupyter]\n"
   ],
   "cell_type": "markdown",
   "metadata": {}
  },
  {
   "source": [
    "## Numpy Basics\n",
    "\n",
    "We will now go over some basic approaches on a seemingly simple matrix for illustrative purposes. Hopefully some of the efficient and useful properties of Numpy become apparent.\n",
    "\n",
    "A favorite work by a favorite artist, Dürer's *Melencolia I* (1514) includes sophisticated use of mathematical allegory, particularly in the top-right corner.\n",
    "\n",
    "<img src=\"melancholia.jpg\" width=\"400\"> \n"
   ],
   "cell_type": "markdown",
   "metadata": {}
  },
  {
   "cell_type": "code",
   "execution_count": null,
   "metadata": {},
   "outputs": [],
   "source": []
  },
  {
   "source": [
    "# <img src=\"melancholia_detail.jpg\" width=\"200\">\n",
    "The matrix is thus:\n"
   ],
   "cell_type": "markdown",
   "metadata": {}
  },
  {
   "cell_type": "code",
   "execution_count": 5,
   "metadata": {},
   "outputs": [
    {
     "output_type": "stream",
     "name": "stdout",
     "text": [
      "[[16  3  2 13]\n [ 5 10 11  8]\n [ 9  6  7 12]\n [ 4 15 14  1]]\n"
     ]
    }
   ],
   "source": [
    "import numpy as np\n",
    "\n",
    "X = np.array([[16, 3,  2, 13],\n",
    "              [5, 10, 11, 8],\n",
    "              [9,  6,  7, 12],\n",
    "              [4, 15, 14,  1]])\n",
    "print(X)"
   ]
  },
  {
   "cell_type": "code",
   "execution_count": 6,
   "metadata": {},
   "outputs": [
    {
     "output_type": "execute_result",
     "data": {
      "text/plain": [
       "numpy.ndarray"
      ]
     },
     "metadata": {},
     "execution_count": 6
    }
   ],
   "source": [
    "type(X)"
   ]
  },
  {
   "source": [
    "## Magic Squares\n",
    "\n",
    "This matrix is purported to be a magic square. We must fit the following constraints:\n",
    "\n",
    "1) Magic\n",
    "2) Square\n",
    "\n",
    "Simple enough. Starting with the second condition, Numpy provides a number of methods. Though magic cubes and tesseracts are possible, we can begin with a square. Here's a simple function to detect if an array is square."
   ],
   "cell_type": "markdown",
   "metadata": {}
  },
  {
   "cell_type": "code",
   "execution_count": 9,
   "metadata": {},
   "outputs": [
    {
     "output_type": "execute_result",
     "data": {
      "text/plain": [
       "True"
      ]
     },
     "metadata": {},
     "execution_count": 9
    }
   ],
   "source": [
    "def is_square(M: np.ndarray) -> bool:\n",
    "    '''\n",
    "    Arguments: M, a 2-d matrix\n",
    "    Returns: a boolean, True if square\n",
    "    '''\n",
    "    assert M.ndim == 2\n",
    "    return True if M.shape[0] == M.shape[1] else False\n",
    "\n",
    "is_square(X)"
   ]
  },
  {
   "source": [
    "## Vectorized Summation: Magic\n",
    "\n",
    "Now, the more involved condition. A square is \"magic\" iff the array exhibits the following properties:\n",
    "\n",
    "i) Each of the $n$ elements are of the set of distinct positive integers $[1,2,3,...,n^2]$, such that $n$ is the \"order\" of the square. Dürer thus presents a $4^{th}$ order magic square.\n",
    "\n",
    "ii) The sum of the $n$ numbers about any horizontal, vertical or main diagnonal is the same number – the \"magic\" constant. It is known that such magic constants can be given by $ \\mathcal{M}(X_n) = \\frac{1}{n}\\sum_{k=1}^{n^2}k = \\frac{1}{2}n(n^2+1)$ .\n",
    "\n",
    "\n",
    "Aside:\n",
    "iii) The complement to a magic square is derived from subtracting every number in a given magic square by $n^2 + 1$.\n",
    "\n",
    "Back to Dürer. We can check each condition as follows."
   ],
   "cell_type": "markdown",
   "metadata": {}
  },
  {
   "cell_type": "code",
   "execution_count": 113,
   "metadata": {},
   "outputs": [],
   "source": [
    "def is_magic(M:np.ndarray)->bool:\n",
    "\n",
    "    #By constraints i) & ii)\n",
    "    assert M.shape[0] == M.shape[1], 'Not a square.'\n",
    "\n",
    "    n = M.shape[0]\n",
    "\n",
    "    assert np.array_equal(np.sort(M.flatten()), np.arange(n**2) + 1), 'Expected elements from [1,2,...,n^2]'\n",
    "\n",
    "    column_sums = np.sum(M,axis=0)\n",
    "    #Note that summing across axis 0 actually returns column-wise sums, and vice-versa.\n",
    "    row_sums = np.sum(M, axis=1)\n",
    "\n",
    "    diagonal_sums = np.array([np.trace(M),np.trace(np.fliplr(M))]).astype(int)\n",
    "\n",
    "    # print(diagonal_sums)\n",
    "\n",
    "    magic_num_sum = np.unique(np.concatenate( (column_sums,row_sums,diagonal_sums) ))\n",
    "\n",
    "\n",
    "    if len(magic_num_sum) == 1:\n",
    "        print(f'Magic number is {magic_num_sum} with order {n}.')\n",
    "        return True"
   ]
  },
  {
   "cell_type": "code",
   "execution_count": 109,
   "metadata": {},
   "outputs": [
    {
     "output_type": "execute_result",
     "data": {
      "text/plain": [
       "True"
      ]
     },
     "metadata": {},
     "execution_count": 109
    }
   ],
   "source": [
    "#note:\n",
    "np.fliplr(X).diagonal().sum() == np.flipud(X).diagonal().sum()"
   ]
  },
  {
   "cell_type": "code",
   "execution_count": 110,
   "metadata": {},
   "outputs": [
    {
     "output_type": "execute_result",
     "data": {
      "text/plain": [
       "True"
      ]
     },
     "metadata": {},
     "execution_count": 110
    }
   ],
   "source": [
    "#Also note:\n",
    "np.trace(X) == np.diagonal(X).sum()"
   ]
  },
  {
   "cell_type": "code",
   "execution_count": 134,
   "metadata": {},
   "outputs": [
    {
     "output_type": "stream",
     "name": "stdout",
     "text": [
      "Magic number is [34] with order 4.\n"
     ]
    },
    {
     "output_type": "execute_result",
     "data": {
      "text/plain": [
       "True"
      ]
     },
     "metadata": {},
     "execution_count": 134
    }
   ],
   "source": [
    "is_magic(X)"
   ]
  },
  {
   "cell_type": "code",
   "execution_count": 135,
   "metadata": {},
   "outputs": [
    {
     "output_type": "execute_result",
     "data": {
      "text/plain": [
       "array([[16,  3,  2, 13],\n",
       "       [ 5, 10, 11,  8],\n",
       "       [ 9,  6,  7, 12],\n",
       "       [ 4, 15, 14,  1]])"
      ]
     },
     "metadata": {},
     "execution_count": 135
    }
   ],
   "source": [
    "X"
   ]
  },
  {
   "source": [
    "## Fast Indexing: Gnomon Magic\n",
    "\n",
    "Dürer's square is actually a Gnomonic Magic Square – that is, each non-overlapping root subsquare bordering the four sides of the square ($2\\times 2$ subsquare), as well as the central subsquare, sums to the magic constant of the overarching square.\n",
    "\n",
    "The Gnomon is the portion of the sundial casting a shadow. In a way we also cast a magic projection on subarrays of our main magic square.\n",
    "\n",
    "We can verify this easily – in Numpy, arrays can be efficiently split with minimal logic, rather than looping over each element and hard-indexing.\n"
   ],
   "cell_type": "markdown",
   "metadata": {}
  },
  {
   "cell_type": "code",
   "execution_count": 218,
   "metadata": {},
   "outputs": [
    {
     "output_type": "execute_result",
     "data": {
      "text/plain": [
       "[array([[16,  3],\n",
       "        [ 5, 10]]),\n",
       " array([[ 2, 13],\n",
       "        [11,  8]]),\n",
       " array([[ 9,  6],\n",
       "        [ 4, 15]]),\n",
       " array([[ 7, 12],\n",
       "        [14,  1]]),\n",
       " array([[10, 11],\n",
       "        [ 6,  7]])]"
      ]
     },
     "metadata": {},
     "execution_count": 218
    }
   ],
   "source": [
    "a,b,c,d = [quadrant for sub_x in np.split(X,2, axis = 0) for quadrant in np.split(sub_x,2, axis = 1)]\n",
    "\n",
    "n = X.shape[0]\n",
    "\n",
    "n_subsquare = np.sqrt(n).astype(int)\n",
    "start = n//2 - (n_subsquare // 2)\n",
    "end = n//2 + (n_subsquare // 2)\n",
    "\n",
    "e = X[start:end,start:end]\n",
    "\n",
    "sections = [a, b, c, d, e]\n",
    "sections"
   ]
  },
  {
   "cell_type": "code",
   "execution_count": 221,
   "metadata": {},
   "outputs": [
    {
     "output_type": "stream",
     "name": "stdout",
     "text": [
      "{34}\n"
     ]
    }
   ],
   "source": [
    "print(set([sum(s.flatten()) for s in sections]))"
   ]
  },
  {
   "source": [
    "All quadrants sum to the magic number of 34. As such, we have verified the deliberate style of Dürer."
   ],
   "cell_type": "markdown",
   "metadata": {}
  },
  {
   "source": [
    "# Linear Algebra"
   ],
   "cell_type": "markdown",
   "metadata": {}
  },
  {
   "cell_type": "code",
   "execution_count": null,
   "metadata": {},
   "outputs": [],
   "source": []
  }
 ]
}