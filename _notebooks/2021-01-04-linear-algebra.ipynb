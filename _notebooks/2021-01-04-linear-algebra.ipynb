{
 "metadata": {
  "language_info": {
   "codemirror_mode": {
    "name": "ipython",
    "version": 3
   },
   "file_extension": ".py",
   "mimetype": "text/x-python",
   "name": "python",
   "nbconvert_exporter": "python",
   "pygments_lexer": "ipython3",
   "version": "3.7.6-final"
  },
  "orig_nbformat": 2,
  "kernelspec": {
   "name": "python37664bitbasecondab8a2a0b1ed86479d9f777b0a8cf633d1",
   "display_name": "Python 3.7.6 64-bit ('base': conda)",
   "language": "python"
  }
 },
 "nbformat": 4,
 "nbformat_minor": 2,
 "cells": [
  {
   "source": [
    "# Magic in Numpy\n",
    "> Matrix Operations, and Linear Algebra by Way of Albrecht Dürer\n",
    "\n",
    "- toc: true \n",
    "- badges: true\n",
    "- comments: true\n",
    "- categories: [jupyter]\n"
   ],
   "cell_type": "markdown",
   "metadata": {}
  },
  {
   "source": [
    "## Numpy Basics\n",
    "\n",
    "We will now go over some basic approaches on a seemingly simple matrix for illustrative purposes. Hopefully some of the efficient and useful properties of Numpy become apparent.\n",
    "\n",
    "A favorite work by a favorite artist, Dürer's *Melencolia I* (1514) includes sophisticated use of mathematical allegory, particularly in the top-right corner.\n",
    "\n",
    "<img src=\"melancholia.jpg\" width=\"400\"> \n"
   ],
   "cell_type": "markdown",
   "metadata": {}
  },
  {
   "source": [
    "\n",
    "<img src=\"melancholia_detail.jpg\" width=\"200\">\n",
    "\n",
    "\n",
    "The matrix is thus:\n"
   ],
   "cell_type": "markdown",
   "metadata": {}
  },
  {
   "cell_type": "code",
   "execution_count": null,
   "metadata": {},
   "outputs": [],
   "source": []
  },
  {
   "cell_type": "code",
   "execution_count": 52,
   "metadata": {},
   "outputs": [
    {
     "output_type": "stream",
     "name": "stdout",
     "text": [
      "[[16  3  2 13]\n [ 5 10 11  8]\n [ 9  6  7 12]\n [ 4 15 14  1]]\n"
     ]
    }
   ],
   "source": [
    "import numpy as np\n",
    "\n",
    "X = np.array([[16, 3,  2, 13],\n",
    "              [5, 10, 11, 8],\n",
    "              [9,  6,  7, 12],\n",
    "              [4, 15, 14,  1]])\n",
    "print(X)"
   ]
  },
  {
   "cell_type": "code",
   "execution_count": 2,
   "metadata": {},
   "outputs": [
    {
     "output_type": "execute_result",
     "data": {
      "text/plain": [
       "numpy.ndarray"
      ]
     },
     "metadata": {},
     "execution_count": 2
    }
   ],
   "source": [
    "type(X)"
   ]
  },
  {
   "source": [
    "## Magic Squares\n",
    "\n",
    "This matrix is purported to be a magic square. We must fit the following constraints:\n",
    "\n",
    "1) Magic\n",
    "2) Square\n",
    "\n",
    "Simple enough. Starting with the second condition, Numpy provides a number of methods. Though magic cubes and tesseracts are possible, we can begin with a square. Here's a simple function to detect if an array is square."
   ],
   "cell_type": "markdown",
   "metadata": {}
  },
  {
   "cell_type": "code",
   "execution_count": 3,
   "metadata": {},
   "outputs": [
    {
     "output_type": "execute_result",
     "data": {
      "text/plain": [
       "True"
      ]
     },
     "metadata": {},
     "execution_count": 3
    }
   ],
   "source": [
    "def is_square(M: np.ndarray) -> bool:\n",
    "    '''\n",
    "    Arguments: M, a 2-d matrix\n",
    "    Returns: a boolean, True if square\n",
    "    '''\n",
    "    assert M.ndim == 2\n",
    "    return True if M.shape[0] == M.shape[1] else False\n",
    "\n",
    "is_square(X)"
   ]
  },
  {
   "source": [
    "## Vectorized Summation: Magic\n",
    "\n",
    "Now, the more involved condition. If a square is \"magic\", the array exhibits the following properties[^1]:\n",
    "\n",
    "i) Each of the $n$ elements are of the set of distinct positive integers $[1,2,3,...,n^2]$, such that $n$ is the \"order\" of the square. Dürer thus presents a $4^{th}$ order magic square.\n",
    "\n",
    "ii) The sum of the $n$ numbers about any horizontal, vertical or main diagnonal is the same number – the \"magic\" constant. It is known that such magic constants can be given by $ \\mathcal{M}(X_n) = \\frac{1}{n}\\sum_{k=1}^{n^2}k = \\frac{1}{2}n(n^2+1)$ .\n",
    "\n",
    "\n",
    "Aside:\n",
    "iii) The complement to a magic square is derived from subtracting every number in a given magic square by $n^2 + 1$.\n",
    "\n",
    "Back to Dürer. We can check each condition as follows.\n",
    "\n",
    "\n",
    "\n",
    "\n",
    "\n",
    "[^1]: there are others, see https://faculty.etsu.edu/stephen/matrix-magic-squares.pdf)"
   ],
   "cell_type": "markdown",
   "metadata": {}
  },
  {
   "cell_type": "code",
   "execution_count": 4,
   "metadata": {},
   "outputs": [],
   "source": [
    "def is_magic(M, verbose = True)->bool:\n",
    "\n",
    "    #By constraints i) & ii)\n",
    "    assert M.shape[0] == M.shape[1], 'Not a square.'\n",
    "\n",
    "    n = M.shape[0]\n",
    "\n",
    "    assert np.array_equal(np.sort(M.flatten()), np.arange(n**2) + 1), 'Expected elements from [1,2,...,n^2]'\n",
    "\n",
    "    column_sums = np.sum(M,axis=0)\n",
    "    #Note that summing across axis 0 actually returns column-wise sums, and vice-versa.\n",
    "    row_sums = np.sum(M, axis=1)\n",
    "\n",
    "    diagonal_sums = np.array([np.trace(M),np.trace(np.fliplr(M))]).astype(int)\n",
    "    magic_num_sum = np.unique(np.concatenate( (column_sums,row_sums,diagonal_sums) ))\n",
    "    \n",
    "    if len(magic_num_sum) == 1:\n",
    "        if verbose:\n",
    "            print(f'Magic number is {magic_num_sum} with order {n}.')\n",
    "        return True"
   ]
  },
  {
   "cell_type": "code",
   "execution_count": 5,
   "metadata": {},
   "outputs": [
    {
     "output_type": "execute_result",
     "data": {
      "text/plain": [
       "True"
      ]
     },
     "metadata": {},
     "execution_count": 5
    }
   ],
   "source": [
    "#note:\n",
    "np.fliplr(X).diagonal().sum() == np.flipud(X).diagonal().sum()"
   ]
  },
  {
   "cell_type": "code",
   "execution_count": 6,
   "metadata": {},
   "outputs": [
    {
     "output_type": "execute_result",
     "data": {
      "text/plain": [
       "True"
      ]
     },
     "metadata": {},
     "execution_count": 6
    }
   ],
   "source": [
    "#Also note:\n",
    "np.trace(X) == np.diagonal(X).sum()"
   ]
  },
  {
   "cell_type": "code",
   "execution_count": 7,
   "metadata": {},
   "outputs": [
    {
     "output_type": "stream",
     "name": "stdout",
     "text": [
      "Magic number is [34] with order 4.\n"
     ]
    },
    {
     "output_type": "execute_result",
     "data": {
      "text/plain": [
       "True"
      ]
     },
     "metadata": {},
     "execution_count": 7
    }
   ],
   "source": [
    "is_magic(X)"
   ]
  },
  {
   "cell_type": "code",
   "execution_count": 8,
   "metadata": {},
   "outputs": [
    {
     "output_type": "execute_result",
     "data": {
      "text/plain": [
       "array([[16,  3,  2, 13],\n",
       "       [ 5, 10, 11,  8],\n",
       "       [ 9,  6,  7, 12],\n",
       "       [ 4, 15, 14,  1]])"
      ]
     },
     "metadata": {},
     "execution_count": 8
    }
   ],
   "source": [
    "X"
   ]
  },
  {
   "source": [
    "## Fast Indexing: Gnomon Magic\n",
    "\n",
    "Dürer's square is actually a Gnomonic Magic Square – that is, each non-overlapping root subsquare bordering the four sides of the square ($2\\times 2$ subsquare), as well as the central subsquare, sums to the magic constant of the overarching square.\n",
    "\n",
    "The Gnomon is the portion of the sundial casting a shadow. In a way we also cast a magic projection on subarrays of our main magic square.\n",
    "\n",
    "We can verify this easily – in Numpy, arrays can be efficiently split with minimal logic, rather than looping over each element and hard-indexing.\n"
   ],
   "cell_type": "markdown",
   "metadata": {}
  },
  {
   "cell_type": "code",
   "execution_count": 9,
   "metadata": {},
   "outputs": [
    {
     "output_type": "execute_result",
     "data": {
      "text/plain": [
       "[array([[16,  3],\n",
       "        [ 5, 10]]),\n",
       " array([[ 2, 13],\n",
       "        [11,  8]]),\n",
       " array([[ 9,  6],\n",
       "        [ 4, 15]]),\n",
       " array([[ 7, 12],\n",
       "        [14,  1]]),\n",
       " array([[10, 11],\n",
       "        [ 6,  7]])]"
      ]
     },
     "metadata": {},
     "execution_count": 9
    }
   ],
   "source": [
    "a,b,c,d = [quadrant for sub_x in np.split(X,2, axis = 0) for quadrant in np.split(sub_x,2, axis = 1)]\n",
    "\n",
    "n = X.shape[0]\n",
    "\n",
    "n_subsquare = np.sqrt(n).astype(int)\n",
    "start = n//2 - (n_subsquare // 2)\n",
    "end = n//2 + (n_subsquare // 2)\n",
    "\n",
    "e = X[start:end,start:end]\n",
    "\n",
    "sections = [a, b, c, d, e]\n",
    "sections"
   ]
  },
  {
   "cell_type": "code",
   "execution_count": 10,
   "metadata": {},
   "outputs": [
    {
     "output_type": "stream",
     "name": "stdout",
     "text": [
      "{34}\n"
     ]
    }
   ],
   "source": [
    "print(set([sum(s.flatten()) for s in sections]))"
   ]
  },
  {
   "source": [
    "All quadrants sum to the magic number of 34. As such, we have verified the deliberate style of Dürer."
   ],
   "cell_type": "markdown",
   "metadata": {}
  },
  {
   "source": [
    "# Linear Algebra\n",
    "\n",
    "We will now move onto some essential linear algebra operations on the magic square."
   ],
   "cell_type": "markdown",
   "metadata": {}
  },
  {
   "cell_type": "code",
   "execution_count": 11,
   "metadata": {},
   "outputs": [
    {
     "output_type": "execute_result",
     "data": {
      "text/plain": [
       "array([[16,  3,  2, 13],\n",
       "       [ 5, 10, 11,  8],\n",
       "       [ 9,  6,  7, 12],\n",
       "       [ 4, 15, 14,  1]])"
      ]
     },
     "metadata": {},
     "execution_count": 11
    }
   ],
   "source": [
    "X"
   ]
  },
  {
   "source": [
    "## Rank\n",
    "\n",
    "The rank of a matrix is the number of its linearly independent columns. That is, the dimensionality of the vector space spanned by a matrix's columns (or rows) is given by its rank, such that the span is the smallest linear subspace containing a set of vectors describing the matrix.\n",
    "\n",
    "We can obtain the span of all linear combinations of some vectors $\\vec{u},\\vec{v}$ by computing $s\\vec{u} + t\\vec{v}$ for some scalar constants $s,t$. The dimensionality of the span of the row or column vectors of a matrix thus yields the row or column rank.\n",
    "\n",
    "We will proceed using Numpy, which proceeds using singular value decompositon (SVD):"
   ],
   "cell_type": "markdown",
   "metadata": {}
  },
  {
   "cell_type": "code",
   "execution_count": 21,
   "metadata": {},
   "outputs": [
    {
     "output_type": "execute_result",
     "data": {
      "text/plain": [
       "3"
      ]
     },
     "metadata": {},
     "execution_count": 21
    }
   ],
   "source": [
    "rank = np.linalg.matrix_rank(X)\n",
    "rank"
   ]
  },
  {
   "source": [
    "Thus we have a rank-deficient matrix, since $3 < 4$. 4 is the column-dimensionality of the Magic Square matrix but the columns only span 3 dimensions. Note that $rank(M) \\leq \\min (m,n)$ for an $m\\times n$ matrix $M$.\n",
    "\n",
    "Note how Numpy uses the property that the rank is equal to the number of nonzero singular values as follows:"
   ],
   "cell_type": "markdown",
   "metadata": {}
  },
  {
   "cell_type": "code",
   "execution_count": 25,
   "metadata": {},
   "outputs": [
    {
     "output_type": "execute_result",
     "data": {
      "text/plain": [
       "array([3.40000000e+01, 1.78885438e+01, 4.47213595e+00, 6.25921042e-16])"
      ]
     },
     "metadata": {},
     "execution_count": 25
    }
   ],
   "source": [
    "u,s,vh = np.linalg.svd(X)\n",
    "s"
   ]
  },
  {
   "source": [
    "We have 4 nonzero singular values, but the final value is extremely small. Numpy therefore considers this zero as the default tolerance is computed as ` M.max()*max(M.shape)*eps `."
   ],
   "cell_type": "markdown",
   "metadata": {}
  },
  {
   "cell_type": "code",
   "execution_count": 29,
   "metadata": {},
   "outputs": [
    {
     "output_type": "execute_result",
     "data": {
      "text/plain": [
       "1.4210854715202004e-14"
      ]
     },
     "metadata": {},
     "execution_count": 29
    }
   ],
   "source": [
    "eps = np.finfo(float).eps\n",
    "tol = X.max()*max(X.shape)*eps\n",
    "tol"
   ]
  },
  {
   "cell_type": "code",
   "execution_count": 36,
   "metadata": {},
   "outputs": [
    {
     "output_type": "execute_result",
     "data": {
      "text/plain": [
       "True"
      ]
     },
     "metadata": {},
     "execution_count": 36
    }
   ],
   "source": [
    "rank == len(s[s>tol])"
   ]
  },
  {
   "cell_type": "code",
   "execution_count": 37,
   "metadata": {},
   "outputs": [
    {
     "output_type": "execute_result",
     "data": {
      "text/plain": [
       "3"
      ]
     },
     "metadata": {},
     "execution_count": 37
    }
   ],
   "source": [
    "rank"
   ]
  },
  {
   "source": [
    "## Determinant \n",
    "\n",
    "The determinant is a useful encoding of the linear transformation described by a particular $n\\times n$ matrix. In geometric terms, it is analagous to the volume scaling factor of the linear transformation described by the matrix.\n",
    "\n",
    "In other words, this is the volume of the parallelepiped (a rhomboid prism; a cube is to a square as a parallelepiped is to a parallelogram) spanned by the vectors (row or column) of a matrix. The sign of the determinant of a matrix denotes whether or not the orientation of a vector space is preserved by the transformation described by the matrix.\n",
    "\n",
    "Two simple examples, then Dürer's:"
   ],
   "cell_type": "markdown",
   "metadata": {}
  },
  {
   "cell_type": "code",
   "execution_count": 49,
   "metadata": {},
   "outputs": [],
   "source": [
    "A = np.array([[0,-1],[1,0]])\n",
    "B = np.array([[-2,0],[0,2]])"
   ]
  },
  {
   "source": [
    "$A$ describes a 90-degree counterclockwise (↪️) rotation.\n",
    "\n",
    "$B$ describes a scaling by a factor of $2$ as well as a reflection about the $y$ axis."
   ],
   "cell_type": "markdown",
   "metadata": {}
  },
  {
   "cell_type": "code",
   "execution_count": 50,
   "metadata": {},
   "outputs": [
    {
     "output_type": "stream",
     "name": "stdout",
     "text": [
      "1.0\n-4.0\n"
     ]
    }
   ],
   "source": [
    "print(np.linalg.det(A), np.linalg.det(B), sep='\\n')"
   ]
  },
  {
   "source": [
    "A simple rotation does not change \"volume\" nor orientation. A scaling on $x,y$ and a reflection about the $y$ axis is encoded in the determinant, however: the \"volume\" is changed in total by a factor of $4$ and the sign is negative, indicating a change in the orientation of previous vector space.\n",
    "\n",
    "These are simple enough to compute by hand, but even a $4\\times 4$ dimensional matrix as provided by Dürer is more onerous. Thankfully, Numpy works well:"
   ],
   "cell_type": "markdown",
   "metadata": {}
  },
  {
   "cell_type": "code",
   "execution_count": 54,
   "metadata": {},
   "outputs": [
    {
     "output_type": "execute_result",
     "data": {
      "text/plain": [
       "1.449507180950607e-12"
      ]
     },
     "metadata": {},
     "execution_count": 54
    }
   ],
   "source": [
    "X = np.array([[16, 3,  2, 13],\n",
    "              [5, 10, 11, 8],\n",
    "              [9,  6,  7, 12],\n",
    "              [4, 15, 14,  1]])\n",
    "              \n",
    "np.linalg.det(X)"
   ]
  },
  {
   "source": [
    "An interesting observation: Dürer does *not* provide a *pandiagonal magic square*, as the determinant of this order-4 magic square is near to, but $not$, zero. In other words, if the broken diagonals (for instance, $16,11,12,15$, or $3,8,7,4$) summed to the magic number, the determinant would be zero [^1]."
   ],
   "cell_type": "markdown",
   "metadata": {}
  },
  {
   "source": [
    "## Eigenvectors and Eigenvalues\n",
    "\n",
    "We solve the characteristic equation of a matrix $M$ to find eigenvalues $\\vec{\\lambda}$. That is, we solve $|M - \\lambda I| = 0$ where $I$ is the identity matrix ($I_{ij} = 1 \\ s.t\\  i=j, 0\\ s.t.\\ i\\not = j$) of identical dimensionality to $M$.\n",
    "\n",
    "In the case of Dürer's magic square, we simply subtract a value $\\lambda$ from each element on the main diagonal and set the resulting matrix's determinant equal to zero.\n",
    "\n",
    "We can quickly avoid rote work using Numpy:"
   ],
   "cell_type": "markdown",
   "metadata": {}
  },
  {
   "cell_type": "code",
   "execution_count": 55,
   "metadata": {},
   "outputs": [
    {
     "output_type": "execute_result",
     "data": {
      "text/plain": [
       "array([[ 5.00000000e-01,  8.16496581e-01,  2.23606798e-01,\n",
       "        -4.08248290e-01],\n",
       "       [ 5.00000000e-01, -4.08248290e-01, -6.70820393e-01,\n",
       "         0.00000000e+00],\n",
       "       [ 5.00000000e-01, -1.76752662e-16,  6.70820393e-01,\n",
       "        -4.08248290e-01],\n",
       "       [ 5.00000000e-01, -4.08248290e-01, -2.23606798e-01,\n",
       "         8.16496581e-01]])"
      ]
     },
     "metadata": {},
     "execution_count": 55
    }
   ],
   "source": [
    "eigenvals, eigenvects = np.linalg.eig(X)\n",
    "eigenvects"
   ]
  },
  {
   "cell_type": "code",
   "execution_count": 61,
   "metadata": {},
   "outputs": [
    {
     "output_type": "execute_result",
     "data": {
      "text/plain": [
       "array([ 3.40000000e+01,  8.00000000e+00,  4.84818517e-17, -8.00000000e+00])"
      ]
     },
     "metadata": {},
     "execution_count": 61
    }
   ],
   "source": [
    "eigenvals"
   ]
  },
  {
   "source": [
    "Note the interesting property of magic squares: the principal (largest) eigenvalue of a magic square composed of positive\n",
    "elements **is its magic constant**! Of further note, but not applicable here, is the observation that if a magic square has some negative elements, then its magic\n",
    "constant is one of its eigenvalues.[^1]\n",
    "\n",
    "This gives us another way to find the magic number of a magic square."
   ],
   "cell_type": "markdown",
   "metadata": {}
  },
  {
   "cell_type": "code",
   "execution_count": 63,
   "metadata": {},
   "outputs": [
    {
     "output_type": "stream",
     "name": "stdout",
     "text": [
      "Magic number is [34] with order 4.\n"
     ]
    },
    {
     "output_type": "execute_result",
     "data": {
      "text/plain": [
       "34"
      ]
     },
     "metadata": {},
     "execution_count": 63
    }
   ],
   "source": [
    "def get_magic_number(M):\n",
    "    if is_magic(M) and is_square(M):\n",
    "        return np.linalg.eig(X)[0].round(1).astype(int)[0]\n",
    "        \n",
    "get_magic_number(X)"
   ]
  },
  {
   "cell_type": "code",
   "execution_count": null,
   "metadata": {},
   "outputs": [],
   "source": []
  },
  {
   "cell_type": "code",
   "execution_count": null,
   "metadata": {},
   "outputs": [],
   "source": []
  },
  {
   "cell_type": "code",
   "execution_count": null,
   "metadata": {},
   "outputs": [],
   "source": []
  },
  {
   "cell_type": "code",
   "execution_count": null,
   "metadata": {},
   "outputs": [],
   "source": []
  },
  {
   "cell_type": "code",
   "execution_count": null,
   "metadata": {},
   "outputs": [],
   "source": []
  },
  {
   "cell_type": "code",
   "execution_count": null,
   "metadata": {},
   "outputs": [],
   "source": []
  }
 ]
}