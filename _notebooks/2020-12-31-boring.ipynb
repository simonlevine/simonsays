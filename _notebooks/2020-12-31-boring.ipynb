{
 "metadata": {
  "language_info": {
   "codemirror_mode": {
    "name": "ipython",
    "version": 3
   },
   "file_extension": ".py",
   "mimetype": "text/x-python",
   "name": "python",
   "nbconvert_exporter": "python",
   "pygments_lexer": "ipython3",
   "version": "3.7.6-final"
  },
  "orig_nbformat": 2,
  "kernelspec": {
   "name": "python37664bitbasecondab8a2a0b1ed86479d9f777b0a8cf633d1",
   "display_name": "Python 3.7.6 64-bit ('base': conda)",
   "language": "python"
  }
 },
 "nbformat": 4,
 "nbformat_minor": 2,
 "cells": [
  {
   "source": [
    "# It's better to be evil than boring\n",
    "> how healthcare administration will look within 10 years\n",
    "\n",
    "- toc: true \n",
    "- badges: true\n",
    "- comments: true\n",
    "- categories: [jupyter]\n"
   ],
   "cell_type": "markdown",
   "metadata": {}
  },
  {
   "source": [
    "## Background\n",
    "\n",
    "Healthcare is, apart from university tuition, one of the more rapidly inflating services on the market. Inconvenient as it might be, much of the reason behind the crushing costs of paying for healthcare has little to do with what you might expect. The price of the cancer drug crizotinib was actually developed on a shoestring, judging by the name. And yeah, it stings to think about how our copayments trickle their way into the Mercedes-AMG option sheet between some surgeon's sweaty thumbs, but there aren't that many surgeons. In reality, a large reason behind cost inflation in healthcare has nothing to do with the evil stuff. It has to do with the *boring* stuff.\n",
    "\n",
    "In this post, I will look at a major chapter of the administrative nightmare of healthcare: manual medical coding. We will quickly see how a large cost center in administration will likely be totally automated in the near future, and my hope is that you will be left wondering how this is still possibly done largely by hand."
   ],
   "cell_type": "markdown",
   "metadata": {}
  },
  {
   "cell_type": "code",
   "execution_count": null,
   "metadata": {},
   "outputs": [],
   "source": []
  }
 ]
}